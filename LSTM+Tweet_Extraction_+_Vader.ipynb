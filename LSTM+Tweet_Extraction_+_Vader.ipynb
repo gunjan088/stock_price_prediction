{
  "nbformat": 4,
  "nbformat_minor": 0,
  "metadata": {
    "colab": {
      "provenance": [],
      "authorship_tag": "ABX9TyNJf6XFHkRPKwjXG7XoO0+O",
      "include_colab_link": true
    },
    "kernelspec": {
      "name": "python3",
      "display_name": "Python 3"
    },
    "language_info": {
      "name": "python"
    },
    "accelerator": "GPU"
  },
  "cells": [
    {
      "cell_type": "markdown",
      "metadata": {
        "id": "view-in-github",
        "colab_type": "text"
      },
      "source": [
        "<a href=\"https://colab.research.google.com/github/Aayush-Jain01/AI_For_Economics_Term_Project/blob/main/LSTM%2BTweet_Extraction_%2B_Vader.ipynb\" target=\"_parent\"><img src=\"https://colab.research.google.com/assets/colab-badge.svg\" alt=\"Open In Colab\"/></a>"
      ]
    },
    {
      "cell_type": "code",
      "execution_count": null,
      "metadata": {
        "id": "KyCIGLkb2x-B"
      },
      "outputs": [],
      "source": [
        "from textblob import TextBlob"
      ]
    },
    {
      "cell_type": "code",
      "source": [
        "import nltk\n",
        "\n",
        "nltk.download('vader_lexicon')\n"
      ],
      "metadata": {
        "colab": {
          "base_uri": "https://localhost:8080/"
        },
        "id": "8Z79aO7-ARPO",
        "outputId": "0297e798-5697-4f63-f223-646d41d962cd"
      },
      "execution_count": null,
      "outputs": [
        {
          "output_type": "stream",
          "name": "stdout",
          "text": [
            "[nltk_data] Downloading package vader_lexicon to /root/nltk_data...\n"
          ]
        },
        {
          "output_type": "execute_result",
          "data": {
            "text/plain": [
              "True"
            ]
          },
          "metadata": {},
          "execution_count": 3
        }
      ]
    },
    {
      "cell_type": "code",
      "source": [
        "from nltk.sentiment.vader import SentimentIntensityAnalyzer\n",
        "\n",
        "sentiment = SentimentIntensityAnalyzer()"
      ],
      "metadata": {
        "colab": {
          "base_uri": "https://localhost:8080/"
        },
        "id": "vqW_MHFGAZ4I",
        "outputId": "a7113676-21c0-453a-9f4b-ff11e613df31"
      },
      "execution_count": null,
      "outputs": [
        {
          "output_type": "stream",
          "name": "stderr",
          "text": [
            "/usr/local/lib/python3.7/dist-packages/nltk/twitter/__init__.py:20: UserWarning: The twython library has not been installed. Some functionality from the twitter package will not be available.\n",
            "  warnings.warn(\"The twython library has not been installed. \"\n"
          ]
        }
      ]
    },
    {
      "cell_type": "code",
      "source": [
        "print(TextBlob(\"good\").sentiment.polarity)"
      ],
      "metadata": {
        "colab": {
          "base_uri": "https://localhost:8080/"
        },
        "id": "YUCtIudT3O7_",
        "outputId": "b27f081e-6129-4d7e-e315-83daaa04f9cc"
      },
      "execution_count": null,
      "outputs": [
        {
          "output_type": "stream",
          "name": "stdout",
          "text": [
            "0.7\n"
          ]
        }
      ]
    },
    {
      "cell_type": "code",
      "source": [
        "print(TextBlob(\"bad\").sentiment.polarity)"
      ],
      "metadata": {
        "colab": {
          "base_uri": "https://localhost:8080/"
        },
        "id": "dixOjq6r3aMw",
        "outputId": "b199ebf8-3be5-4caa-bf90-ecd78ed4b139"
      },
      "execution_count": null,
      "outputs": [
        {
          "output_type": "stream",
          "name": "stdout",
          "text": [
            "-0.6999999999999998\n"
          ]
        }
      ]
    },
    {
      "cell_type": "code",
      "source": [
        "print(TextBlob(\"The restaurant was not that great\").sentiment.polarity)"
      ],
      "metadata": {
        "colab": {
          "base_uri": "https://localhost:8080/"
        },
        "id": "nhqKM0cK3haJ",
        "outputId": "0876c3ce-f41a-41da-8f07-47c585f0168d"
      },
      "execution_count": null,
      "outputs": [
        {
          "output_type": "stream",
          "name": "stdout",
          "text": [
            "0.8\n"
          ]
        }
      ]
    },
    {
      "cell_type": "code",
      "source": [
        "a = sentiment.polarity_scores(\"The restaurant was not that great\") #Vader is better \n",
        "print(a)"
      ],
      "metadata": {
        "colab": {
          "base_uri": "https://localhost:8080/"
        },
        "id": "R-Kzty7yBBa7",
        "outputId": "4f1344d7-5ebb-4965-a1ab-d71137271dad"
      },
      "execution_count": null,
      "outputs": [
        {
          "output_type": "stream",
          "name": "stdout",
          "text": [
            "{'neg': 0.397, 'neu': 0.603, 'pos': 0.0, 'compound': -0.5096}\n"
          ]
        }
      ]
    },
    {
      "cell_type": "code",
      "source": [
        "! pip3 install yfinance"
      ],
      "metadata": {
        "colab": {
          "base_uri": "https://localhost:8080/"
        },
        "id": "1gWVfpPw8RDv",
        "outputId": "1d007409-85a9-4b6d-c617-aea4f9fcaf62"
      },
      "execution_count": null,
      "outputs": [
        {
          "output_type": "stream",
          "name": "stdout",
          "text": [
            "Collecting yfinance\n",
            "  Downloading yfinance-0.1.67-py2.py3-none-any.whl (25 kB)\n",
            "Requirement already satisfied: requests>=2.20 in /usr/local/lib/python3.7/dist-packages (from yfinance) (2.23.0)\n",
            "Requirement already satisfied: pandas>=0.24 in /usr/local/lib/python3.7/dist-packages (from yfinance) (1.1.5)\n",
            "Requirement already satisfied: numpy>=1.15 in /usr/local/lib/python3.7/dist-packages (from yfinance) (1.19.5)\n",
            "Requirement already satisfied: multitasking>=0.0.7 in /usr/local/lib/python3.7/dist-packages (from yfinance) (0.0.10)\n",
            "Collecting lxml>=4.5.1\n",
            "  Downloading lxml-4.6.4-cp37-cp37m-manylinux_2_17_x86_64.manylinux2014_x86_64.manylinux_2_24_x86_64.whl (6.3 MB)\n",
            "\u001b[K     |████████████████████████████████| 6.3 MB 9.8 MB/s \n",
            "\u001b[?25hRequirement already satisfied: python-dateutil>=2.7.3 in /usr/local/lib/python3.7/dist-packages (from pandas>=0.24->yfinance) (2.8.2)\n",
            "Requirement already satisfied: pytz>=2017.2 in /usr/local/lib/python3.7/dist-packages (from pandas>=0.24->yfinance) (2018.9)\n",
            "Requirement already satisfied: six>=1.5 in /usr/local/lib/python3.7/dist-packages (from python-dateutil>=2.7.3->pandas>=0.24->yfinance) (1.15.0)\n",
            "Requirement already satisfied: urllib3!=1.25.0,!=1.25.1,<1.26,>=1.21.1 in /usr/local/lib/python3.7/dist-packages (from requests>=2.20->yfinance) (1.24.3)\n",
            "Requirement already satisfied: certifi>=2017.4.17 in /usr/local/lib/python3.7/dist-packages (from requests>=2.20->yfinance) (2021.10.8)\n",
            "Requirement already satisfied: chardet<4,>=3.0.2 in /usr/local/lib/python3.7/dist-packages (from requests>=2.20->yfinance) (3.0.4)\n",
            "Requirement already satisfied: idna<3,>=2.5 in /usr/local/lib/python3.7/dist-packages (from requests>=2.20->yfinance) (2.10)\n",
            "Installing collected packages: lxml, yfinance\n",
            "  Attempting uninstall: lxml\n",
            "    Found existing installation: lxml 4.2.6\n",
            "    Uninstalling lxml-4.2.6:\n",
            "      Successfully uninstalled lxml-4.2.6\n",
            "Successfully installed lxml-4.6.4 yfinance-0.1.67\n"
          ]
        }
      ]
    },
    {
      "cell_type": "code",
      "source": [
        "! pip install yahooquery"
      ],
      "metadata": {
        "colab": {
          "base_uri": "https://localhost:8080/"
        },
        "id": "BN9jj9Dv-dMK",
        "outputId": "6391c76e-8866-43dd-cd5c-f3f300c4959f"
      },
      "execution_count": null,
      "outputs": [
        {
          "output_type": "stream",
          "name": "stdout",
          "text": [
            "Collecting yahooquery\n",
            "  Downloading yahooquery-2.2.15-py2.py3-none-any.whl (46 kB)\n",
            "\u001b[?25l\r\u001b[K     |███████                         | 10 kB 18.3 MB/s eta 0:00:01\r\u001b[K     |██████████████▏                 | 20 kB 21.4 MB/s eta 0:00:01\r\u001b[K     |█████████████████████▏          | 30 kB 23.4 MB/s eta 0:00:01\r\u001b[K     |████████████████████████████▎   | 40 kB 22.8 MB/s eta 0:00:01\r\u001b[K     |████████████████████████████████| 46 kB 2.6 MB/s \n",
            "\u001b[?25hRequirement already satisfied: pandas>=0.24.0 in /usr/local/lib/python3.7/dist-packages (from yahooquery) (1.1.5)\n",
            "Requirement already satisfied: lxml>=4.6.2 in /usr/local/lib/python3.7/dist-packages (from yahooquery) (4.6.4)\n",
            "Collecting requests-futures>=1.0.0\n",
            "  Downloading requests_futures-1.0.0-py2.py3-none-any.whl (7.4 kB)\n",
            "Requirement already satisfied: tqdm>=4.54.1 in /usr/local/lib/python3.7/dist-packages (from yahooquery) (4.62.3)\n",
            "Requirement already satisfied: numpy>=1.15.4 in /usr/local/lib/python3.7/dist-packages (from pandas>=0.24.0->yahooquery) (1.19.5)\n",
            "Requirement already satisfied: pytz>=2017.2 in /usr/local/lib/python3.7/dist-packages (from pandas>=0.24.0->yahooquery) (2018.9)\n",
            "Requirement already satisfied: python-dateutil>=2.7.3 in /usr/local/lib/python3.7/dist-packages (from pandas>=0.24.0->yahooquery) (2.8.2)\n",
            "Requirement already satisfied: six>=1.5 in /usr/local/lib/python3.7/dist-packages (from python-dateutil>=2.7.3->pandas>=0.24.0->yahooquery) (1.15.0)\n",
            "Requirement already satisfied: requests>=1.2.0 in /usr/local/lib/python3.7/dist-packages (from requests-futures>=1.0.0->yahooquery) (2.23.0)\n",
            "Requirement already satisfied: certifi>=2017.4.17 in /usr/local/lib/python3.7/dist-packages (from requests>=1.2.0->requests-futures>=1.0.0->yahooquery) (2021.10.8)\n",
            "Requirement already satisfied: idna<3,>=2.5 in /usr/local/lib/python3.7/dist-packages (from requests>=1.2.0->requests-futures>=1.0.0->yahooquery) (2.10)\n",
            "Requirement already satisfied: chardet<4,>=3.0.2 in /usr/local/lib/python3.7/dist-packages (from requests>=1.2.0->requests-futures>=1.0.0->yahooquery) (3.0.4)\n",
            "Requirement already satisfied: urllib3!=1.25.0,!=1.25.1,<1.26,>=1.21.1 in /usr/local/lib/python3.7/dist-packages (from requests>=1.2.0->requests-futures>=1.0.0->yahooquery) (1.24.3)\n",
            "Installing collected packages: requests-futures, yahooquery\n",
            "Successfully installed requests-futures-1.0.0 yahooquery-2.2.15\n"
          ]
        }
      ]
    },
    {
      "cell_type": "code",
      "source": [
        "from yahooquery import Ticker\n",
        "\n",
        "aapl = Ticker('aapl')\n",
        "\n",
        "aapl.summary_detail\n"
      ],
      "metadata": {
        "colab": {
          "base_uri": "https://localhost:8080/"
        },
        "id": "uT3r8F3d-gzC",
        "outputId": "b43e5a10-6527-49b8-a945-9c2f91173547"
      },
      "execution_count": null,
      "outputs": [
        {
          "output_type": "execute_result",
          "data": {
            "text/plain": [
              "{'aapl': {'algorithm': None,\n",
              "  'ask': 179.85,\n",
              "  'askSize': 1800,\n",
              "  'averageDailyVolume10Day': 123402715,\n",
              "  'averageVolume': 85328729,\n",
              "  'averageVolume10days': 123402715,\n",
              "  'beta': 1.203116,\n",
              "  'bid': 179.84,\n",
              "  'bidSize': 1000,\n",
              "  'currency': 'USD',\n",
              "  'dayHigh': 179.63,\n",
              "  'dayLow': 174.7,\n",
              "  'dividendRate': 0.88,\n",
              "  'dividendYield': 0.0049,\n",
              "  'exDividendDate': '2021-11-05 00:00:00',\n",
              "  'fiftyDayAverage': 153.4292,\n",
              "  'fiftyTwoWeekHigh': 179.63,\n",
              "  'fiftyTwoWeekLow': 116.21,\n",
              "  'fiveYearAvgDividendYield': 1.2,\n",
              "  'forwardPE': 29.178862,\n",
              "  'fromCurrency': None,\n",
              "  'lastMarket': None,\n",
              "  'marketCap': 2944128516096,\n",
              "  'maxAge': 1,\n",
              "  'open': 175.205,\n",
              "  'payoutRatio': 0.1515,\n",
              "  'previousClose': 174.56,\n",
              "  'priceHint': 2,\n",
              "  'priceToSalesTrailing12Months': 8.048091,\n",
              "  'regularMarketDayHigh': 179.63,\n",
              "  'regularMarketDayLow': 174.7,\n",
              "  'regularMarketOpen': 175.205,\n",
              "  'regularMarketPreviousClose': 174.56,\n",
              "  'regularMarketVolume': 115402748,\n",
              "  'toCurrency': None,\n",
              "  'tradeable': False,\n",
              "  'trailingAnnualDividendRate': 0.85,\n",
              "  'trailingAnnualDividendYield': 0.004869386,\n",
              "  'trailingPE': 31.98752,\n",
              "  'twoHundredDayAverage': 140.638,\n",
              "  'volume': 115402748}}"
            ]
          },
          "metadata": {},
          "execution_count": 11
        }
      ]
    },
    {
      "cell_type": "code",
      "source": [
        "import yfinance as yf\n",
        "ticker_list = [\"MSFT\"]\n",
        "path = \"/content/\"\n",
        "filename = \"Microsoft_Data\"\n",
        "start_date = \"2009-09-21\"\n",
        "end_date = \"2021-12-1\"\n",
        "\n",
        "for interval in [\"1m\", \"5m\", \"15m\", \"30m\", \"1hr\"]:\n",
        "  stock_data = yf.download(ticker_list, start= start_date, end= end_date, interval= interval)\n",
        "  stock_data.to_csv(path + filename + \"-\" + interval + \"-\" + start_date + \"-\" + end_date + \"-\" + interval + \".csv\")\n",
        "\n"
      ],
      "metadata": {
        "colab": {
          "base_uri": "https://localhost:8080/"
        },
        "id": "OC1k7qPY4G5D",
        "outputId": "ea557126-b4cd-4ffc-c934-0696cf4f0753"
      },
      "execution_count": null,
      "outputs": [
        {
          "output_type": "stream",
          "name": "stdout",
          "text": [
            "[*********************100%***********************]  1 of 1 completed\n",
            "\n",
            "1 Failed download:\n",
            "- MSFT: 1m data not available for startTime=1253491200 and endTime=1638316800. Only 7 days worth of 1m granularity data are allowed to be fetched per request.\n",
            "[*********************100%***********************]  1 of 1 completed\n",
            "\n",
            "1 Failed download:\n",
            "- MSFT: 5m data not available for startTime=1253491200 and endTime=1638316800. The requested range must be within the last 60 days.\n",
            "[*********************100%***********************]  1 of 1 completed\n",
            "\n",
            "1 Failed download:\n",
            "- MSFT: 15m data not available for startTime=1253491200 and endTime=1638316800. The requested range must be within the last 60 days.\n",
            "[*********************100%***********************]  1 of 1 completed\n",
            "\n",
            "1 Failed download:\n",
            "- MSFT: 15m data not available for startTime=1253491200 and endTime=1638316800. The requested range must be within the last 60 days.\n",
            "[*********************100%***********************]  1 of 1 completed\n",
            "\n",
            "1 Failed download:\n",
            "- MSFT: Invalid input - interval=1hr is not supported. Valid intervals: [1m, 2m, 5m, 15m, 30m, 60m, 90m, 1h, 1d, 5d, 1wk, 1mo, 3mo]\n"
          ]
        }
      ]
    },
    {
      "cell_type": "code",
      "source": [
        "! pip3 install tweepy --upgrade"
      ],
      "metadata": {
        "colab": {
          "base_uri": "https://localhost:8080/"
        },
        "id": "6Ore_rChFhmt",
        "outputId": "11c84e74-766c-4677-b8ee-d752eb7fe4f2"
      },
      "execution_count": null,
      "outputs": [
        {
          "output_type": "stream",
          "name": "stdout",
          "text": [
            "Requirement already satisfied: tweepy in /usr/local/lib/python3.7/dist-packages (3.10.0)\n",
            "Collecting tweepy\n",
            "  Downloading tweepy-4.4.0-py2.py3-none-any.whl (65 kB)\n",
            "\u001b[K     |████████████████████████████████| 65 kB 2.2 MB/s \n",
            "\u001b[?25hRequirement already satisfied: requests<3,>=2.11.1 in /usr/local/lib/python3.7/dist-packages (from tweepy) (2.23.0)\n",
            "Requirement already satisfied: requests-oauthlib<2,>=1.0.0 in /usr/local/lib/python3.7/dist-packages (from tweepy) (1.3.0)\n",
            "Requirement already satisfied: certifi>=2017.4.17 in /usr/local/lib/python3.7/dist-packages (from requests<3,>=2.11.1->tweepy) (2021.10.8)\n",
            "Requirement already satisfied: idna<3,>=2.5 in /usr/local/lib/python3.7/dist-packages (from requests<3,>=2.11.1->tweepy) (2.10)\n",
            "Requirement already satisfied: urllib3!=1.25.0,!=1.25.1,<1.26,>=1.21.1 in /usr/local/lib/python3.7/dist-packages (from requests<3,>=2.11.1->tweepy) (1.24.3)\n",
            "Requirement already satisfied: chardet<4,>=3.0.2 in /usr/local/lib/python3.7/dist-packages (from requests<3,>=2.11.1->tweepy) (3.0.4)\n",
            "Requirement already satisfied: oauthlib>=3.0.0 in /usr/local/lib/python3.7/dist-packages (from requests-oauthlib<2,>=1.0.0->tweepy) (3.1.1)\n",
            "Installing collected packages: tweepy\n",
            "  Attempting uninstall: tweepy\n",
            "    Found existing installation: tweepy 3.10.0\n",
            "    Uninstalling tweepy-3.10.0:\n",
            "      Successfully uninstalled tweepy-3.10.0\n",
            "Successfully installed tweepy-4.4.0\n"
          ]
        }
      ]
    },
    {
      "cell_type": "code",
      "source": [
        "import os\n",
        "os.environ[\"BEARER_TOKEN\"] = 'AAAAAAAAAAAAAAAAAAAAAF3EWgEAAAAALyiGBw2dczuo%2FFfQKmnzjbIn5co%3D4JG5uoNFwSGaj2o4o2KVuFv4MaGXWrO63H8Uwjok8vLbOh7uTY'"
      ],
      "metadata": {
        "id": "kZcl6IRaHe92"
      },
      "execution_count": null,
      "outputs": []
    },
    {
      "cell_type": "code",
      "source": [
        "import tweepy as tw\n",
        "import pandas as pd\n",
        "import datetime as dt\n",
        "import time\n",
        "BEARER_TOKEN = os.getenv(\"BEARER_TOKEN\")\n",
        "client = tw.Client(bearer_token= BEARER_TOKEN)\n",
        "query = '#Microsoft -is:retweet lang:en'\n",
        "initial_tweets = []\n",
        "for response in tw.Paginator(client.search_recent_tweets, \n",
        "                             query= query, \n",
        "                             user_fields = ['username', 'public_metrics', 'description', 'location'], \n",
        "                             tweet_fields=['created_at', 'geo', 'public_metrics', 'text'], \n",
        "                             expansions= ['author_id'], max_results= 100, limit= 1000):\n",
        "  time.sleep(1)\n",
        "  initial_tweets.append(response)\n",
        "# tweets = client.search_recent_tweets(query=query, tweet_fields=['context_annotations', 'created_at'], max_results=100)\n",
        "# data=pd.DataFrame(data=[[tweet.created_at.date(), tweet.text]for tweet in tweets.data],columns=['Date','Tweets'])\n",
        "# print(data)\n",
        "# print(initial_tweets[0].data)\n",
        "# data = pd.DataFrame(initial_tweets[0][\"data\"])\n",
        "# data.to_csv('data.csv')"
      ],
      "metadata": {
        "id": "ninXG7cG70Zw"
      },
      "execution_count": null,
      "outputs": []
    },
    {
      "cell_type": "code",
      "source": [
        "result = []\n",
        "user_dict = {}\n",
        "for response in initial_tweets:\n",
        "    # Take all of the users, and put them into a dictionary of dictionaries with the info we want to keep\n",
        "    for user in response.includes['users']:\n",
        "        user_dict[user.id] = {'username': user.username, \n",
        "                              'location': user.location\n",
        "                             }\n",
        "    for tweet in response.data:\n",
        "        # For each tweet, find the author's information\n",
        "        author_info = user_dict[tweet.author_id]\n",
        "        # Put all of the information we want to keep in a single dictionary for each tweet\n",
        "        result.append({'search_word' : \"#Microsoft\",\n",
        "                       'username': author_info['username'],\n",
        "                       'location': author_info['location'],\n",
        "                       'text': tweet.text,\n",
        "                       'created_at': tweet.created_at,\n",
        "                      })\n",
        "\n",
        "# Change this list of dictionaries into a dataframe\n",
        "# df = pd.DataFrame(result, columns= [\"search_word\", \"user\", \"location\", \"text\", \"date\"])\n",
        "df = pd.DataFrame(result)"
      ],
      "metadata": {
        "id": "IL3I5_1hQWCQ"
      },
      "execution_count": null,
      "outputs": []
    },
    {
      "cell_type": "code",
      "source": [
        "df"
      ],
      "metadata": {
        "colab": {
          "base_uri": "https://localhost:8080/",
          "height": 424
        },
        "id": "T_7M__MPh8pg",
        "outputId": "4c8cd1aa-c16b-4d32-ce58-4f31349bdca8"
      },
      "execution_count": null,
      "outputs": [
        {
          "output_type": "execute_result",
          "data": {
            "text/html": [
              "<div>\n",
              "<style scoped>\n",
              "    .dataframe tbody tr th:only-of-type {\n",
              "        vertical-align: middle;\n",
              "    }\n",
              "\n",
              "    .dataframe tbody tr th {\n",
              "        vertical-align: top;\n",
              "    }\n",
              "\n",
              "    .dataframe thead th {\n",
              "        text-align: right;\n",
              "    }\n",
              "</style>\n",
              "<table border=\"1\" class=\"dataframe\">\n",
              "  <thead>\n",
              "    <tr style=\"text-align: right;\">\n",
              "      <th></th>\n",
              "      <th>search_word</th>\n",
              "      <th>username</th>\n",
              "      <th>location</th>\n",
              "      <th>text</th>\n",
              "      <th>created_at</th>\n",
              "    </tr>\n",
              "  </thead>\n",
              "  <tbody>\n",
              "    <tr>\n",
              "      <th>0</th>\n",
              "      <td>#Microsoft</td>\n",
              "      <td>FutureProofN</td>\n",
              "      <td>Colorado Springs, CO</td>\n",
              "      <td>#Future is now! @futureproofn #microsoft Follo...</td>\n",
              "      <td>2021-12-11 18:35:27+00:00</td>\n",
              "    </tr>\n",
              "    <tr>\n",
              "      <th>1</th>\n",
              "      <td>#Microsoft</td>\n",
              "      <td>DrKatrinaAdkins</td>\n",
              "      <td>Chattanooga, TN #CHA</td>\n",
              "      <td>SHI_Intl: Microsoft 365 prices will be increas...</td>\n",
              "      <td>2021-12-11 18:32:19+00:00</td>\n",
              "    </tr>\n",
              "    <tr>\n",
              "      <th>2</th>\n",
              "      <td>#Microsoft</td>\n",
              "      <td>GiacomCM</td>\n",
              "      <td>United Kingdom</td>\n",
              "      <td>Are you using Azure Virtual Desktop yet? This ...</td>\n",
              "      <td>2021-12-11 18:30:00+00:00</td>\n",
              "    </tr>\n",
              "    <tr>\n",
              "      <th>3</th>\n",
              "      <td>#Microsoft</td>\n",
              "      <td>DivisionSec</td>\n",
              "      <td>UK</td>\n",
              "      <td>Just passed the az900 😁 thanks to @microsoft f...</td>\n",
              "      <td>2021-12-11 18:29:30+00:00</td>\n",
              "    </tr>\n",
              "    <tr>\n",
              "      <th>4</th>\n",
              "      <td>#Microsoft</td>\n",
              "      <td>TeamPatriot007</td>\n",
              "      <td>New Delhi, India</td>\n",
              "      <td>#include&amp;lt;stdio.h&amp;gt;\\n{\\nprintf{\"#satan #AI...</td>\n",
              "      <td>2021-12-11 18:26:43+00:00</td>\n",
              "    </tr>\n",
              "    <tr>\n",
              "      <th>...</th>\n",
              "      <td>...</td>\n",
              "      <td>...</td>\n",
              "      <td>...</td>\n",
              "      <td>...</td>\n",
              "      <td>...</td>\n",
              "    </tr>\n",
              "    <tr>\n",
              "      <th>9939</th>\n",
              "      <td>#Microsoft</td>\n",
              "      <td>AnothPerso</td>\n",
              "      <td>None</td>\n",
              "      <td>@IamLaylaBrown $MNW @MNWSupplyChain is optimiz...</td>\n",
              "      <td>2021-12-04 18:47:53+00:00</td>\n",
              "    </tr>\n",
              "    <tr>\n",
              "      <th>9940</th>\n",
              "      <td>#Microsoft</td>\n",
              "      <td>jsilvani</td>\n",
              "      <td>Detroit, MI</td>\n",
              "      <td>Major advantages offered by multi-entity accou...</td>\n",
              "      <td>2021-12-04 18:45:59+00:00</td>\n",
              "    </tr>\n",
              "    <tr>\n",
              "      <th>9941</th>\n",
              "      <td>#Microsoft</td>\n",
              "      <td>petrijamsen</td>\n",
              "      <td>Konnevesi</td>\n",
              "      <td>Pin your own video in Teams meetings. Rollout ...</td>\n",
              "      <td>2021-12-04 18:41:54+00:00</td>\n",
              "    </tr>\n",
              "    <tr>\n",
              "      <th>9942</th>\n",
              "      <td>#Microsoft</td>\n",
              "      <td>CSA_DVillamizar</td>\n",
              "      <td>Envigado, antioquia</td>\n",
              "      <td>Where are the GAFAM when it is the #Telethon20...</td>\n",
              "      <td>2021-12-04 18:41:16+00:00</td>\n",
              "    </tr>\n",
              "    <tr>\n",
              "      <th>9943</th>\n",
              "      <td>#Microsoft</td>\n",
              "      <td>CSA_DVillamizar</td>\n",
              "      <td>Envigado, antioquia</td>\n",
              "      <td>RT Wauln: More info on Sony’s new potential Xb...</td>\n",
              "      <td>2021-12-04 18:41:16+00:00</td>\n",
              "    </tr>\n",
              "  </tbody>\n",
              "</table>\n",
              "<p>9944 rows × 5 columns</p>\n",
              "</div>"
            ],
            "text/plain": [
              "     search_word  ...                created_at\n",
              "0     #Microsoft  ... 2021-12-11 18:35:27+00:00\n",
              "1     #Microsoft  ... 2021-12-11 18:32:19+00:00\n",
              "2     #Microsoft  ... 2021-12-11 18:30:00+00:00\n",
              "3     #Microsoft  ... 2021-12-11 18:29:30+00:00\n",
              "4     #Microsoft  ... 2021-12-11 18:26:43+00:00\n",
              "...          ...  ...                       ...\n",
              "9939  #Microsoft  ... 2021-12-04 18:47:53+00:00\n",
              "9940  #Microsoft  ... 2021-12-04 18:45:59+00:00\n",
              "9941  #Microsoft  ... 2021-12-04 18:41:54+00:00\n",
              "9942  #Microsoft  ... 2021-12-04 18:41:16+00:00\n",
              "9943  #Microsoft  ... 2021-12-04 18:41:16+00:00\n",
              "\n",
              "[9944 rows x 5 columns]"
            ]
          },
          "metadata": {},
          "execution_count": 17
        }
      ]
    },
    {
      "cell_type": "code",
      "source": [
        "df.to_csv(\"Microsoft_Tweets.csv\")"
      ],
      "metadata": {
        "id": "ie6YEsBWxoSW"
      },
      "execution_count": null,
      "outputs": []
    },
    {
      "cell_type": "code",
      "source": [
        "import re\n",
        "import nltk\n",
        "from nltk import PorterStemmer\n",
        "ps = PorterStemmer()\n",
        "nltk.download(\"stopwords\")\n",
        "from nltk.corpus import stopwords\n",
        "stop = stopwords.words('english')\n",
        "def cleantweets(txt):\n",
        "  # Remove mentions\n",
        "  txt = re.sub(r\"@\",\"\", txt)\n",
        "  # Remove hashtags\n",
        "  txt = re.sub(r\"#\",\"\", txt)\n",
        "  # Remove urls\n",
        "  txt = re.sub(r\"https?:\\/\\/[ A−Za−z0 −9\\.\\/]+\", \"\", txt)\n",
        "  # Remove Stop Words\n",
        "  txt = ' '.join([word for word in txt.split() if word not in (stop)])\n",
        "  #Stemming\n",
        "  txt = ' '.join([ps.stem(word) for word in txt.split()])\n",
        "  return txt"
      ],
      "metadata": {
        "colab": {
          "base_uri": "https://localhost:8080/"
        },
        "id": "baeiJXzk9m5C",
        "outputId": "386505cf-d36a-4df6-80c4-fb51063d6634"
      },
      "execution_count": null,
      "outputs": [
        {
          "output_type": "stream",
          "name": "stdout",
          "text": [
            "[nltk_data] Downloading package stopwords to /root/nltk_data...\n",
            "[nltk_data]   Package stopwords is already up-to-date!\n"
          ]
        }
      ]
    },
    {
      "cell_type": "code",
      "source": [
        "def getsubjectivity(txt):\n",
        "  return TextBlob(txt).sentiment.subjectivity"
      ],
      "metadata": {
        "id": "QrjMXLfL-245"
      },
      "execution_count": null,
      "outputs": []
    },
    {
      "cell_type": "code",
      "source": [
        "def getpolarity(txt):\n",
        "  return sentiment.polarity_scores(txt)['compound']"
      ],
      "metadata": {
        "id": "roglahwS_LNi"
      },
      "execution_count": null,
      "outputs": []
    },
    {
      "cell_type": "code",
      "source": [
        "def getanalysis(a):\n",
        "  if a < 0:\n",
        "    return \"Negative\"\n",
        "  elif a == 0:\n",
        "    return \"Neutral\"\n",
        "  else:\n",
        "    return \"Positive\""
      ],
      "metadata": {
        "id": "zDqIqwTm_R6C"
      },
      "execution_count": null,
      "outputs": []
    },
    {
      "cell_type": "code",
      "source": [
        "def prepare_twitter_data(tweet_data):\n",
        "  results = tweet_data.copy()\n",
        "  results[\"clean text\"] = results[\"text\"].apply(cleantweets)\n",
        "  results[\"polarity\"] = results[\"text\"].apply(getpolarity)\n",
        "  results[\"subjectivity\"] = results[\"text\"].apply(getsubjectivity)\n",
        "  results[\"tweet_class\"] = results[\"polarity\"].apply(getanalysis)\n",
        "  return results"
      ],
      "metadata": {
        "id": "Aq2k7SbI5EZ7"
      },
      "execution_count": null,
      "outputs": []
    },
    {
      "cell_type": "code",
      "source": [
        "def sorttwitterdata(tweet_data):\n",
        "  results = prepare_twitter_data(tweet_data)\n",
        "  results[\"created_at\"] = pd.to_datetime(results[\"created_at\"], format = '%Y−%m−%d %H:%M:%S')\n",
        "  print(\"sorting\")\n",
        "  results = results.sort_values(by=[\"created_at\"], ascending=[False])\n",
        "  return results"
      ],
      "metadata": {
        "id": "C_icNC5jJrQQ"
      },
      "execution_count": null,
      "outputs": []
    },
    {
      "cell_type": "code",
      "source": [
        "processed_tweets = sorttwitterdata(df)"
      ],
      "metadata": {
        "colab": {
          "base_uri": "https://localhost:8080/"
        },
        "id": "kPRy8KAKEC3V",
        "outputId": "570ccf0a-2c4a-42df-aec4-4577b32d3635"
      },
      "execution_count": null,
      "outputs": [
        {
          "output_type": "stream",
          "name": "stdout",
          "text": [
            "sorting\n"
          ]
        }
      ]
    },
    {
      "cell_type": "code",
      "source": [
        "processed_tweets"
      ],
      "metadata": {
        "colab": {
          "base_uri": "https://localhost:8080/",
          "height": 808
        },
        "id": "k7mmDbPnEXHr",
        "outputId": "6959506c-5621-4367-dbff-d3079f985cc6"
      },
      "execution_count": null,
      "outputs": [
        {
          "output_type": "execute_result",
          "data": {
            "text/html": [
              "<div>\n",
              "<style scoped>\n",
              "    .dataframe tbody tr th:only-of-type {\n",
              "        vertical-align: middle;\n",
              "    }\n",
              "\n",
              "    .dataframe tbody tr th {\n",
              "        vertical-align: top;\n",
              "    }\n",
              "\n",
              "    .dataframe thead th {\n",
              "        text-align: right;\n",
              "    }\n",
              "</style>\n",
              "<table border=\"1\" class=\"dataframe\">\n",
              "  <thead>\n",
              "    <tr style=\"text-align: right;\">\n",
              "      <th></th>\n",
              "      <th>search_word</th>\n",
              "      <th>username</th>\n",
              "      <th>location</th>\n",
              "      <th>text</th>\n",
              "      <th>created_at</th>\n",
              "      <th>clean text</th>\n",
              "      <th>polarity</th>\n",
              "      <th>subjectivity</th>\n",
              "      <th>tweet_class</th>\n",
              "    </tr>\n",
              "  </thead>\n",
              "  <tbody>\n",
              "    <tr>\n",
              "      <th>0</th>\n",
              "      <td>#Microsoft</td>\n",
              "      <td>FutureProofN</td>\n",
              "      <td>Colorado Springs, CO</td>\n",
              "      <td>#Future is now! @futureproofn #microsoft Follo...</td>\n",
              "      <td>2021-12-11 18:35:27+00:00</td>\n",
              "      <td>futur now! futureproofn microsoft follow us la...</td>\n",
              "      <td>0.0000</td>\n",
              "      <td>0.512500</td>\n",
              "      <td>Neutral</td>\n",
              "    </tr>\n",
              "    <tr>\n",
              "      <th>1</th>\n",
              "      <td>#Microsoft</td>\n",
              "      <td>DrKatrinaAdkins</td>\n",
              "      <td>Chattanooga, TN #CHA</td>\n",
              "      <td>SHI_Intl: Microsoft 365 prices will be increas...</td>\n",
              "      <td>2021-12-11 18:32:19+00:00</td>\n",
              "      <td>shi_intl: microsoft 365 price increas begin 20...</td>\n",
              "      <td>0.0000</td>\n",
              "      <td>0.100000</td>\n",
              "      <td>Neutral</td>\n",
              "    </tr>\n",
              "    <tr>\n",
              "      <th>2</th>\n",
              "      <td>#Microsoft</td>\n",
              "      <td>GiacomCM</td>\n",
              "      <td>United Kingdom</td>\n",
              "      <td>Are you using Azure Virtual Desktop yet? This ...</td>\n",
              "      <td>2021-12-11 18:30:00+00:00</td>\n",
              "      <td>are use azur virtual desktop yet? thi infograp...</td>\n",
              "      <td>0.3818</td>\n",
              "      <td>1.000000</td>\n",
              "      <td>Positive</td>\n",
              "    </tr>\n",
              "    <tr>\n",
              "      <th>3</th>\n",
              "      <td>#Microsoft</td>\n",
              "      <td>DivisionSec</td>\n",
              "      <td>UK</td>\n",
              "      <td>Just passed the az900 😁 thanks to @microsoft f...</td>\n",
              "      <td>2021-12-11 18:29:30+00:00</td>\n",
              "      <td>just pass az900 😁 thank microsoft great exam. ...</td>\n",
              "      <td>0.7906</td>\n",
              "      <td>0.475000</td>\n",
              "      <td>Positive</td>\n",
              "    </tr>\n",
              "    <tr>\n",
              "      <th>4</th>\n",
              "      <td>#Microsoft</td>\n",
              "      <td>TeamPatriot007</td>\n",
              "      <td>New Delhi, India</td>\n",
              "      <td>#include&amp;lt;stdio.h&amp;gt;\\n{\\nprintf{\"#satan #AI...</td>\n",
              "      <td>2021-12-11 18:26:43+00:00</td>\n",
              "      <td>include&amp;lt;stdio.h&amp;gt; { printf{\"satan AI syst...</td>\n",
              "      <td>0.0000</td>\n",
              "      <td>0.000000</td>\n",
              "      <td>Neutral</td>\n",
              "    </tr>\n",
              "    <tr>\n",
              "      <th>...</th>\n",
              "      <td>...</td>\n",
              "      <td>...</td>\n",
              "      <td>...</td>\n",
              "      <td>...</td>\n",
              "      <td>...</td>\n",
              "      <td>...</td>\n",
              "      <td>...</td>\n",
              "      <td>...</td>\n",
              "      <td>...</td>\n",
              "    </tr>\n",
              "    <tr>\n",
              "      <th>9939</th>\n",
              "      <td>#Microsoft</td>\n",
              "      <td>AnothPerso</td>\n",
              "      <td>None</td>\n",
              "      <td>@IamLaylaBrown $MNW @MNWSupplyChain is optimiz...</td>\n",
              "      <td>2021-12-04 18:47:53+00:00</td>\n",
              "      <td>iamlaylabrown $mnw mnwsupplychain optim $15 tr...</td>\n",
              "      <td>0.5093</td>\n",
              "      <td>0.000000</td>\n",
              "      <td>Positive</td>\n",
              "    </tr>\n",
              "    <tr>\n",
              "      <th>9940</th>\n",
              "      <td>#Microsoft</td>\n",
              "      <td>jsilvani</td>\n",
              "      <td>Detroit, MI</td>\n",
              "      <td>Major advantages offered by multi-entity accou...</td>\n",
              "      <td>2021-12-04 18:45:59+00:00</td>\n",
              "      <td>major advantag offer multi-ent account softwar...</td>\n",
              "      <td>0.3612</td>\n",
              "      <td>0.500000</td>\n",
              "      <td>Positive</td>\n",
              "    </tr>\n",
              "    <tr>\n",
              "      <th>9941</th>\n",
              "      <td>#Microsoft</td>\n",
              "      <td>petrijamsen</td>\n",
              "      <td>Konnevesi</td>\n",
              "      <td>Pin your own video in Teams meetings. Rollout ...</td>\n",
              "      <td>2021-12-04 18:41:54+00:00</td>\n",
              "      <td>pin video team meetings. rollout complet earli...</td>\n",
              "      <td>0.0000</td>\n",
              "      <td>0.566667</td>\n",
              "      <td>Neutral</td>\n",
              "    </tr>\n",
              "    <tr>\n",
              "      <th>9942</th>\n",
              "      <td>#Microsoft</td>\n",
              "      <td>CSA_DVillamizar</td>\n",
              "      <td>Envigado, antioquia</td>\n",
              "      <td>Where are the GAFAM when it is the #Telethon20...</td>\n",
              "      <td>2021-12-04 18:41:16+00:00</td>\n",
              "      <td>where gafam telethon2021? what 1, 5 10 million...</td>\n",
              "      <td>0.0000</td>\n",
              "      <td>0.000000</td>\n",
              "      <td>Neutral</td>\n",
              "    </tr>\n",
              "    <tr>\n",
              "      <th>9943</th>\n",
              "      <td>#Microsoft</td>\n",
              "      <td>CSA_DVillamizar</td>\n",
              "      <td>Envigado, antioquia</td>\n",
              "      <td>RT Wauln: More info on Sony’s new potential Xb...</td>\n",
              "      <td>2021-12-04 18:41:16+00:00</td>\n",
              "      <td>RT wauln: more info sony’ new potenti xbox gam...</td>\n",
              "      <td>0.0000</td>\n",
              "      <td>0.588636</td>\n",
              "      <td>Neutral</td>\n",
              "    </tr>\n",
              "  </tbody>\n",
              "</table>\n",
              "<p>9944 rows × 9 columns</p>\n",
              "</div>"
            ],
            "text/plain": [
              "     search_word         username  ... subjectivity tweet_class\n",
              "0     #Microsoft     FutureProofN  ...     0.512500     Neutral\n",
              "1     #Microsoft  DrKatrinaAdkins  ...     0.100000     Neutral\n",
              "2     #Microsoft         GiacomCM  ...     1.000000    Positive\n",
              "3     #Microsoft      DivisionSec  ...     0.475000    Positive\n",
              "4     #Microsoft   TeamPatriot007  ...     0.000000     Neutral\n",
              "...          ...              ...  ...          ...         ...\n",
              "9939  #Microsoft       AnothPerso  ...     0.000000    Positive\n",
              "9940  #Microsoft         jsilvani  ...     0.500000    Positive\n",
              "9941  #Microsoft      petrijamsen  ...     0.566667     Neutral\n",
              "9942  #Microsoft  CSA_DVillamizar  ...     0.000000     Neutral\n",
              "9943  #Microsoft  CSA_DVillamizar  ...     0.588636     Neutral\n",
              "\n",
              "[9944 rows x 9 columns]"
            ]
          },
          "metadata": {},
          "execution_count": 31
        }
      ]
    },
    {
      "cell_type": "code",
      "source": [
        "stock_df = pd.read_csv(\"MSFT.csv\")\n",
        "stock_df"
      ],
      "metadata": {
        "colab": {
          "base_uri": "https://localhost:8080/",
          "height": 424
        },
        "id": "MXl-fatvIGx-",
        "outputId": "9ddc91b7-f5ce-4b2d-9099-95fecd75611a"
      },
      "execution_count": null,
      "outputs": [
        {
          "output_type": "execute_result",
          "data": {
            "text/html": [
              "<div>\n",
              "<style scoped>\n",
              "    .dataframe tbody tr th:only-of-type {\n",
              "        vertical-align: middle;\n",
              "    }\n",
              "\n",
              "    .dataframe tbody tr th {\n",
              "        vertical-align: top;\n",
              "    }\n",
              "\n",
              "    .dataframe thead th {\n",
              "        text-align: right;\n",
              "    }\n",
              "</style>\n",
              "<table border=\"1\" class=\"dataframe\">\n",
              "  <thead>\n",
              "    <tr style=\"text-align: right;\">\n",
              "      <th></th>\n",
              "      <th>Date</th>\n",
              "      <th>Open</th>\n",
              "      <th>High</th>\n",
              "      <th>Low</th>\n",
              "      <th>Close</th>\n",
              "      <th>Adj Close</th>\n",
              "      <th>Volume</th>\n",
              "    </tr>\n",
              "  </thead>\n",
              "  <tbody>\n",
              "    <tr>\n",
              "      <th>0</th>\n",
              "      <td>2010-12-13</td>\n",
              "      <td>27.250000</td>\n",
              "      <td>27.450001</td>\n",
              "      <td>27.172501</td>\n",
              "      <td>27.245001</td>\n",
              "      <td>21.481600</td>\n",
              "      <td>47943855</td>\n",
              "    </tr>\n",
              "    <tr>\n",
              "      <th>1</th>\n",
              "      <td>2010-12-14</td>\n",
              "      <td>27.320000</td>\n",
              "      <td>27.750000</td>\n",
              "      <td>27.260000</td>\n",
              "      <td>27.620001</td>\n",
              "      <td>21.777269</td>\n",
              "      <td>64095005</td>\n",
              "    </tr>\n",
              "    <tr>\n",
              "      <th>2</th>\n",
              "      <td>2010-12-15</td>\n",
              "      <td>27.540001</td>\n",
              "      <td>27.990000</td>\n",
              "      <td>27.530001</td>\n",
              "      <td>27.850000</td>\n",
              "      <td>21.958616</td>\n",
              "      <td>69634200</td>\n",
              "    </tr>\n",
              "    <tr>\n",
              "      <th>3</th>\n",
              "      <td>2010-12-16</td>\n",
              "      <td>27.760000</td>\n",
              "      <td>27.990000</td>\n",
              "      <td>27.660000</td>\n",
              "      <td>27.987499</td>\n",
              "      <td>22.067030</td>\n",
              "      <td>57680104</td>\n",
              "    </tr>\n",
              "    <tr>\n",
              "      <th>4</th>\n",
              "      <td>2010-12-17</td>\n",
              "      <td>27.889999</td>\n",
              "      <td>28.090000</td>\n",
              "      <td>27.750000</td>\n",
              "      <td>27.902500</td>\n",
              "      <td>22.000013</td>\n",
              "      <td>87456444</td>\n",
              "    </tr>\n",
              "    <tr>\n",
              "      <th>...</th>\n",
              "      <td>...</td>\n",
              "      <td>...</td>\n",
              "      <td>...</td>\n",
              "      <td>...</td>\n",
              "      <td>...</td>\n",
              "      <td>...</td>\n",
              "      <td>...</td>\n",
              "    </tr>\n",
              "    <tr>\n",
              "      <th>2764</th>\n",
              "      <td>2021-12-06</td>\n",
              "      <td>323.950012</td>\n",
              "      <td>327.450012</td>\n",
              "      <td>319.230011</td>\n",
              "      <td>326.190002</td>\n",
              "      <td>326.190002</td>\n",
              "      <td>30032556</td>\n",
              "    </tr>\n",
              "    <tr>\n",
              "      <th>2765</th>\n",
              "      <td>2021-12-07</td>\n",
              "      <td>331.640015</td>\n",
              "      <td>335.799988</td>\n",
              "      <td>330.100006</td>\n",
              "      <td>334.920013</td>\n",
              "      <td>334.920013</td>\n",
              "      <td>31021936</td>\n",
              "    </tr>\n",
              "    <tr>\n",
              "      <th>2766</th>\n",
              "      <td>2021-12-08</td>\n",
              "      <td>335.309998</td>\n",
              "      <td>335.500000</td>\n",
              "      <td>330.799988</td>\n",
              "      <td>334.970001</td>\n",
              "      <td>334.970001</td>\n",
              "      <td>24760988</td>\n",
              "    </tr>\n",
              "    <tr>\n",
              "      <th>2767</th>\n",
              "      <td>2021-12-09</td>\n",
              "      <td>334.410004</td>\n",
              "      <td>336.489014</td>\n",
              "      <td>332.119995</td>\n",
              "      <td>333.100006</td>\n",
              "      <td>333.100006</td>\n",
              "      <td>21561374</td>\n",
              "    </tr>\n",
              "    <tr>\n",
              "      <th>2768</th>\n",
              "      <td>2021-12-10</td>\n",
              "      <td>334.980011</td>\n",
              "      <td>343.000000</td>\n",
              "      <td>334.790009</td>\n",
              "      <td>342.540009</td>\n",
              "      <td>342.540009</td>\n",
              "      <td>36582109</td>\n",
              "    </tr>\n",
              "  </tbody>\n",
              "</table>\n",
              "<p>2769 rows × 7 columns</p>\n",
              "</div>"
            ],
            "text/plain": [
              "            Date        Open        High  ...       Close   Adj Close    Volume\n",
              "0     2010-12-13   27.250000   27.450001  ...   27.245001   21.481600  47943855\n",
              "1     2010-12-14   27.320000   27.750000  ...   27.620001   21.777269  64095005\n",
              "2     2010-12-15   27.540001   27.990000  ...   27.850000   21.958616  69634200\n",
              "3     2010-12-16   27.760000   27.990000  ...   27.987499   22.067030  57680104\n",
              "4     2010-12-17   27.889999   28.090000  ...   27.902500   22.000013  87456444\n",
              "...          ...         ...         ...  ...         ...         ...       ...\n",
              "2764  2021-12-06  323.950012  327.450012  ...  326.190002  326.190002  30032556\n",
              "2765  2021-12-07  331.640015  335.799988  ...  334.920013  334.920013  31021936\n",
              "2766  2021-12-08  335.309998  335.500000  ...  334.970001  334.970001  24760988\n",
              "2767  2021-12-09  334.410004  336.489014  ...  333.100006  333.100006  21561374\n",
              "2768  2021-12-10  334.980011  343.000000  ...  342.540009  342.540009  36582109\n",
              "\n",
              "[2769 rows x 7 columns]"
            ]
          },
          "metadata": {},
          "execution_count": 32
        }
      ]
    },
    {
      "cell_type": "code",
      "source": [
        "import pandas as pd\n",
        "\n",
        "df = pd.read_csv(\"MSFT.csv\")\n",
        "#converting to pandas date for indexing\n",
        "df['Date'] =  pd.to_datetime(df['Date'], format='%Y/%m/%d')\n",
        "#sorting according to date\n",
        "df = df.sort_values(by=['Date'], ascending=[True])\n",
        "\n",
        "# #indexing according to date\n",
        "df.set_index('Date', inplace=True)\n",
        "\n",
        "#populating data according to previous value\n",
        "df = df.resample('D').ffill().reset_index()\n",
        "\n",
        "#exporting to MSFT_complete\n",
        "df.to_csv(\"MSFT_complete.csv\")"
      ],
      "metadata": {
        "id": "V7ykGqLtTb8m"
      },
      "execution_count": null,
      "outputs": []
    },
    {
      "cell_type": "code",
      "source": [
        "stock_df_processed = pd.read_csv(\"MSFT_complete.csv\", parse_dates = True, index_col = 'Date')\n",
        "stock_df_processed"
      ],
      "metadata": {
        "colab": {
          "base_uri": "https://localhost:8080/",
          "height": 455
        },
        "id": "WSHvntLgUJ5C",
        "outputId": "6baeffd3-15b7-40a4-cba6-d510d6f6d0e5"
      },
      "execution_count": null,
      "outputs": [
        {
          "output_type": "execute_result",
          "data": {
            "text/html": [
              "<div>\n",
              "<style scoped>\n",
              "    .dataframe tbody tr th:only-of-type {\n",
              "        vertical-align: middle;\n",
              "    }\n",
              "\n",
              "    .dataframe tbody tr th {\n",
              "        vertical-align: top;\n",
              "    }\n",
              "\n",
              "    .dataframe thead th {\n",
              "        text-align: right;\n",
              "    }\n",
              "</style>\n",
              "<table border=\"1\" class=\"dataframe\">\n",
              "  <thead>\n",
              "    <tr style=\"text-align: right;\">\n",
              "      <th></th>\n",
              "      <th>Unnamed: 0</th>\n",
              "      <th>Open</th>\n",
              "      <th>High</th>\n",
              "      <th>Low</th>\n",
              "      <th>Close</th>\n",
              "      <th>Adj Close</th>\n",
              "      <th>Volume</th>\n",
              "    </tr>\n",
              "    <tr>\n",
              "      <th>Date</th>\n",
              "      <th></th>\n",
              "      <th></th>\n",
              "      <th></th>\n",
              "      <th></th>\n",
              "      <th></th>\n",
              "      <th></th>\n",
              "      <th></th>\n",
              "    </tr>\n",
              "  </thead>\n",
              "  <tbody>\n",
              "    <tr>\n",
              "      <th>2010-12-13</th>\n",
              "      <td>0</td>\n",
              "      <td>27.250000</td>\n",
              "      <td>27.450001</td>\n",
              "      <td>27.172501</td>\n",
              "      <td>27.245001</td>\n",
              "      <td>21.481600</td>\n",
              "      <td>47943855</td>\n",
              "    </tr>\n",
              "    <tr>\n",
              "      <th>2010-12-14</th>\n",
              "      <td>1</td>\n",
              "      <td>27.320000</td>\n",
              "      <td>27.750000</td>\n",
              "      <td>27.260000</td>\n",
              "      <td>27.620001</td>\n",
              "      <td>21.777269</td>\n",
              "      <td>64095005</td>\n",
              "    </tr>\n",
              "    <tr>\n",
              "      <th>2010-12-15</th>\n",
              "      <td>2</td>\n",
              "      <td>27.540001</td>\n",
              "      <td>27.990000</td>\n",
              "      <td>27.530001</td>\n",
              "      <td>27.850000</td>\n",
              "      <td>21.958616</td>\n",
              "      <td>69634200</td>\n",
              "    </tr>\n",
              "    <tr>\n",
              "      <th>2010-12-16</th>\n",
              "      <td>3</td>\n",
              "      <td>27.760000</td>\n",
              "      <td>27.990000</td>\n",
              "      <td>27.660000</td>\n",
              "      <td>27.987499</td>\n",
              "      <td>22.067030</td>\n",
              "      <td>57680104</td>\n",
              "    </tr>\n",
              "    <tr>\n",
              "      <th>2010-12-17</th>\n",
              "      <td>4</td>\n",
              "      <td>27.889999</td>\n",
              "      <td>28.090000</td>\n",
              "      <td>27.750000</td>\n",
              "      <td>27.902500</td>\n",
              "      <td>22.000013</td>\n",
              "      <td>87456444</td>\n",
              "    </tr>\n",
              "    <tr>\n",
              "      <th>...</th>\n",
              "      <td>...</td>\n",
              "      <td>...</td>\n",
              "      <td>...</td>\n",
              "      <td>...</td>\n",
              "      <td>...</td>\n",
              "      <td>...</td>\n",
              "      <td>...</td>\n",
              "    </tr>\n",
              "    <tr>\n",
              "      <th>2021-12-06</th>\n",
              "      <td>4011</td>\n",
              "      <td>323.950012</td>\n",
              "      <td>327.450012</td>\n",
              "      <td>319.230011</td>\n",
              "      <td>326.190002</td>\n",
              "      <td>326.190002</td>\n",
              "      <td>30032556</td>\n",
              "    </tr>\n",
              "    <tr>\n",
              "      <th>2021-12-07</th>\n",
              "      <td>4012</td>\n",
              "      <td>331.640015</td>\n",
              "      <td>335.799988</td>\n",
              "      <td>330.100006</td>\n",
              "      <td>334.920013</td>\n",
              "      <td>334.920013</td>\n",
              "      <td>31021936</td>\n",
              "    </tr>\n",
              "    <tr>\n",
              "      <th>2021-12-08</th>\n",
              "      <td>4013</td>\n",
              "      <td>335.309998</td>\n",
              "      <td>335.500000</td>\n",
              "      <td>330.799988</td>\n",
              "      <td>334.970001</td>\n",
              "      <td>334.970001</td>\n",
              "      <td>24760988</td>\n",
              "    </tr>\n",
              "    <tr>\n",
              "      <th>2021-12-09</th>\n",
              "      <td>4014</td>\n",
              "      <td>334.410004</td>\n",
              "      <td>336.489014</td>\n",
              "      <td>332.119995</td>\n",
              "      <td>333.100006</td>\n",
              "      <td>333.100006</td>\n",
              "      <td>21561374</td>\n",
              "    </tr>\n",
              "    <tr>\n",
              "      <th>2021-12-10</th>\n",
              "      <td>4015</td>\n",
              "      <td>334.980011</td>\n",
              "      <td>343.000000</td>\n",
              "      <td>334.790009</td>\n",
              "      <td>342.540009</td>\n",
              "      <td>342.540009</td>\n",
              "      <td>36582109</td>\n",
              "    </tr>\n",
              "  </tbody>\n",
              "</table>\n",
              "<p>4016 rows × 7 columns</p>\n",
              "</div>"
            ],
            "text/plain": [
              "            Unnamed: 0        Open  ...   Adj Close    Volume\n",
              "Date                                ...                      \n",
              "2010-12-13           0   27.250000  ...   21.481600  47943855\n",
              "2010-12-14           1   27.320000  ...   21.777269  64095005\n",
              "2010-12-15           2   27.540001  ...   21.958616  69634200\n",
              "2010-12-16           3   27.760000  ...   22.067030  57680104\n",
              "2010-12-17           4   27.889999  ...   22.000013  87456444\n",
              "...                ...         ...  ...         ...       ...\n",
              "2021-12-06        4011  323.950012  ...  326.190002  30032556\n",
              "2021-12-07        4012  331.640015  ...  334.920013  31021936\n",
              "2021-12-08        4013  335.309998  ...  334.970001  24760988\n",
              "2021-12-09        4014  334.410004  ...  333.100006  21561374\n",
              "2021-12-10        4015  334.980011  ...  342.540009  36582109\n",
              "\n",
              "[4016 rows x 7 columns]"
            ]
          },
          "metadata": {},
          "execution_count": 47
        }
      ]
    },
    {
      "cell_type": "code",
      "source": [
        "del stock_df_processed[\"Unnamed: 0\"]"
      ],
      "metadata": {
        "id": "GEcHZ753UyWE"
      },
      "execution_count": null,
      "outputs": []
    },
    {
      "cell_type": "code",
      "source": [
        "stock_df_processed"
      ],
      "metadata": {
        "colab": {
          "base_uri": "https://localhost:8080/",
          "height": 455
        },
        "id": "lSagTKe0VnrY",
        "outputId": "64c33911-8083-4051-b3f5-d37c98046e73"
      },
      "execution_count": null,
      "outputs": [
        {
          "output_type": "execute_result",
          "data": {
            "text/html": [
              "<div>\n",
              "<style scoped>\n",
              "    .dataframe tbody tr th:only-of-type {\n",
              "        vertical-align: middle;\n",
              "    }\n",
              "\n",
              "    .dataframe tbody tr th {\n",
              "        vertical-align: top;\n",
              "    }\n",
              "\n",
              "    .dataframe thead th {\n",
              "        text-align: right;\n",
              "    }\n",
              "</style>\n",
              "<table border=\"1\" class=\"dataframe\">\n",
              "  <thead>\n",
              "    <tr style=\"text-align: right;\">\n",
              "      <th></th>\n",
              "      <th>Open</th>\n",
              "      <th>High</th>\n",
              "      <th>Low</th>\n",
              "      <th>Close</th>\n",
              "      <th>Adj Close</th>\n",
              "      <th>Volume</th>\n",
              "    </tr>\n",
              "    <tr>\n",
              "      <th>Date</th>\n",
              "      <th></th>\n",
              "      <th></th>\n",
              "      <th></th>\n",
              "      <th></th>\n",
              "      <th></th>\n",
              "      <th></th>\n",
              "    </tr>\n",
              "  </thead>\n",
              "  <tbody>\n",
              "    <tr>\n",
              "      <th>2010-12-13</th>\n",
              "      <td>27.250000</td>\n",
              "      <td>27.450001</td>\n",
              "      <td>27.172501</td>\n",
              "      <td>27.245001</td>\n",
              "      <td>21.481600</td>\n",
              "      <td>47943855</td>\n",
              "    </tr>\n",
              "    <tr>\n",
              "      <th>2010-12-14</th>\n",
              "      <td>27.320000</td>\n",
              "      <td>27.750000</td>\n",
              "      <td>27.260000</td>\n",
              "      <td>27.620001</td>\n",
              "      <td>21.777269</td>\n",
              "      <td>64095005</td>\n",
              "    </tr>\n",
              "    <tr>\n",
              "      <th>2010-12-15</th>\n",
              "      <td>27.540001</td>\n",
              "      <td>27.990000</td>\n",
              "      <td>27.530001</td>\n",
              "      <td>27.850000</td>\n",
              "      <td>21.958616</td>\n",
              "      <td>69634200</td>\n",
              "    </tr>\n",
              "    <tr>\n",
              "      <th>2010-12-16</th>\n",
              "      <td>27.760000</td>\n",
              "      <td>27.990000</td>\n",
              "      <td>27.660000</td>\n",
              "      <td>27.987499</td>\n",
              "      <td>22.067030</td>\n",
              "      <td>57680104</td>\n",
              "    </tr>\n",
              "    <tr>\n",
              "      <th>2010-12-17</th>\n",
              "      <td>27.889999</td>\n",
              "      <td>28.090000</td>\n",
              "      <td>27.750000</td>\n",
              "      <td>27.902500</td>\n",
              "      <td>22.000013</td>\n",
              "      <td>87456444</td>\n",
              "    </tr>\n",
              "    <tr>\n",
              "      <th>...</th>\n",
              "      <td>...</td>\n",
              "      <td>...</td>\n",
              "      <td>...</td>\n",
              "      <td>...</td>\n",
              "      <td>...</td>\n",
              "      <td>...</td>\n",
              "    </tr>\n",
              "    <tr>\n",
              "      <th>2021-12-06</th>\n",
              "      <td>323.950012</td>\n",
              "      <td>327.450012</td>\n",
              "      <td>319.230011</td>\n",
              "      <td>326.190002</td>\n",
              "      <td>326.190002</td>\n",
              "      <td>30032556</td>\n",
              "    </tr>\n",
              "    <tr>\n",
              "      <th>2021-12-07</th>\n",
              "      <td>331.640015</td>\n",
              "      <td>335.799988</td>\n",
              "      <td>330.100006</td>\n",
              "      <td>334.920013</td>\n",
              "      <td>334.920013</td>\n",
              "      <td>31021936</td>\n",
              "    </tr>\n",
              "    <tr>\n",
              "      <th>2021-12-08</th>\n",
              "      <td>335.309998</td>\n",
              "      <td>335.500000</td>\n",
              "      <td>330.799988</td>\n",
              "      <td>334.970001</td>\n",
              "      <td>334.970001</td>\n",
              "      <td>24760988</td>\n",
              "    </tr>\n",
              "    <tr>\n",
              "      <th>2021-12-09</th>\n",
              "      <td>334.410004</td>\n",
              "      <td>336.489014</td>\n",
              "      <td>332.119995</td>\n",
              "      <td>333.100006</td>\n",
              "      <td>333.100006</td>\n",
              "      <td>21561374</td>\n",
              "    </tr>\n",
              "    <tr>\n",
              "      <th>2021-12-10</th>\n",
              "      <td>334.980011</td>\n",
              "      <td>343.000000</td>\n",
              "      <td>334.790009</td>\n",
              "      <td>342.540009</td>\n",
              "      <td>342.540009</td>\n",
              "      <td>36582109</td>\n",
              "    </tr>\n",
              "  </tbody>\n",
              "</table>\n",
              "<p>4016 rows × 6 columns</p>\n",
              "</div>"
            ],
            "text/plain": [
              "                  Open        High  ...   Adj Close    Volume\n",
              "Date                                ...                      \n",
              "2010-12-13   27.250000   27.450001  ...   21.481600  47943855\n",
              "2010-12-14   27.320000   27.750000  ...   21.777269  64095005\n",
              "2010-12-15   27.540001   27.990000  ...   21.958616  69634200\n",
              "2010-12-16   27.760000   27.990000  ...   22.067030  57680104\n",
              "2010-12-17   27.889999   28.090000  ...   22.000013  87456444\n",
              "...                ...         ...  ...         ...       ...\n",
              "2021-12-06  323.950012  327.450012  ...  326.190002  30032556\n",
              "2021-12-07  331.640015  335.799988  ...  334.920013  31021936\n",
              "2021-12-08  335.309998  335.500000  ...  334.970001  24760988\n",
              "2021-12-09  334.410004  336.489014  ...  333.100006  21561374\n",
              "2021-12-10  334.980011  343.000000  ...  342.540009  36582109\n",
              "\n",
              "[4016 rows x 6 columns]"
            ]
          },
          "metadata": {},
          "execution_count": 49
        }
      ]
    },
    {
      "cell_type": "code",
      "source": [
        "stock_df_processed['Close'].plot()"
      ],
      "metadata": {
        "colab": {
          "base_uri": "https://localhost:8080/",
          "height": 296
        },
        "id": "jfgoWbOuqGTy",
        "outputId": "88c9374a-839b-4af4-8f60-108799b0445f"
      },
      "execution_count": null,
      "outputs": [
        {
          "output_type": "execute_result",
          "data": {
            "text/plain": [
              "<matplotlib.axes._subplots.AxesSubplot at 0x7f72b7e74510>"
            ]
          },
          "metadata": {},
          "execution_count": 50
        },
        {
          "output_type": "display_data",
          "data": {
            "image/png": "[encoded data removed]",
            "text/plain": [
              "<Figure size 432x288 with 1 Axes>"
            ]
          },
          "metadata": {
            "needs_background": "light"
          }
        }
      ]
    },
    {
      "cell_type": "code",
      "source": [
        "stock_df_processed.corr()['Close']"
      ],
      "metadata": {
        "colab": {
          "base_uri": "https://localhost:8080/"
        },
        "id": "Hd9_4vquX7G1",
        "outputId": "603b959d-7efa-4f0e-c905-f7526c030290"
      },
      "execution_count": null,
      "outputs": [
        {
          "output_type": "execute_result",
          "data": {
            "text/plain": [
              "Open         0.999813\n",
              "High         0.999900\n",
              "Low          0.999898\n",
              "Close        1.000000\n",
              "Adj Close    0.999986\n",
              "Volume      -0.284249\n",
              "Name: Close, dtype: float64"
            ]
          },
          "metadata": {},
          "execution_count": 51
        }
      ]
    },
    {
      "cell_type": "code",
      "source": [
        "from sklearn.preprocessing import MinMaxScaler\n",
        "sc = MinMaxScaler()"
      ],
      "metadata": {
        "id": "u19NEfpwYgta"
      },
      "execution_count": null,
      "outputs": []
    },
    {
      "cell_type": "code",
      "source": [
        "stock_df_processed.drop(columns=['Volume','Adj Close'],inplace=True)"
      ],
      "metadata": {
        "id": "ZYZ1Elvp1wXI"
      },
      "execution_count": null,
      "outputs": []
    },
    {
      "cell_type": "code",
      "source": [
        "stock_df_processed"
      ],
      "metadata": {
        "colab": {
          "base_uri": "https://localhost:8080/",
          "height": 455
        },
        "id": "8A-Ngxyt16S0",
        "outputId": "5f78c8de-e98b-43c5-e779-b2932ce0c9a2"
      },
      "execution_count": null,
      "outputs": [
        {
          "output_type": "execute_result",
          "data": {
            "text/html": [
              "<div>\n",
              "<style scoped>\n",
              "    .dataframe tbody tr th:only-of-type {\n",
              "        vertical-align: middle;\n",
              "    }\n",
              "\n",
              "    .dataframe tbody tr th {\n",
              "        vertical-align: top;\n",
              "    }\n",
              "\n",
              "    .dataframe thead th {\n",
              "        text-align: right;\n",
              "    }\n",
              "</style>\n",
              "<table border=\"1\" class=\"dataframe\">\n",
              "  <thead>\n",
              "    <tr style=\"text-align: right;\">\n",
              "      <th></th>\n",
              "      <th>Open</th>\n",
              "      <th>High</th>\n",
              "      <th>Low</th>\n",
              "      <th>Close</th>\n",
              "    </tr>\n",
              "    <tr>\n",
              "      <th>Date</th>\n",
              "      <th></th>\n",
              "      <th></th>\n",
              "      <th></th>\n",
              "      <th></th>\n",
              "    </tr>\n",
              "  </thead>\n",
              "  <tbody>\n",
              "    <tr>\n",
              "      <th>2010-12-13</th>\n",
              "      <td>27.250000</td>\n",
              "      <td>27.450001</td>\n",
              "      <td>27.172501</td>\n",
              "      <td>27.245001</td>\n",
              "    </tr>\n",
              "    <tr>\n",
              "      <th>2010-12-14</th>\n",
              "      <td>27.320000</td>\n",
              "      <td>27.750000</td>\n",
              "      <td>27.260000</td>\n",
              "      <td>27.620001</td>\n",
              "    </tr>\n",
              "    <tr>\n",
              "      <th>2010-12-15</th>\n",
              "      <td>27.540001</td>\n",
              "      <td>27.990000</td>\n",
              "      <td>27.530001</td>\n",
              "      <td>27.850000</td>\n",
              "    </tr>\n",
              "    <tr>\n",
              "      <th>2010-12-16</th>\n",
              "      <td>27.760000</td>\n",
              "      <td>27.990000</td>\n",
              "      <td>27.660000</td>\n",
              "      <td>27.987499</td>\n",
              "    </tr>\n",
              "    <tr>\n",
              "      <th>2010-12-17</th>\n",
              "      <td>27.889999</td>\n",
              "      <td>28.090000</td>\n",
              "      <td>27.750000</td>\n",
              "      <td>27.902500</td>\n",
              "    </tr>\n",
              "    <tr>\n",
              "      <th>...</th>\n",
              "      <td>...</td>\n",
              "      <td>...</td>\n",
              "      <td>...</td>\n",
              "      <td>...</td>\n",
              "    </tr>\n",
              "    <tr>\n",
              "      <th>2021-12-06</th>\n",
              "      <td>323.950012</td>\n",
              "      <td>327.450012</td>\n",
              "      <td>319.230011</td>\n",
              "      <td>326.190002</td>\n",
              "    </tr>\n",
              "    <tr>\n",
              "      <th>2021-12-07</th>\n",
              "      <td>331.640015</td>\n",
              "      <td>335.799988</td>\n",
              "      <td>330.100006</td>\n",
              "      <td>334.920013</td>\n",
              "    </tr>\n",
              "    <tr>\n",
              "      <th>2021-12-08</th>\n",
              "      <td>335.309998</td>\n",
              "      <td>335.500000</td>\n",
              "      <td>330.799988</td>\n",
              "      <td>334.970001</td>\n",
              "    </tr>\n",
              "    <tr>\n",
              "      <th>2021-12-09</th>\n",
              "      <td>334.410004</td>\n",
              "      <td>336.489014</td>\n",
              "      <td>332.119995</td>\n",
              "      <td>333.100006</td>\n",
              "    </tr>\n",
              "    <tr>\n",
              "      <th>2021-12-10</th>\n",
              "      <td>334.980011</td>\n",
              "      <td>343.000000</td>\n",
              "      <td>334.790009</td>\n",
              "      <td>342.540009</td>\n",
              "    </tr>\n",
              "  </tbody>\n",
              "</table>\n",
              "<p>4016 rows × 4 columns</p>\n",
              "</div>"
            ],
            "text/plain": [
              "                  Open        High         Low       Close\n",
              "Date                                                      \n",
              "2010-12-13   27.250000   27.450001   27.172501   27.245001\n",
              "2010-12-14   27.320000   27.750000   27.260000   27.620001\n",
              "2010-12-15   27.540001   27.990000   27.530001   27.850000\n",
              "2010-12-16   27.760000   27.990000   27.660000   27.987499\n",
              "2010-12-17   27.889999   28.090000   27.750000   27.902500\n",
              "...                ...         ...         ...         ...\n",
              "2021-12-06  323.950012  327.450012  319.230011  326.190002\n",
              "2021-12-07  331.640015  335.799988  330.100006  334.920013\n",
              "2021-12-08  335.309998  335.500000  330.799988  334.970001\n",
              "2021-12-09  334.410004  336.489014  332.119995  333.100006\n",
              "2021-12-10  334.980011  343.000000  334.790009  342.540009\n",
              "\n",
              "[4016 rows x 4 columns]"
            ]
          },
          "metadata": {},
          "execution_count": 56
        }
      ]
    },
    {
      "cell_type": "code",
      "source": [
        "#Merge Stock And Twitter Sentiment\n",
        "processed_tweets = processed_tweets.loc[:, processed_tweets.columns.intersection(['created_at','polarity'])]\n",
        "processed_tweets = processed_tweets.set_index('created_at').groupby(pd.Grouper(freq='d')).mean().dropna(how='all')\n",
        "processed_tweets = processed_tweets.resample('D').ffill().reset_index()"
      ],
      "metadata": {
        "id": "At3np9y55oyK"
      },
      "execution_count": null,
      "outputs": []
    },
    {
      "cell_type": "code",
      "source": [
        "processed_tweets"
      ],
      "metadata": {
        "colab": {
          "base_uri": "https://localhost:8080/",
          "height": 300
        },
        "id": "L0OqUQ5w6jR0",
        "outputId": "ce28cc23-6bd3-4558-8102-1ebffde4c6b6"
      },
      "execution_count": null,
      "outputs": [
        {
          "output_type": "execute_result",
          "data": {
            "text/html": [
              "<div>\n",
              "<style scoped>\n",
              "    .dataframe tbody tr th:only-of-type {\n",
              "        vertical-align: middle;\n",
              "    }\n",
              "\n",
              "    .dataframe tbody tr th {\n",
              "        vertical-align: top;\n",
              "    }\n",
              "\n",
              "    .dataframe thead th {\n",
              "        text-align: right;\n",
              "    }\n",
              "</style>\n",
              "<table border=\"1\" class=\"dataframe\">\n",
              "  <thead>\n",
              "    <tr style=\"text-align: right;\">\n",
              "      <th></th>\n",
              "      <th>created_at</th>\n",
              "      <th>polarity</th>\n",
              "    </tr>\n",
              "  </thead>\n",
              "  <tbody>\n",
              "    <tr>\n",
              "      <th>0</th>\n",
              "      <td>2021-12-04 00:00:00+00:00</td>\n",
              "      <td>0.213472</td>\n",
              "    </tr>\n",
              "    <tr>\n",
              "      <th>1</th>\n",
              "      <td>2021-12-05 00:00:00+00:00</td>\n",
              "      <td>0.164009</td>\n",
              "    </tr>\n",
              "    <tr>\n",
              "      <th>2</th>\n",
              "      <td>2021-12-06 00:00:00+00:00</td>\n",
              "      <td>0.195809</td>\n",
              "    </tr>\n",
              "    <tr>\n",
              "      <th>3</th>\n",
              "      <td>2021-12-07 00:00:00+00:00</td>\n",
              "      <td>0.192846</td>\n",
              "    </tr>\n",
              "    <tr>\n",
              "      <th>4</th>\n",
              "      <td>2021-12-08 00:00:00+00:00</td>\n",
              "      <td>0.193016</td>\n",
              "    </tr>\n",
              "    <tr>\n",
              "      <th>5</th>\n",
              "      <td>2021-12-09 00:00:00+00:00</td>\n",
              "      <td>0.187635</td>\n",
              "    </tr>\n",
              "    <tr>\n",
              "      <th>6</th>\n",
              "      <td>2021-12-10 00:00:00+00:00</td>\n",
              "      <td>0.180238</td>\n",
              "    </tr>\n",
              "    <tr>\n",
              "      <th>7</th>\n",
              "      <td>2021-12-11 00:00:00+00:00</td>\n",
              "      <td>0.143330</td>\n",
              "    </tr>\n",
              "  </tbody>\n",
              "</table>\n",
              "</div>"
            ],
            "text/plain": [
              "                 created_at  polarity\n",
              "0 2021-12-04 00:00:00+00:00  0.213472\n",
              "1 2021-12-05 00:00:00+00:00  0.164009\n",
              "2 2021-12-06 00:00:00+00:00  0.195809\n",
              "3 2021-12-07 00:00:00+00:00  0.192846\n",
              "4 2021-12-08 00:00:00+00:00  0.193016\n",
              "5 2021-12-09 00:00:00+00:00  0.187635\n",
              "6 2021-12-10 00:00:00+00:00  0.180238\n",
              "7 2021-12-11 00:00:00+00:00  0.143330"
            ]
          },
          "metadata": {},
          "execution_count": 63
        }
      ]
    },
    {
      "cell_type": "code",
      "source": [
        "import pandas as pd\n",
        "MSFT_Final_df = pd.read_csv(\"MSFT_with_vader_sentiment.csv\", parse_dates = True, index_col = 'Date')\n",
        "MSFT_Final_df"
      ],
      "metadata": {
        "colab": {
          "base_uri": "https://localhost:8080/",
          "height": 455
        },
        "id": "7bOxQNdPIGqS",
        "outputId": "03fd9072-a04c-4cee-8f2b-998544bdab64"
      },
      "execution_count": null,
      "outputs": [
        {
          "output_type": "execute_result",
          "data": {
            "text/html": [
              "<div>\n",
              "<style scoped>\n",
              "    .dataframe tbody tr th:only-of-type {\n",
              "        vertical-align: middle;\n",
              "    }\n",
              "\n",
              "    .dataframe tbody tr th {\n",
              "        vertical-align: top;\n",
              "    }\n",
              "\n",
              "    .dataframe thead th {\n",
              "        text-align: right;\n",
              "    }\n",
              "</style>\n",
              "<table border=\"1\" class=\"dataframe\">\n",
              "  <thead>\n",
              "    <tr style=\"text-align: right;\">\n",
              "      <th></th>\n",
              "      <th>Unnamed: 0</th>\n",
              "      <th>Unnamed: 0.1</th>\n",
              "      <th>Open</th>\n",
              "      <th>High</th>\n",
              "      <th>Low</th>\n",
              "      <th>Close</th>\n",
              "      <th>Adj Close</th>\n",
              "      <th>Volume</th>\n",
              "      <th>pos_vader</th>\n",
              "      <th>neg_vader</th>\n",
              "      <th>neu_vader</th>\n",
              "      <th>comp_vader</th>\n",
              "    </tr>\n",
              "    <tr>\n",
              "      <th>Date</th>\n",
              "      <th></th>\n",
              "      <th></th>\n",
              "      <th></th>\n",
              "      <th></th>\n",
              "      <th></th>\n",
              "      <th></th>\n",
              "      <th></th>\n",
              "      <th></th>\n",
              "      <th></th>\n",
              "      <th></th>\n",
              "      <th></th>\n",
              "      <th></th>\n",
              "    </tr>\n",
              "  </thead>\n",
              "  <tbody>\n",
              "    <tr>\n",
              "      <th>2009-09-21</th>\n",
              "      <td>0</td>\n",
              "      <td>0</td>\n",
              "      <td>25.110001</td>\n",
              "      <td>25.370001</td>\n",
              "      <td>25.100000</td>\n",
              "      <td>25.299999</td>\n",
              "      <td>19.717058</td>\n",
              "      <td>28878700</td>\n",
              "      <td>0.0000</td>\n",
              "      <td>0.00000</td>\n",
              "      <td>1.0000</td>\n",
              "      <td>0.000000</td>\n",
              "    </tr>\n",
              "    <tr>\n",
              "      <th>2009-09-22</th>\n",
              "      <td>1</td>\n",
              "      <td>1</td>\n",
              "      <td>25.400000</td>\n",
              "      <td>25.820000</td>\n",
              "      <td>25.290001</td>\n",
              "      <td>25.770000</td>\n",
              "      <td>20.083347</td>\n",
              "      <td>61376700</td>\n",
              "      <td>0.2780</td>\n",
              "      <td>0.00000</td>\n",
              "      <td>0.7220</td>\n",
              "      <td>0.401900</td>\n",
              "    </tr>\n",
              "    <tr>\n",
              "      <th>2009-09-23</th>\n",
              "      <td>2</td>\n",
              "      <td>2</td>\n",
              "      <td>25.920000</td>\n",
              "      <td>26.250000</td>\n",
              "      <td>25.639999</td>\n",
              "      <td>25.709999</td>\n",
              "      <td>20.036585</td>\n",
              "      <td>60599900</td>\n",
              "      <td>0.2780</td>\n",
              "      <td>0.00000</td>\n",
              "      <td>0.7220</td>\n",
              "      <td>0.401900</td>\n",
              "    </tr>\n",
              "    <tr>\n",
              "      <th>2009-09-24</th>\n",
              "      <td>3</td>\n",
              "      <td>3</td>\n",
              "      <td>25.920000</td>\n",
              "      <td>26.110001</td>\n",
              "      <td>25.660000</td>\n",
              "      <td>25.940001</td>\n",
              "      <td>20.215834</td>\n",
              "      <td>56302900</td>\n",
              "      <td>0.1018</td>\n",
              "      <td>0.03440</td>\n",
              "      <td>0.8638</td>\n",
              "      <td>0.116600</td>\n",
              "    </tr>\n",
              "    <tr>\n",
              "      <th>2009-09-25</th>\n",
              "      <td>4</td>\n",
              "      <td>4</td>\n",
              "      <td>25.690001</td>\n",
              "      <td>25.820000</td>\n",
              "      <td>25.520000</td>\n",
              "      <td>25.549999</td>\n",
              "      <td>19.911896</td>\n",
              "      <td>50158900</td>\n",
              "      <td>0.2170</td>\n",
              "      <td>0.00000</td>\n",
              "      <td>0.7830</td>\n",
              "      <td>0.361200</td>\n",
              "    </tr>\n",
              "    <tr>\n",
              "      <th>...</th>\n",
              "      <td>...</td>\n",
              "      <td>...</td>\n",
              "      <td>...</td>\n",
              "      <td>...</td>\n",
              "      <td>...</td>\n",
              "      <td>...</td>\n",
              "      <td>...</td>\n",
              "      <td>...</td>\n",
              "      <td>...</td>\n",
              "      <td>...</td>\n",
              "      <td>...</td>\n",
              "      <td>...</td>\n",
              "    </tr>\n",
              "    <tr>\n",
              "      <th>2020-05-24</th>\n",
              "      <td>3898</td>\n",
              "      <td>3898</td>\n",
              "      <td>183.190002</td>\n",
              "      <td>184.460007</td>\n",
              "      <td>182.539993</td>\n",
              "      <td>183.509995</td>\n",
              "      <td>183.509995</td>\n",
              "      <td>20826900</td>\n",
              "      <td>0.1695</td>\n",
              "      <td>0.05925</td>\n",
              "      <td>0.7710</td>\n",
              "      <td>0.242000</td>\n",
              "    </tr>\n",
              "    <tr>\n",
              "      <th>2020-05-25</th>\n",
              "      <td>3899</td>\n",
              "      <td>3899</td>\n",
              "      <td>183.190002</td>\n",
              "      <td>184.460007</td>\n",
              "      <td>182.539993</td>\n",
              "      <td>183.509995</td>\n",
              "      <td>183.509995</td>\n",
              "      <td>20826900</td>\n",
              "      <td>0.1695</td>\n",
              "      <td>0.05925</td>\n",
              "      <td>0.7710</td>\n",
              "      <td>0.242000</td>\n",
              "    </tr>\n",
              "    <tr>\n",
              "      <th>2020-05-26</th>\n",
              "      <td>3900</td>\n",
              "      <td>3900</td>\n",
              "      <td>186.339996</td>\n",
              "      <td>186.500000</td>\n",
              "      <td>181.100006</td>\n",
              "      <td>181.570007</td>\n",
              "      <td>181.570007</td>\n",
              "      <td>36073600</td>\n",
              "      <td>0.1180</td>\n",
              "      <td>0.00000</td>\n",
              "      <td>0.8820</td>\n",
              "      <td>0.250000</td>\n",
              "    </tr>\n",
              "    <tr>\n",
              "      <th>2020-05-27</th>\n",
              "      <td>3901</td>\n",
              "      <td>3901</td>\n",
              "      <td>180.199997</td>\n",
              "      <td>181.990005</td>\n",
              "      <td>176.600006</td>\n",
              "      <td>181.809998</td>\n",
              "      <td>181.809998</td>\n",
              "      <td>39517100</td>\n",
              "      <td>0.2265</td>\n",
              "      <td>0.00000</td>\n",
              "      <td>0.7735</td>\n",
              "      <td>0.414400</td>\n",
              "    </tr>\n",
              "    <tr>\n",
              "      <th>2020-05-28</th>\n",
              "      <td>3902</td>\n",
              "      <td>3902</td>\n",
              "      <td>180.740005</td>\n",
              "      <td>184.149994</td>\n",
              "      <td>180.380005</td>\n",
              "      <td>181.399994</td>\n",
              "      <td>181.399994</td>\n",
              "      <td>33810200</td>\n",
              "      <td>0.0810</td>\n",
              "      <td>0.00000</td>\n",
              "      <td>0.9190</td>\n",
              "      <td>0.146475</td>\n",
              "    </tr>\n",
              "  </tbody>\n",
              "</table>\n",
              "<p>3903 rows × 12 columns</p>\n",
              "</div>"
            ],
            "text/plain": [
              "            Unnamed: 0  Unnamed: 0.1  ...  neu_vader  comp_vader\n",
              "Date                                  ...                       \n",
              "2009-09-21           0             0  ...     1.0000    0.000000\n",
              "2009-09-22           1             1  ...     0.7220    0.401900\n",
              "2009-09-23           2             2  ...     0.7220    0.401900\n",
              "2009-09-24           3             3  ...     0.8638    0.116600\n",
              "2009-09-25           4             4  ...     0.7830    0.361200\n",
              "...                ...           ...  ...        ...         ...\n",
              "2020-05-24        3898          3898  ...     0.7710    0.242000\n",
              "2020-05-25        3899          3899  ...     0.7710    0.242000\n",
              "2020-05-26        3900          3900  ...     0.8820    0.250000\n",
              "2020-05-27        3901          3901  ...     0.7735    0.414400\n",
              "2020-05-28        3902          3902  ...     0.9190    0.146475\n",
              "\n",
              "[3903 rows x 12 columns]"
            ]
          },
          "metadata": {},
          "execution_count": 1
        }
      ]
    },
    {
      "cell_type": "code",
      "source": [
        "del MSFT_Final_df['Unnamed: 0']\n",
        "del MSFT_Final_df['Unnamed: 0.1']"
      ],
      "metadata": {
        "id": "zVLOAQWwIYV0"
      },
      "execution_count": null,
      "outputs": []
    },
    {
      "cell_type": "code",
      "source": [
        "MSFT_Final_df.drop(columns=['Volume','Adj Close','pos_vader','neu_vader','neg_vader'],inplace=True)"
      ],
      "metadata": {
        "id": "xP0MgI78JPHr"
      },
      "execution_count": null,
      "outputs": []
    },
    {
      "cell_type": "code",
      "source": [
        "MSFT_Final_df"
      ],
      "metadata": {
        "colab": {
          "base_uri": "https://localhost:8080/",
          "height": 455
        },
        "id": "JCltw4eNJXgX",
        "outputId": "1fd86951-c3aa-419e-9488-6788b09f106e"
      },
      "execution_count": null,
      "outputs": [
        {
          "output_type": "execute_result",
          "data": {
            "text/html": [
              "<div>\n",
              "<style scoped>\n",
              "    .dataframe tbody tr th:only-of-type {\n",
              "        vertical-align: middle;\n",
              "    }\n",
              "\n",
              "    .dataframe tbody tr th {\n",
              "        vertical-align: top;\n",
              "    }\n",
              "\n",
              "    .dataframe thead th {\n",
              "        text-align: right;\n",
              "    }\n",
              "</style>\n",
              "<table border=\"1\" class=\"dataframe\">\n",
              "  <thead>\n",
              "    <tr style=\"text-align: right;\">\n",
              "      <th></th>\n",
              "      <th>Open</th>\n",
              "      <th>High</th>\n",
              "      <th>Low</th>\n",
              "      <th>Close</th>\n",
              "      <th>comp_vader</th>\n",
              "    </tr>\n",
              "    <tr>\n",
              "      <th>Date</th>\n",
              "      <th></th>\n",
              "      <th></th>\n",
              "      <th></th>\n",
              "      <th></th>\n",
              "      <th></th>\n",
              "    </tr>\n",
              "  </thead>\n",
              "  <tbody>\n",
              "    <tr>\n",
              "      <th>2009-09-21</th>\n",
              "      <td>25.110001</td>\n",
              "      <td>25.370001</td>\n",
              "      <td>25.100000</td>\n",
              "      <td>25.299999</td>\n",
              "      <td>0.000000</td>\n",
              "    </tr>\n",
              "    <tr>\n",
              "      <th>2009-09-22</th>\n",
              "      <td>25.400000</td>\n",
              "      <td>25.820000</td>\n",
              "      <td>25.290001</td>\n",
              "      <td>25.770000</td>\n",
              "      <td>0.401900</td>\n",
              "    </tr>\n",
              "    <tr>\n",
              "      <th>2009-09-23</th>\n",
              "      <td>25.920000</td>\n",
              "      <td>26.250000</td>\n",
              "      <td>25.639999</td>\n",
              "      <td>25.709999</td>\n",
              "      <td>0.401900</td>\n",
              "    </tr>\n",
              "    <tr>\n",
              "      <th>2009-09-24</th>\n",
              "      <td>25.920000</td>\n",
              "      <td>26.110001</td>\n",
              "      <td>25.660000</td>\n",
              "      <td>25.940001</td>\n",
              "      <td>0.116600</td>\n",
              "    </tr>\n",
              "    <tr>\n",
              "      <th>2009-09-25</th>\n",
              "      <td>25.690001</td>\n",
              "      <td>25.820000</td>\n",
              "      <td>25.520000</td>\n",
              "      <td>25.549999</td>\n",
              "      <td>0.361200</td>\n",
              "    </tr>\n",
              "    <tr>\n",
              "      <th>...</th>\n",
              "      <td>...</td>\n",
              "      <td>...</td>\n",
              "      <td>...</td>\n",
              "      <td>...</td>\n",
              "      <td>...</td>\n",
              "    </tr>\n",
              "    <tr>\n",
              "      <th>2020-05-24</th>\n",
              "      <td>183.190002</td>\n",
              "      <td>184.460007</td>\n",
              "      <td>182.539993</td>\n",
              "      <td>183.509995</td>\n",
              "      <td>0.242000</td>\n",
              "    </tr>\n",
              "    <tr>\n",
              "      <th>2020-05-25</th>\n",
              "      <td>183.190002</td>\n",
              "      <td>184.460007</td>\n",
              "      <td>182.539993</td>\n",
              "      <td>183.509995</td>\n",
              "      <td>0.242000</td>\n",
              "    </tr>\n",
              "    <tr>\n",
              "      <th>2020-05-26</th>\n",
              "      <td>186.339996</td>\n",
              "      <td>186.500000</td>\n",
              "      <td>181.100006</td>\n",
              "      <td>181.570007</td>\n",
              "      <td>0.250000</td>\n",
              "    </tr>\n",
              "    <tr>\n",
              "      <th>2020-05-27</th>\n",
              "      <td>180.199997</td>\n",
              "      <td>181.990005</td>\n",
              "      <td>176.600006</td>\n",
              "      <td>181.809998</td>\n",
              "      <td>0.414400</td>\n",
              "    </tr>\n",
              "    <tr>\n",
              "      <th>2020-05-28</th>\n",
              "      <td>180.740005</td>\n",
              "      <td>184.149994</td>\n",
              "      <td>180.380005</td>\n",
              "      <td>181.399994</td>\n",
              "      <td>0.146475</td>\n",
              "    </tr>\n",
              "  </tbody>\n",
              "</table>\n",
              "<p>3903 rows × 5 columns</p>\n",
              "</div>"
            ],
            "text/plain": [
              "                  Open        High         Low       Close  comp_vader\n",
              "Date                                                                  \n",
              "2009-09-21   25.110001   25.370001   25.100000   25.299999    0.000000\n",
              "2009-09-22   25.400000   25.820000   25.290001   25.770000    0.401900\n",
              "2009-09-23   25.920000   26.250000   25.639999   25.709999    0.401900\n",
              "2009-09-24   25.920000   26.110001   25.660000   25.940001    0.116600\n",
              "2009-09-25   25.690001   25.820000   25.520000   25.549999    0.361200\n",
              "...                ...         ...         ...         ...         ...\n",
              "2020-05-24  183.190002  184.460007  182.539993  183.509995    0.242000\n",
              "2020-05-25  183.190002  184.460007  182.539993  183.509995    0.242000\n",
              "2020-05-26  186.339996  186.500000  181.100006  181.570007    0.250000\n",
              "2020-05-27  180.199997  181.990005  176.600006  181.809998    0.414400\n",
              "2020-05-28  180.740005  184.149994  180.380005  181.399994    0.146475\n",
              "\n",
              "[3903 rows x 5 columns]"
            ]
          },
          "metadata": {},
          "execution_count": 4
        }
      ]
    },
    {
      "cell_type": "code",
      "source": [
        "MSFT_Final_df.columns = [['open', 'high', 'low','close','comp']]"
      ],
      "metadata": {
        "id": "5shjlO27Jfiz"
      },
      "execution_count": null,
      "outputs": []
    },
    {
      "cell_type": "code",
      "source": [
        "from sklearn.preprocessing import MinMaxScaler\n",
        "sc = MinMaxScaler()"
      ],
      "metadata": {
        "id": "Vrvh9ba8KjIn"
      },
      "execution_count": null,
      "outputs": []
    },
    {
      "cell_type": "code",
      "source": [
        "data = sc.fit_transform(MSFT_Final_df)"
      ],
      "metadata": {
        "colab": {
          "base_uri": "https://localhost:8080/"
        },
        "id": "toVbdHtdKq7I",
        "outputId": "760eacc2-d457-432b-faad-c0130cc23154"
      },
      "execution_count": null,
      "outputs": [
        {
          "output_type": "stream",
          "name": "stderr",
          "text": [
            "/usr/local/lib/python3.7/dist-packages/sklearn/utils/validation.py:1679: FutureWarning: Feature names only support names that are all strings. Got feature names with dtypes: ['tuple']. An error will be raised in 1.2.\n",
            "  FutureWarning,\n",
            "/usr/local/lib/python3.7/dist-packages/sklearn/utils/validation.py:1679: FutureWarning: Feature names only support names that are all strings. Got feature names with dtypes: ['tuple']. An error will be raised in 1.2.\n",
            "  FutureWarning,\n"
          ]
        }
      ]
    },
    {
      "cell_type": "code",
      "source": [
        "data"
      ],
      "metadata": {
        "colab": {
          "base_uri": "https://localhost:8080/"
        },
        "id": "-1JiE1ltKy7Y",
        "outputId": "104ded5f-4bfa-4769-e566-3281bbede16a"
      },
      "execution_count": null,
      "outputs": [
        {
          "output_type": "execute_result",
          "data": {
            "text/plain": [
              "array([[0.01205539, 0.01224759, 0.01447417, 0.01382099, 0.46057927],\n",
              "       [0.01378611, 0.01493607, 0.01563455, 0.01665761, 0.68837499],\n",
              "       [0.01688947, 0.01750508, 0.01777207, 0.01629549, 0.68837499],\n",
              "       ...,\n",
              "       [0.97427788, 0.97490741, 0.96720413, 0.95696789, 0.60227852],\n",
              "       [0.9376343 , 0.94796277, 0.93972154, 0.95841632, 0.69545996],\n",
              "       [0.94085707, 0.96086747, 0.96280691, 0.9559418 , 0.54360086]])"
            ]
          },
          "metadata": {},
          "execution_count": 8
        }
      ]
    },
    {
      "cell_type": "code",
      "source": [
        "train_ind = int(0.6*len(MSFT_Final_df))\n",
        "val_ind = train_ind + int(0.2*len(MSFT_Final_df))\n",
        "train = data[:train_ind]\n",
        "val = data[train_ind:val_ind]\n",
        "test = data[val_ind:]"
      ],
      "metadata": {
        "id": "07ItZ5RI4JEA"
      },
      "execution_count": null,
      "outputs": []
    },
    {
      "cell_type": "code",
      "source": [
        "xtrain,ytrain,xval,yval,xtest,ytest = train[:,:],train[:,3],val[:,:],val[:,3],test[:,:],test[:,3]\n",
        "xtrain.shape, ytrain.shape"
      ],
      "metadata": {
        "colab": {
          "base_uri": "https://localhost:8080/"
        },
        "id": "BoBeXs1u4Mne",
        "outputId": "3e0f4896-4bf2-4e4b-c0df-9f67d10f8ddd"
      },
      "execution_count": null,
      "outputs": [
        {
          "output_type": "execute_result",
          "data": {
            "text/plain": [
              "((2341, 5), (2341,))"
            ]
          },
          "metadata": {},
          "execution_count": 10
        }
      ]
    },
    {
      "cell_type": "code",
      "source": [
        "lookback = 60\n",
        "n_features = 5\n",
        "train_len = len(xtrain) - lookback\n",
        "test_len = len(xtest) - lookback\n",
        "val_len = len(xval) - lookback"
      ],
      "metadata": {
        "id": "GpCwGShlLD0u"
      },
      "execution_count": null,
      "outputs": []
    },
    {
      "cell_type": "code",
      "source": [
        "import numpy as np\n",
        "x_train = np.zeros((train_len, lookback, n_features))\n",
        "y_train = np.zeros((train_len))\n",
        "for i in range(train_len):\n",
        "    ytemp = i+lookback\n",
        "    x_train[i] = xtrain[i:ytemp]\n",
        "    y_train[i] = ytrain[ytemp]\n",
        "print(\"x_train\", x_train.shape)\n",
        "print(\"y_train\", y_train.shape)"
      ],
      "metadata": {
        "colab": {
          "base_uri": "https://localhost:8080/"
        },
        "id": "KfyR2-fCLE3x",
        "outputId": "91a1ba47-e4b8-416b-b367-0520a4df0890"
      },
      "execution_count": null,
      "outputs": [
        {
          "output_type": "stream",
          "name": "stdout",
          "text": [
            "x_train (2281, 60, 5)\n",
            "y_train (2281,)\n"
          ]
        }
      ]
    },
    {
      "cell_type": "code",
      "source": [
        "x_val = np.zeros((val_len, lookback, n_features))\n",
        "y_val = np.zeros((val_len))\n",
        "for i in range(val_len):\n",
        "    ytemp = i+lookback\n",
        "    x_val[i] = xval[i:ytemp]\n",
        "    y_val[i] = yval[ytemp]\n",
        "print(\"x_val\", x_val.shape)\n",
        "print(\"y_val\", y_val.shape)"
      ],
      "metadata": {
        "colab": {
          "base_uri": "https://localhost:8080/"
        },
        "id": "PWrYKCBOLVvF",
        "outputId": "9c9aace5-982f-4bd0-a9a2-8e261b5f8f23"
      },
      "execution_count": null,
      "outputs": [
        {
          "output_type": "stream",
          "name": "stdout",
          "text": [
            "x_val (720, 60, 5)\n",
            "y_val (720,)\n"
          ]
        }
      ]
    },
    {
      "cell_type": "code",
      "source": [
        "x_test = np.zeros((test_len, lookback, n_features))\n",
        "y_test = np.zeros((test_len))\n",
        "for i in range(test_len):\n",
        "    ytemp = i+lookback\n",
        "    x_test[i] = xtest[i:ytemp]\n",
        "    y_test[i] = ytest[ytemp]\n",
        "print(\"x_test\", x_test.shape)\n",
        "print(\"y_test\", y_test.shape)"
      ],
      "metadata": {
        "colab": {
          "base_uri": "https://localhost:8080/"
        },
        "id": "TgpkzgJLLXyN",
        "outputId": "07b9a05a-077a-4f3a-d188-90dd22bd59d1"
      },
      "execution_count": null,
      "outputs": [
        {
          "output_type": "stream",
          "name": "stdout",
          "text": [
            "x_test (722, 60, 5)\n",
            "y_test (722,)\n"
          ]
        }
      ]
    },
    {
      "cell_type": "code",
      "source": [
        "import tensorflow\n",
        "from keras.models import Sequential, load_model\n",
        "from keras.layers.core import Dense, Activation, Dropout, Flatten\n",
        "from keras.layers import LSTM\n",
        "from tensorflow.keras.optimizers import Adam\n",
        "from time import time\n",
        "from keras.callbacks import EarlyStopping"
      ],
      "metadata": {
        "id": "_qVWS68iLy3L"
      },
      "execution_count": null,
      "outputs": []
    },
    {
      "cell_type": "code",
      "source": [
        "model = Sequential() \n",
        "model.add(LSTM(110,input_shape = (lookback, n_features), return_sequences=True))\n",
        "model.add(LSTM(110))\n",
        "model.add(Dense(1))"
      ],
      "metadata": {
        "id": "A-PQyTboL_yU"
      },
      "execution_count": null,
      "outputs": []
    },
    {
      "cell_type": "code",
      "source": [
        "model.compile(loss = 'mse', optimizer = 'adam', metrics= ['mape'])\n",
        "# earlystop = EarlyStopping(monitor='val_loss', min_delta=0.0001, patience=80,  verbose=1, mode='min')"
      ],
      "metadata": {
        "id": "QUlb1coVMTC7"
      },
      "execution_count": null,
      "outputs": []
    },
    {
      "cell_type": "code",
      "source": [
        "start = time()\n",
        "print(\"start:\",0)\n",
        "model.fit(x_train,y_train, epochs = 60, batch_size=40, \n",
        "          validation_data=(x_val,y_val),verbose = 1, \n",
        "          shuffle = False)\n",
        "print(\"end:\",time()-start)"
      ],
      "metadata": {
        "colab": {
          "base_uri": "https://localhost:8080/"
        },
        "id": "pfOLrLE3MXQz",
        "outputId": "22d2f25f-c14a-44b5-c562-917671122c10"
      },
      "execution_count": null,
      "outputs": [
        {
          "output_type": "stream",
          "name": "stdout",
          "text": [
            "start: 0\n",
            "Epoch 1/60\n",
            "58/58 [==============================] - 10s 58ms/step - loss: 0.0013 - mape: 48771.9883 - val_loss: 0.0045 - val_mape: 16.4577\n",
            "Epoch 2/60\n",
            "58/58 [==============================] - 2s 38ms/step - loss: 0.0013 - mape: 21757.9902 - val_loss: 0.0075 - val_mape: 21.8582\n",
            "Epoch 3/60\n",
            "58/58 [==============================] - 2s 38ms/step - loss: 0.0013 - mape: 29990.0117 - val_loss: 0.0089 - val_mape: 26.4044\n",
            "Epoch 4/60\n",
            "58/58 [==============================] - 2s 38ms/step - loss: 8.2226e-04 - mape: 29735.7129 - val_loss: 0.0042 - val_mape: 17.3906\n",
            "Epoch 5/60\n",
            "58/58 [==============================] - 2s 40ms/step - loss: 5.7812e-04 - mape: 25758.1816 - val_loss: 0.0019 - val_mape: 11.5795\n",
            "Epoch 6/60\n",
            "58/58 [==============================] - 2s 39ms/step - loss: 4.1783e-04 - mape: 22197.2461 - val_loss: 4.2766e-04 - val_mape: 5.4031\n",
            "Epoch 7/60\n",
            "58/58 [==============================] - 2s 39ms/step - loss: 2.7379e-04 - mape: 18248.2031 - val_loss: 7.5425e-05 - val_mape: 2.2182\n",
            "Epoch 8/60\n",
            "58/58 [==============================] - 2s 39ms/step - loss: 1.4751e-04 - mape: 15676.3965 - val_loss: 7.3754e-04 - val_mape: 6.1746\n",
            "Epoch 9/60\n",
            "58/58 [==============================] - 2s 41ms/step - loss: 8.3528e-05 - mape: 12576.4551 - val_loss: 0.0016 - val_mape: 8.8902\n",
            "Epoch 10/60\n",
            "58/58 [==============================] - 2s 38ms/step - loss: 4.8965e-05 - mape: 9859.6221 - val_loss: 0.0017 - val_mape: 9.0783\n",
            "Epoch 11/60\n",
            "58/58 [==============================] - 2s 38ms/step - loss: 3.8621e-05 - mape: 8741.5547 - val_loss: 0.0015 - val_mape: 8.5015\n",
            "Epoch 12/60\n",
            "58/58 [==============================] - 2s 40ms/step - loss: 3.5962e-05 - mape: 8446.5811 - val_loss: 0.0012 - val_mape: 7.9037\n",
            "Epoch 13/60\n",
            "58/58 [==============================] - 2s 38ms/step - loss: 3.4377e-05 - mape: 8218.8828 - val_loss: 0.0011 - val_mape: 7.3189\n",
            "Epoch 14/60\n",
            "58/58 [==============================] - 2s 38ms/step - loss: 3.2800e-05 - mape: 7944.2690 - val_loss: 8.7562e-04 - val_mape: 6.7350\n",
            "Epoch 15/60\n",
            "58/58 [==============================] - 2s 38ms/step - loss: 3.1606e-05 - mape: 7709.3047 - val_loss: 7.2137e-04 - val_mape: 6.1792\n",
            "Epoch 16/60\n",
            "58/58 [==============================] - 2s 40ms/step - loss: 3.0776e-05 - mape: 7521.4404 - val_loss: 5.9083e-04 - val_mape: 5.6587\n",
            "Epoch 17/60\n",
            "58/58 [==============================] - 2s 38ms/step - loss: 3.0195e-05 - mape: 7366.5557 - val_loss: 4.8173e-04 - val_mape: 5.1755\n",
            "Epoch 18/60\n",
            "58/58 [==============================] - 2s 40ms/step - loss: 2.9848e-05 - mape: 7241.9673 - val_loss: 3.9176e-04 - val_mape: 4.7320\n",
            "Epoch 19/60\n",
            "58/58 [==============================] - 2s 38ms/step - loss: 2.9749e-05 - mape: 7145.8906 - val_loss: 3.1846e-04 - val_mape: 4.3302\n",
            "Epoch 20/60\n",
            "58/58 [==============================] - 2s 40ms/step - loss: 2.9934e-05 - mape: 7076.5020 - val_loss: 2.5949e-04 - val_mape: 3.9710\n",
            "Epoch 21/60\n",
            "58/58 [==============================] - 2s 41ms/step - loss: 3.0466e-05 - mape: 7033.0098 - val_loss: 2.1268e-04 - val_mape: 3.6578\n",
            "Epoch 22/60\n",
            "58/58 [==============================] - 2s 38ms/step - loss: 3.1450e-05 - mape: 7016.3315 - val_loss: 1.7608e-04 - val_mape: 3.3951\n",
            "Epoch 23/60\n",
            "58/58 [==============================] - 2s 38ms/step - loss: 3.3063e-05 - mape: 7030.1309 - val_loss: 1.4813e-04 - val_mape: 3.1883\n",
            "Epoch 24/60\n",
            "58/58 [==============================] - 2s 38ms/step - loss: 3.5616e-05 - mape: 7082.5723 - val_loss: 1.2785e-04 - val_mape: 3.0502\n",
            "Epoch 25/60\n",
            "58/58 [==============================] - 2s 40ms/step - loss: 3.9671e-05 - mape: 7189.3555 - val_loss: 1.1552e-04 - val_mape: 3.0167\n",
            "Epoch 26/60\n",
            "58/58 [==============================] - 2s 38ms/step - loss: 4.6284e-05 - mape: 7378.6831 - val_loss: 1.1432e-04 - val_mape: 3.1802\n",
            "Epoch 27/60\n",
            "58/58 [==============================] - 2s 39ms/step - loss: 5.7362e-05 - mape: 7698.4575 - val_loss: 1.3390e-04 - val_mape: 3.7140\n",
            "Epoch 28/60\n",
            "58/58 [==============================] - 2s 41ms/step - loss: 7.5761e-05 - mape: 8220.8623 - val_loss: 1.9207e-04 - val_mape: 4.7635\n",
            "Epoch 29/60\n",
            "58/58 [==============================] - 2s 39ms/step - loss: 1.0272e-04 - mape: 9018.8398 - val_loss: 2.8687e-04 - val_mape: 6.0021\n",
            "Epoch 30/60\n",
            "58/58 [==============================] - 2s 40ms/step - loss: 1.2891e-04 - mape: 10035.1123 - val_loss: 3.8905e-04 - val_mape: 6.8449\n",
            "Epoch 31/60\n",
            "58/58 [==============================] - 2s 38ms/step - loss: 1.3122e-04 - mape: 10732.9668 - val_loss: 5.4101e-04 - val_mape: 7.4958\n",
            "Epoch 32/60\n",
            "58/58 [==============================] - 2s 41ms/step - loss: 1.0119e-04 - mape: 10310.8340 - val_loss: 6.6280e-04 - val_mape: 7.4484\n",
            "Epoch 33/60\n",
            "58/58 [==============================] - 2s 41ms/step - loss: 6.4121e-05 - mape: 9046.8643 - val_loss: 6.1845e-04 - val_mape: 6.4718\n",
            "Epoch 34/60\n",
            "58/58 [==============================] - 2s 38ms/step - loss: 4.2797e-05 - mape: 7979.2969 - val_loss: 5.1894e-04 - val_mape: 5.5732\n",
            "Epoch 35/60\n",
            "58/58 [==============================] - 2s 41ms/step - loss: 3.3994e-05 - mape: 7371.2817 - val_loss: 4.2727e-04 - val_mape: 4.8969\n",
            "Epoch 36/60\n",
            "58/58 [==============================] - 2s 39ms/step - loss: 2.9788e-05 - mape: 6987.9253 - val_loss: 3.5135e-04 - val_mape: 4.3698\n",
            "Epoch 37/60\n",
            "58/58 [==============================] - 2s 39ms/step - loss: 2.7308e-05 - mape: 6705.4019 - val_loss: 2.8984e-04 - val_mape: 3.9315\n",
            "Epoch 38/60\n",
            "58/58 [==============================] - 2s 39ms/step - loss: 2.5555e-05 - mape: 6473.2339 - val_loss: 2.4095e-04 - val_mape: 3.5597\n",
            "Epoch 39/60\n",
            "58/58 [==============================] - 2s 41ms/step - loss: 2.4126e-05 - mape: 6268.1851 - val_loss: 2.0329e-04 - val_mape: 3.2522\n",
            "Epoch 40/60\n",
            "58/58 [==============================] - 2s 39ms/step - loss: 2.2821e-05 - mape: 6075.5889 - val_loss: 1.7606e-04 - val_mape: 3.0149\n",
            "Epoch 41/60\n",
            "58/58 [==============================] - 2s 38ms/step - loss: 2.1525e-05 - mape: 5883.5537 - val_loss: 1.5926e-04 - val_mape: 2.8590\n",
            "Epoch 42/60\n",
            "58/58 [==============================] - 2s 40ms/step - loss: 2.0206e-05 - mape: 5681.5640 - val_loss: 1.5386e-04 - val_mape: 2.8055\n",
            "Epoch 43/60\n",
            "58/58 [==============================] - 2s 39ms/step - loss: 1.8964e-05 - mape: 5462.3638 - val_loss: 1.6150e-04 - val_mape: 2.8757\n",
            "Epoch 44/60\n",
            "58/58 [==============================] - 2s 39ms/step - loss: 1.8095e-05 - mape: 5228.5923 - val_loss: 1.8196e-04 - val_mape: 3.0592\n",
            "Epoch 45/60\n",
            "58/58 [==============================] - 2s 38ms/step - loss: 1.7998e-05 - mape: 5003.7305 - val_loss: 2.0708e-04 - val_mape: 3.2681\n",
            "Epoch 46/60\n",
            "58/58 [==============================] - 2s 40ms/step - loss: 1.8708e-05 - mape: 4832.0195 - val_loss: 2.2211e-04 - val_mape: 3.3796\n",
            "Epoch 47/60\n",
            "58/58 [==============================] - 2s 38ms/step - loss: 1.9600e-05 - mape: 4741.8711 - val_loss: 2.2210e-04 - val_mape: 3.3734\n",
            "Epoch 48/60\n",
            "58/58 [==============================] - 2s 40ms/step - loss: 2.0041e-05 - mape: 4709.8057 - val_loss: 2.1408e-04 - val_mape: 3.3117\n",
            "Epoch 49/60\n",
            "58/58 [==============================] - 2s 40ms/step - loss: 1.9962e-05 - mape: 4694.7397 - val_loss: 2.0447e-04 - val_mape: 3.2421\n",
            "Epoch 50/60\n",
            "58/58 [==============================] - 2s 40ms/step - loss: 1.9585e-05 - mape: 4677.9873 - val_loss: 1.9569e-04 - val_mape: 3.1802\n",
            "Epoch 51/60\n",
            "58/58 [==============================] - 2s 40ms/step - loss: 1.9099e-05 - mape: 4657.1880 - val_loss: 1.8821e-04 - val_mape: 3.1279\n",
            "Epoch 52/60\n",
            "58/58 [==============================] - 2s 39ms/step - loss: 1.8602e-05 - mape: 4633.5576 - val_loss: 1.8191e-04 - val_mape: 3.0829\n",
            "Epoch 53/60\n",
            "58/58 [==============================] - 2s 39ms/step - loss: 1.8134e-05 - mape: 4608.2129 - val_loss: 1.7648e-04 - val_mape: 3.0425\n",
            "Epoch 54/60\n",
            "58/58 [==============================] - 2s 38ms/step - loss: 1.7710e-05 - mape: 4581.8228 - val_loss: 1.7159e-04 - val_mape: 3.0046\n",
            "Epoch 55/60\n",
            "58/58 [==============================] - 2s 40ms/step - loss: 1.7332e-05 - mape: 4554.7598 - val_loss: 1.6696e-04 - val_mape: 2.9653\n",
            "Epoch 56/60\n",
            "58/58 [==============================] - 2s 38ms/step - loss: 1.7001e-05 - mape: 4527.2617 - val_loss: 1.6234e-04 - val_mape: 2.9234\n",
            "Epoch 57/60\n",
            "58/58 [==============================] - 2s 38ms/step - loss: 1.6713e-05 - mape: 4499.5469 - val_loss: 1.5758e-04 - val_mape: 2.8780\n",
            "Epoch 58/60\n",
            "58/58 [==============================] - 2s 38ms/step - loss: 1.6469e-05 - mape: 4471.8564 - val_loss: 1.5260e-04 - val_mape: 2.8286\n",
            "Epoch 59/60\n",
            "58/58 [==============================] - 2s 40ms/step - loss: 1.6264e-05 - mape: 4444.4751 - val_loss: 1.4736e-04 - val_mape: 2.7746\n",
            "Epoch 60/60\n",
            "58/58 [==============================] - 2s 41ms/step - loss: 1.6098e-05 - mape: 4417.7441 - val_loss: 1.4189e-04 - val_mape: 2.7161\n",
            "end: 145.64099764823914\n"
          ]
        }
      ]
    },
    {
      "cell_type": "code",
      "source": [
        "import matplotlib.pyplot as plt\n",
        "loss = model.history.history\n",
        "loss = pd.DataFrame(loss)\n",
        "plt.plot(loss['loss'])\n",
        "plt.plot(loss['val_loss'])"
      ],
      "metadata": {
        "colab": {
          "base_uri": "https://localhost:8080/",
          "height": 282
        },
        "id": "b2lJdUHzONTj",
        "outputId": "08f769a5-5d84-4091-c130-63be42d0c706"
      },
      "execution_count": null,
      "outputs": [
        {
          "output_type": "execute_result",
          "data": {
            "text/plain": [
              "[<matplotlib.lines.Line2D at 0x7f0b8e9f6c10>]"
            ]
          },
          "metadata": {},
          "execution_count": 23
        },
        {
          "output_type": "display_data",
          "data": {
            "image/png": "[encoded data removed]",
            "text/plain": [
              "<Figure size 432x288 with 1 Axes>"
            ]
          },
          "metadata": {
            "needs_background": "light"
          }
        }
      ]
    },
    {
      "cell_type": "code",
      "source": [
        "y_pred = model.predict(x_test)\n",
        "\n",
        "plt.figure(figsize=(20,10))\n",
        "plt.plot( y_test, '.-', color='red', label='Real values', alpha=0.5)\n",
        "plt.plot( y_pred, '.-', color='blue', label='Predicted values', alpha=1)"
      ],
      "metadata": {
        "colab": {
          "base_uri": "https://localhost:8080/",
          "height": 609
        },
        "id": "wWWKzqHlMzbQ",
        "outputId": "ed29237e-e75d-47ba-ec41-7735c3f57559"
      },
      "execution_count": null,
      "outputs": [
        {
          "output_type": "execute_result",
          "data": {
            "text/plain": [
              "[<matplotlib.lines.Line2D at 0x7f0b8e33c6d0>]"
            ]
          },
          "metadata": {},
          "execution_count": 24
        },
        {
          "output_type": "display_data",
          "data": {
            "image/png": "[encoded data removed]",
            "text/plain": [
              "<Figure size 1440x720 with 1 Axes>"
            ]
          },
          "metadata": {
            "needs_background": "light"
          }
        }
      ]
    },
    {
      "cell_type": "code",
      "source": [
        "model.evaluate(x_test, y_test)"
      ],
      "metadata": {
        "colab": {
          "base_uri": "https://localhost:8080/"
        },
        "id": "tKJFWdiwO3Ep",
        "outputId": "a966a4ed-27d5-4686-985c-0e434fb2f431"
      },
      "execution_count": null,
      "outputs": [
        {
          "output_type": "stream",
          "name": "stdout",
          "text": [
            "23/23 [==============================] - 2s 14ms/step - loss: 0.0023 - mape: 6.8440\n"
          ]
        },
        {
          "output_type": "execute_result",
          "data": {
            "text/plain": [
              "[0.0022697793319821358, 6.843994617462158]"
            ]
          },
          "metadata": {},
          "execution_count": 25
        }
      ]
    }
  ]
}