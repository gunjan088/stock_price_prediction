{
  "nbformat": 4,
  "nbformat_minor": 0,
  "metadata": {
    "colab": {
      "provenance": [],
      "authorship_tag": "ABX9TyM0xKvXoV+6W4CLRn3HBWJK",
      "include_colab_link": true
    },
    "kernelspec": {
      "name": "python3",
      "display_name": "Python 3"
    },
    "language_info": {
      "name": "python"
    }
  },
  "cells": [
    {
      "cell_type": "markdown",
      "metadata": {
        "id": "view-in-github",
        "colab_type": "text"
      },
      "source": [
        "<a href=\"https://colab.research.google.com/github/Aayush-Jain01/AI_For_Economics_Term_Project/blob/main/LSTM%2BTweet_Extraction_%2B_TextBlob.ipynb\" target=\"_parent\"><img src=\"https://colab.research.google.com/assets/colab-badge.svg\" alt=\"Open In Colab\"/></a>"
      ]
    },
    {
      "cell_type": "code",
      "execution_count": null,
      "metadata": {
        "id": "KyCIGLkb2x-B"
      },
      "outputs": [],
      "source": [
        "from textblob import TextBlob"
      ]
    },
    {
      "cell_type": "code",
      "source": [
        "import nltk\n",
        "nltk.download('vader_lexicon')"
      ],
      "metadata": {
        "colab": {
          "base_uri": "https://localhost:8080/"
        },
        "id": "8Z79aO7-ARPO",
        "outputId": "a79fcfe6-a8cb-4a87-ec7f-e3f2458d2cc3"
      },
      "execution_count": null,
      "outputs": [
        {
          "output_type": "stream",
          "name": "stdout",
          "text": [
            "[nltk_data] Downloading package vader_lexicon to /root/nltk_data...\n"
          ]
        },
        {
          "output_type": "execute_result",
          "data": {
            "text/plain": [
              "True"
            ]
          },
          "metadata": {},
          "execution_count": 2
        }
      ]
    },
    {
      "cell_type": "code",
      "source": [
        "from nltk.sentiment.vader import SentimentIntensityAnalyzer\n",
        "\n",
        "sentiment = SentimentIntensityAnalyzer()"
      ],
      "metadata": {
        "colab": {
          "base_uri": "https://localhost:8080/"
        },
        "id": "vqW_MHFGAZ4I",
        "outputId": "5785de97-4879-49b2-8ed0-c62a2a08f673"
      },
      "execution_count": null,
      "outputs": [
        {
          "output_type": "stream",
          "name": "stderr",
          "text": [
            "/usr/local/lib/python3.7/dist-packages/nltk/twitter/__init__.py:20: UserWarning: The twython library has not been installed. Some functionality from the twitter package will not be available.\n",
            "  warnings.warn(\"The twython library has not been installed. \"\n"
          ]
        }
      ]
    },
    {
      "cell_type": "code",
      "source": [
        "print(TextBlob(\"good\").sentiment.polarity)"
      ],
      "metadata": {
        "colab": {
          "base_uri": "https://localhost:8080/"
        },
        "id": "YUCtIudT3O7_",
        "outputId": "2c81cce1-8c0e-4249-d416-afc84d767611"
      },
      "execution_count": null,
      "outputs": [
        {
          "output_type": "stream",
          "name": "stdout",
          "text": [
            "0.7\n"
          ]
        }
      ]
    },
    {
      "cell_type": "code",
      "source": [
        "print(TextBlob(\"bad\").sentiment.polarity)"
      ],
      "metadata": {
        "colab": {
          "base_uri": "https://localhost:8080/"
        },
        "id": "dixOjq6r3aMw",
        "outputId": "083f317a-bd80-436d-a504-f2220ecab888"
      },
      "execution_count": null,
      "outputs": [
        {
          "output_type": "stream",
          "name": "stdout",
          "text": [
            "-0.6999999999999998\n"
          ]
        }
      ]
    },
    {
      "cell_type": "code",
      "source": [
        "print(TextBlob(\"The restaurant was not that great\").sentiment.polarity)"
      ],
      "metadata": {
        "colab": {
          "base_uri": "https://localhost:8080/"
        },
        "id": "nhqKM0cK3haJ",
        "outputId": "85cb120c-9c35-4f65-cf81-8e011b1b64a3"
      },
      "execution_count": null,
      "outputs": [
        {
          "output_type": "stream",
          "name": "stdout",
          "text": [
            "0.8\n"
          ]
        }
      ]
    },
    {
      "cell_type": "code",
      "source": [
        "a = sentiment.polarity_scores(\"The restaurant was not that great\") #Vader is better \n",
        "print(a)"
      ],
      "metadata": {
        "colab": {
          "base_uri": "https://localhost:8080/"
        },
        "id": "R-Kzty7yBBa7",
        "outputId": "6fcd2aea-ba27-4456-fd47-9089296bdb6c"
      },
      "execution_count": null,
      "outputs": [
        {
          "output_type": "stream",
          "name": "stdout",
          "text": [
            "{'neg': 0.397, 'neu': 0.603, 'pos': 0.0, 'compound': -0.5096}\n"
          ]
        }
      ]
    },
    {
      "cell_type": "code",
      "source": [
        "! pip3 install tweepy --upgrade"
      ],
      "metadata": {
        "colab": {
          "base_uri": "https://localhost:8080/"
        },
        "id": "6Ore_rChFhmt",
        "outputId": "72143734-1596-4667-db22-773ed48275b0"
      },
      "execution_count": null,
      "outputs": [
        {
          "output_type": "stream",
          "name": "stdout",
          "text": [
            "Requirement already satisfied: tweepy in /usr/local/lib/python3.7/dist-packages (3.10.0)\n",
            "Collecting tweepy\n",
            "  Downloading tweepy-4.4.0-py2.py3-none-any.whl (65 kB)\n",
            "\u001b[K     |████████████████████████████████| 65 kB 2.1 MB/s \n",
            "\u001b[?25hRequirement already satisfied: requests-oauthlib<2,>=1.0.0 in /usr/local/lib/python3.7/dist-packages (from tweepy) (1.3.0)\n",
            "Requirement already satisfied: requests<3,>=2.11.1 in /usr/local/lib/python3.7/dist-packages (from tweepy) (2.23.0)\n",
            "Requirement already satisfied: certifi>=2017.4.17 in /usr/local/lib/python3.7/dist-packages (from requests<3,>=2.11.1->tweepy) (2021.10.8)\n",
            "Requirement already satisfied: idna<3,>=2.5 in /usr/local/lib/python3.7/dist-packages (from requests<3,>=2.11.1->tweepy) (2.10)\n",
            "Requirement already satisfied: urllib3!=1.25.0,!=1.25.1,<1.26,>=1.21.1 in /usr/local/lib/python3.7/dist-packages (from requests<3,>=2.11.1->tweepy) (1.24.3)\n",
            "Requirement already satisfied: chardet<4,>=3.0.2 in /usr/local/lib/python3.7/dist-packages (from requests<3,>=2.11.1->tweepy) (3.0.4)\n",
            "Requirement already satisfied: oauthlib>=3.0.0 in /usr/local/lib/python3.7/dist-packages (from requests-oauthlib<2,>=1.0.0->tweepy) (3.1.1)\n",
            "Installing collected packages: tweepy\n",
            "  Attempting uninstall: tweepy\n",
            "    Found existing installation: tweepy 3.10.0\n",
            "    Uninstalling tweepy-3.10.0:\n",
            "      Successfully uninstalled tweepy-3.10.0\n",
            "Successfully installed tweepy-4.4.0\n"
          ]
        }
      ]
    },
    {
      "cell_type": "code",
      "source": [
        "import os\n",
        "os.environ[\"BEARER_TOKEN\"] = 'AAAAAAAAAAAAAAAAAAAAAF3EWgEAAAAALyiGBw2dczuo%2FFfQKmnzjbIn5co%3D4JG5uoNFwSGaj2o4o2KVuFv4MaGXWrO63H8Uwjok8vLbOh7uTY'"
      ],
      "metadata": {
        "id": "kZcl6IRaHe92"
      },
      "execution_count": null,
      "outputs": []
    },
    {
      "cell_type": "code",
      "source": [
        "import tweepy as tw\n",
        "import pandas as pd\n",
        "import datetime as dt\n",
        "import time\n",
        "BEARER_TOKEN = os.getenv(\"BEARER_TOKEN\")\n",
        "client = tw.Client(bearer_token= BEARER_TOKEN)\n",
        "query = '#Microsoft -is:retweet lang:en'\n",
        "initial_tweets = []\n",
        "for response in tw.Paginator(client.search_recent_tweets, \n",
        "                             query= query, \n",
        "                             user_fields = ['username', 'public_metrics', 'description', 'location'], \n",
        "                             tweet_fields=['created_at', 'geo', 'public_metrics', 'text'], \n",
        "                             expansions= ['author_id'], max_results= 100, limit= 1000):\n",
        "  time.sleep(1)\n",
        "  initial_tweets.append(response)\n",
        "# tweets = client.search_recent_tweets(query=query, tweet_fields=['context_annotations', 'created_at'], max_results=100)\n",
        "# data=pd.DataFrame(data=[[tweet.created_at.date(), tweet.text]for tweet in tweets.data],columns=['Date','Tweets'])\n",
        "# print(data)\n",
        "# print(initial_tweets[0].data)\n",
        "# data = pd.DataFrame(initial_tweets[0][\"data\"])\n",
        "# data.to_csv('data.csv')"
      ],
      "metadata": {
        "id": "ninXG7cG70Zw"
      },
      "execution_count": null,
      "outputs": []
    },
    {
      "cell_type": "code",
      "source": [
        "result = []\n",
        "user_dict = {}\n",
        "for response in initial_tweets:\n",
        "    # Take all of the users, and put them into a dictionary of dictionaries with the info we want to keep\n",
        "    for user in response.includes['users']:\n",
        "        user_dict[user.id] = {'username': user.username, \n",
        "                              'location': user.location\n",
        "                             }\n",
        "    for tweet in response.data:\n",
        "        # For each tweet, find the author's information\n",
        "        author_info = user_dict[tweet.author_id]\n",
        "        # Put all of the information we want to keep in a single dictionary for each tweet\n",
        "        result.append({'search_word' : \"#Microsoft\",\n",
        "                       'username': author_info['username'],\n",
        "                       'location': author_info['location'],\n",
        "                       'text': tweet.text,\n",
        "                       'created_at': tweet.created_at,\n",
        "                      })\n",
        "\n",
        "# Change this list of dictionaries into a dataframe\n",
        "# df = pd.DataFrame(result, columns= [\"search_word\", \"user\", \"location\", \"text\", \"date\"])\n",
        "df = pd.DataFrame(result)"
      ],
      "metadata": {
        "id": "IL3I5_1hQWCQ"
      },
      "execution_count": null,
      "outputs": []
    },
    {
      "cell_type": "code",
      "source": [
        "df"
      ],
      "metadata": {
        "colab": {
          "base_uri": "https://localhost:8080/",
          "height": 597
        },
        "id": "T_7M__MPh8pg",
        "outputId": "43394ce5-b039-46ec-ab49-e70fdf0a9261"
      },
      "execution_count": null,
      "outputs": [
        {
          "output_type": "execute_result",
          "data": {
            "text/html": [
              "<div>\n",
              "<style scoped>\n",
              "    .dataframe tbody tr th:only-of-type {\n",
              "        vertical-align: middle;\n",
              "    }\n",
              "\n",
              "    .dataframe tbody tr th {\n",
              "        vertical-align: top;\n",
              "    }\n",
              "\n",
              "    .dataframe thead th {\n",
              "        text-align: right;\n",
              "    }\n",
              "</style>\n",
              "<table border=\"1\" class=\"dataframe\">\n",
              "  <thead>\n",
              "    <tr style=\"text-align: right;\">\n",
              "      <th></th>\n",
              "      <th>search_word</th>\n",
              "      <th>username</th>\n",
              "      <th>location</th>\n",
              "      <th>text</th>\n",
              "      <th>created_at</th>\n",
              "    </tr>\n",
              "  </thead>\n",
              "  <tbody>\n",
              "    <tr>\n",
              "      <th>0</th>\n",
              "      <td>#Microsoft</td>\n",
              "      <td>NareshBellapu1</td>\n",
              "      <td>Hyderabad</td>\n",
              "      <td>@cloudthat Answers\\n1. Azure Developer Associa...</td>\n",
              "      <td>2021-12-12 15:53:39+00:00</td>\n",
              "    </tr>\n",
              "    <tr>\n",
              "      <th>1</th>\n",
              "      <td>#Microsoft</td>\n",
              "      <td>v_srikanth70</td>\n",
              "      <td>Haiderabad, India</td>\n",
              "      <td>@cloudthat 0️⃣1️⃣. Azure Developer Associate -...</td>\n",
              "      <td>2021-12-12 15:53:35+00:00</td>\n",
              "    </tr>\n",
              "    <tr>\n",
              "      <th>2</th>\n",
              "      <td>#Microsoft</td>\n",
              "      <td>drmiru</td>\n",
              "      <td>Switzerland</td>\n",
              "      <td>The Microsoft Azure Daily is here! https://t.c...</td>\n",
              "      <td>2021-12-12 15:53:10+00:00</td>\n",
              "    </tr>\n",
              "    <tr>\n",
              "      <th>3</th>\n",
              "      <td>#Microsoft</td>\n",
              "      <td>imAjayKewat</td>\n",
              "      <td>None</td>\n",
              "      <td>@cloudthat 1️⃣ Azure Developer Associate ➡️ Az...</td>\n",
              "      <td>2021-12-12 15:52:28+00:00</td>\n",
              "    </tr>\n",
              "    <tr>\n",
              "      <th>4</th>\n",
              "      <td>#Microsoft</td>\n",
              "      <td>365gravity</td>\n",
              "      <td>Grand Rapids, MI</td>\n",
              "      <td>Future trends in Business Intelligence https:/...</td>\n",
              "      <td>2021-12-12 15:51:01+00:00</td>\n",
              "    </tr>\n",
              "    <tr>\n",
              "      <th>...</th>\n",
              "      <td>...</td>\n",
              "      <td>...</td>\n",
              "      <td>...</td>\n",
              "      <td>...</td>\n",
              "      <td>...</td>\n",
              "    </tr>\n",
              "    <tr>\n",
              "      <th>9970</th>\n",
              "      <td>#Microsoft</td>\n",
              "      <td>reblaze</td>\n",
              "      <td>San Jose, California, USA</td>\n",
              "      <td>#Microsoft is continually adding to #Azure’s c...</td>\n",
              "      <td>2021-12-05 16:00:57+00:00</td>\n",
              "    </tr>\n",
              "    <tr>\n",
              "      <th>9971</th>\n",
              "      <td>#Microsoft</td>\n",
              "      <td>bananas1978</td>\n",
              "      <td>Cwmbran</td>\n",
              "      <td>The latest The Office 365 Daily! https://t.co/...</td>\n",
              "      <td>2021-12-05 16:00:49+00:00</td>\n",
              "    </tr>\n",
              "    <tr>\n",
              "      <th>9972</th>\n",
              "      <td>#Microsoft</td>\n",
              "      <td>hiroyuki_otaTw</td>\n",
              "      <td>日本 東京</td>\n",
              "      <td>#3 #3HIROYUKIOTA #gallop #mit #nato#softbank #...</td>\n",
              "      <td>2021-12-05 16:00:23+00:00</td>\n",
              "    </tr>\n",
              "    <tr>\n",
              "      <th>9973</th>\n",
              "      <td>#Microsoft</td>\n",
              "      <td>cloud_thing</td>\n",
              "      <td>Longbridge, England</td>\n",
              "      <td>How can the Microsoft Dataverse benefit your o...</td>\n",
              "      <td>2021-12-05 16:00:10+00:00</td>\n",
              "    </tr>\n",
              "    <tr>\n",
              "      <th>9974</th>\n",
              "      <td>#Microsoft</td>\n",
              "      <td>NunoAriasSilva</td>\n",
              "      <td>Lisbon, Portugal</td>\n",
              "      <td>The latest The Office 365 Daily! https://t.co/...</td>\n",
              "      <td>2021-12-05 15:59:18+00:00</td>\n",
              "    </tr>\n",
              "  </tbody>\n",
              "</table>\n",
              "<p>9975 rows × 5 columns</p>\n",
              "</div>"
            ],
            "text/plain": [
              "     search_word  ...                created_at\n",
              "0     #Microsoft  ... 2021-12-12 15:53:39+00:00\n",
              "1     #Microsoft  ... 2021-12-12 15:53:35+00:00\n",
              "2     #Microsoft  ... 2021-12-12 15:53:10+00:00\n",
              "3     #Microsoft  ... 2021-12-12 15:52:28+00:00\n",
              "4     #Microsoft  ... 2021-12-12 15:51:01+00:00\n",
              "...          ...  ...                       ...\n",
              "9970  #Microsoft  ... 2021-12-05 16:00:57+00:00\n",
              "9971  #Microsoft  ... 2021-12-05 16:00:49+00:00\n",
              "9972  #Microsoft  ... 2021-12-05 16:00:23+00:00\n",
              "9973  #Microsoft  ... 2021-12-05 16:00:10+00:00\n",
              "9974  #Microsoft  ... 2021-12-05 15:59:18+00:00\n",
              "\n",
              "[9975 rows x 5 columns]"
            ]
          },
          "metadata": {},
          "execution_count": 12
        }
      ]
    },
    {
      "cell_type": "code",
      "source": [
        "df.to_csv(\"Microsoft_Tweets.csv\")"
      ],
      "metadata": {
        "id": "ie6YEsBWxoSW"
      },
      "execution_count": null,
      "outputs": []
    },
    {
      "cell_type": "code",
      "source": [
        "import re\n",
        "import nltk\n",
        "from nltk import PorterStemmer\n",
        "ps = PorterStemmer()\n",
        "nltk.download(\"stopwords\")\n",
        "from nltk.corpus import stopwords\n",
        "stop = stopwords.words('english')\n",
        "def cleantweets(txt):\n",
        "  # Remove mentions\n",
        "  txt = re.sub(r\"@\",\"\", txt)\n",
        "  # Remove hashtags\n",
        "  txt = re.sub(r\"#\",\"\", txt)\n",
        "  # Remove urls\n",
        "  txt = re.sub(r\"https?:\\/\\/[ A−Za−z0 −9\\.\\/]+\", \"\", txt)\n",
        "  # Remove Stop Words\n",
        "  txt = ' '.join([word for word in txt.split() if word not in (stop)])\n",
        "  #Stemming\n",
        "  txt = ' '.join([ps.stem(word) for word in txt.split()])\n",
        "  return txt"
      ],
      "metadata": {
        "colab": {
          "base_uri": "https://localhost:8080/"
        },
        "id": "baeiJXzk9m5C",
        "outputId": "dfbeb4fe-2f5b-455f-89cc-2513a283aeb9"
      },
      "execution_count": null,
      "outputs": [
        {
          "output_type": "stream",
          "name": "stdout",
          "text": [
            "[nltk_data] Downloading package stopwords to /root/nltk_data...\n",
            "[nltk_data]   Unzipping corpora/stopwords.zip.\n"
          ]
        }
      ]
    },
    {
      "cell_type": "code",
      "source": [
        "def getsubjectivity(txt):\n",
        "  return TextBlob(txt).sentiment.subjectivity"
      ],
      "metadata": {
        "id": "QrjMXLfL-245"
      },
      "execution_count": null,
      "outputs": []
    },
    {
      "cell_type": "code",
      "source": [
        "def getpolarity(txt):\n",
        "  return TextBlob(txt).sentiment.polarity"
      ],
      "metadata": {
        "id": "roglahwS_LNi"
      },
      "execution_count": null,
      "outputs": []
    },
    {
      "cell_type": "code",
      "source": [
        "def getanalysis(a):\n",
        "  if a < 0:\n",
        "    return \"Negative\"\n",
        "  elif a == 0:\n",
        "    return \"Neutral\"\n",
        "  else:\n",
        "    return \"Positive\""
      ],
      "metadata": {
        "id": "zDqIqwTm_R6C"
      },
      "execution_count": null,
      "outputs": []
    },
    {
      "cell_type": "code",
      "source": [
        "def prepare_twitter_data(tweet_data):\n",
        "  results = tweet_data.copy()\n",
        "  results[\"clean text\"] = results[\"text\"].apply(cleantweets)\n",
        "  results[\"polarity\"] = results[\"text\"].apply(getpolarity)\n",
        "  results[\"subjectivity\"] = results[\"text\"].apply(getsubjectivity)\n",
        "  results[\"tweet_class\"] = results[\"polarity\"].apply(getanalysis)\n",
        "  return results"
      ],
      "metadata": {
        "id": "Aq2k7SbI5EZ7"
      },
      "execution_count": null,
      "outputs": []
    },
    {
      "cell_type": "code",
      "source": [
        "def sorttwitterdata(tweet_data):\n",
        "  results = prepare_twitter_data(tweet_data)\n",
        "  results[\"created_at\"] = pd.to_datetime(results[\"created_at\"], format = '%Y−%m−%d %H:%M:%S')\n",
        "  print(\"sorting\")\n",
        "  results = results.sort_values(by=[\"created_at\"], ascending=[False])\n",
        "  return results"
      ],
      "metadata": {
        "id": "C_icNC5jJrQQ"
      },
      "execution_count": null,
      "outputs": []
    },
    {
      "cell_type": "code",
      "source": [
        "processed_tweets = sorttwitterdata(df)"
      ],
      "metadata": {
        "colab": {
          "base_uri": "https://localhost:8080/"
        },
        "id": "kPRy8KAKEC3V",
        "outputId": "62e081e6-f2a1-4af9-a893-d83d8c91a2f2"
      },
      "execution_count": null,
      "outputs": [
        {
          "output_type": "stream",
          "name": "stdout",
          "text": [
            "sorting\n"
          ]
        }
      ]
    },
    {
      "cell_type": "code",
      "source": [
        "processed_tweets"
      ],
      "metadata": {
        "colab": {
          "base_uri": "https://localhost:8080/",
          "height": 1000
        },
        "id": "k7mmDbPnEXHr",
        "outputId": "d2788c28-b31e-4259-cae8-579808f40860"
      },
      "execution_count": null,
      "outputs": [
        {
          "output_type": "execute_result",
          "data": {
            "text/html": [
              "<div>\n",
              "<style scoped>\n",
              "    .dataframe tbody tr th:only-of-type {\n",
              "        vertical-align: middle;\n",
              "    }\n",
              "\n",
              "    .dataframe tbody tr th {\n",
              "        vertical-align: top;\n",
              "    }\n",
              "\n",
              "    .dataframe thead th {\n",
              "        text-align: right;\n",
              "    }\n",
              "</style>\n",
              "<table border=\"1\" class=\"dataframe\">\n",
              "  <thead>\n",
              "    <tr style=\"text-align: right;\">\n",
              "      <th></th>\n",
              "      <th>search_word</th>\n",
              "      <th>username</th>\n",
              "      <th>location</th>\n",
              "      <th>text</th>\n",
              "      <th>created_at</th>\n",
              "      <th>clean text</th>\n",
              "      <th>polarity</th>\n",
              "      <th>subjectivity</th>\n",
              "      <th>tweet_class</th>\n",
              "    </tr>\n",
              "  </thead>\n",
              "  <tbody>\n",
              "    <tr>\n",
              "      <th>0</th>\n",
              "      <td>#Microsoft</td>\n",
              "      <td>NareshBellapu1</td>\n",
              "      <td>Hyderabad</td>\n",
              "      <td>@cloudthat Answers\\n1. Azure Developer Associa...</td>\n",
              "      <td>2021-12-12 15:53:39+00:00</td>\n",
              "      <td>cloudthat answer 1. azur develop associ AZ - 2...</td>\n",
              "      <td>0.000000</td>\n",
              "      <td>0.000000</td>\n",
              "      <td>Neutral</td>\n",
              "    </tr>\n",
              "    <tr>\n",
              "      <th>1</th>\n",
              "      <td>#Microsoft</td>\n",
              "      <td>v_srikanth70</td>\n",
              "      <td>Haiderabad, India</td>\n",
              "      <td>@cloudthat 0️⃣1️⃣. Azure Developer Associate -...</td>\n",
              "      <td>2021-12-12 15:53:35+00:00</td>\n",
              "      <td>cloudthat 0️⃣1️⃣. azur develop associ -az- 204...</td>\n",
              "      <td>0.000000</td>\n",
              "      <td>0.000000</td>\n",
              "      <td>Neutral</td>\n",
              "    </tr>\n",
              "    <tr>\n",
              "      <th>2</th>\n",
              "      <td>#Microsoft</td>\n",
              "      <td>drmiru</td>\n",
              "      <td>Switzerland</td>\n",
              "      <td>The Microsoft Azure Daily is here! https://t.c...</td>\n",
              "      <td>2021-12-12 15:53:10+00:00</td>\n",
              "      <td>the microsoft azur daili here! https://t.co/eo...</td>\n",
              "      <td>0.000000</td>\n",
              "      <td>0.000000</td>\n",
              "      <td>Neutral</td>\n",
              "    </tr>\n",
              "    <tr>\n",
              "      <th>3</th>\n",
              "      <td>#Microsoft</td>\n",
              "      <td>imAjayKewat</td>\n",
              "      <td>None</td>\n",
              "      <td>@cloudthat 1️⃣ Azure Developer Associate ➡️ Az...</td>\n",
              "      <td>2021-12-12 15:52:28+00:00</td>\n",
              "      <td>cloudthat 1️⃣ azur develop associ ➡️ az-204 2️...</td>\n",
              "      <td>0.000000</td>\n",
              "      <td>0.000000</td>\n",
              "      <td>Neutral</td>\n",
              "    </tr>\n",
              "    <tr>\n",
              "      <th>4</th>\n",
              "      <td>#Microsoft</td>\n",
              "      <td>365gravity</td>\n",
              "      <td>Grand Rapids, MI</td>\n",
              "      <td>Future trends in Business Intelligence https:/...</td>\n",
              "      <td>2021-12-12 15:51:01+00:00</td>\n",
              "      <td>futur trend busi intellig https://t.co/pc0kz7r...</td>\n",
              "      <td>0.000000</td>\n",
              "      <td>0.125000</td>\n",
              "      <td>Neutral</td>\n",
              "    </tr>\n",
              "    <tr>\n",
              "      <th>...</th>\n",
              "      <td>...</td>\n",
              "      <td>...</td>\n",
              "      <td>...</td>\n",
              "      <td>...</td>\n",
              "      <td>...</td>\n",
              "      <td>...</td>\n",
              "      <td>...</td>\n",
              "      <td>...</td>\n",
              "      <td>...</td>\n",
              "    </tr>\n",
              "    <tr>\n",
              "      <th>9970</th>\n",
              "      <td>#Microsoft</td>\n",
              "      <td>reblaze</td>\n",
              "      <td>San Jose, California, USA</td>\n",
              "      <td>#Microsoft is continually adding to #Azure’s c...</td>\n",
              "      <td>2021-12-05 16:00:57+00:00</td>\n",
              "      <td>microsoft continu ad azure’ capabl recent upda...</td>\n",
              "      <td>0.259091</td>\n",
              "      <td>0.470909</td>\n",
              "      <td>Positive</td>\n",
              "    </tr>\n",
              "    <tr>\n",
              "      <th>9971</th>\n",
              "      <td>#Microsoft</td>\n",
              "      <td>bananas1978</td>\n",
              "      <td>Cwmbran</td>\n",
              "      <td>The latest The Office 365 Daily! https://t.co/...</td>\n",
              "      <td>2021-12-05 16:00:49+00:00</td>\n",
              "      <td>the latest the offic 365 daily! https://t.co/d...</td>\n",
              "      <td>0.250000</td>\n",
              "      <td>0.450000</td>\n",
              "      <td>Positive</td>\n",
              "    </tr>\n",
              "    <tr>\n",
              "      <th>9972</th>\n",
              "      <td>#Microsoft</td>\n",
              "      <td>hiroyuki_otaTw</td>\n",
              "      <td>日本 東京</td>\n",
              "      <td>#3 #3HIROYUKIOTA #gallop #mit #nato#softbank #...</td>\n",
              "      <td>2021-12-05 16:00:23+00:00</td>\n",
              "      <td>3 3hiroyukiota gallop mit natosoftbank ntt app...</td>\n",
              "      <td>-0.062500</td>\n",
              "      <td>0.375000</td>\n",
              "      <td>Negative</td>\n",
              "    </tr>\n",
              "    <tr>\n",
              "      <th>9973</th>\n",
              "      <td>#Microsoft</td>\n",
              "      <td>cloud_thing</td>\n",
              "      <td>Longbridge, England</td>\n",
              "      <td>How can the Microsoft Dataverse benefit your o...</td>\n",
              "      <td>2021-12-05 16:00:10+00:00</td>\n",
              "      <td>how microsoft datavers benefit organisation? b...</td>\n",
              "      <td>0.000000</td>\n",
              "      <td>0.000000</td>\n",
              "      <td>Neutral</td>\n",
              "    </tr>\n",
              "    <tr>\n",
              "      <th>9974</th>\n",
              "      <td>#Microsoft</td>\n",
              "      <td>NunoAriasSilva</td>\n",
              "      <td>Lisbon, Portugal</td>\n",
              "      <td>The latest The Office 365 Daily! https://t.co/...</td>\n",
              "      <td>2021-12-05 15:59:18+00:00</td>\n",
              "      <td>the latest the offic 365 daily! https://t.co/7...</td>\n",
              "      <td>0.233333</td>\n",
              "      <td>0.366667</td>\n",
              "      <td>Positive</td>\n",
              "    </tr>\n",
              "  </tbody>\n",
              "</table>\n",
              "<p>9975 rows × 9 columns</p>\n",
              "</div>"
            ],
            "text/plain": [
              "     search_word        username  ... subjectivity tweet_class\n",
              "0     #Microsoft  NareshBellapu1  ...     0.000000     Neutral\n",
              "1     #Microsoft    v_srikanth70  ...     0.000000     Neutral\n",
              "2     #Microsoft          drmiru  ...     0.000000     Neutral\n",
              "3     #Microsoft     imAjayKewat  ...     0.000000     Neutral\n",
              "4     #Microsoft      365gravity  ...     0.125000     Neutral\n",
              "...          ...             ...  ...          ...         ...\n",
              "9970  #Microsoft         reblaze  ...     0.470909    Positive\n",
              "9971  #Microsoft     bananas1978  ...     0.450000    Positive\n",
              "9972  #Microsoft  hiroyuki_otaTw  ...     0.375000    Negative\n",
              "9973  #Microsoft     cloud_thing  ...     0.000000     Neutral\n",
              "9974  #Microsoft  NunoAriasSilva  ...     0.366667    Positive\n",
              "\n",
              "[9975 rows x 9 columns]"
            ]
          },
          "metadata": {},
          "execution_count": 21
        }
      ]
    },
    {
      "cell_type": "code",
      "source": [
        "stock_df = pd.read_csv(\"MSFT.csv\")\n",
        "stock_df"
      ],
      "metadata": {
        "colab": {
          "base_uri": "https://localhost:8080/",
          "height": 424
        },
        "id": "MXl-fatvIGx-",
        "outputId": "85e21e20-0374-4b1b-c183-cdab7157652a"
      },
      "execution_count": null,
      "outputs": [
        {
          "output_type": "execute_result",
          "data": {
            "text/html": [
              "<div>\n",
              "<style scoped>\n",
              "    .dataframe tbody tr th:only-of-type {\n",
              "        vertical-align: middle;\n",
              "    }\n",
              "\n",
              "    .dataframe tbody tr th {\n",
              "        vertical-align: top;\n",
              "    }\n",
              "\n",
              "    .dataframe thead th {\n",
              "        text-align: right;\n",
              "    }\n",
              "</style>\n",
              "<table border=\"1\" class=\"dataframe\">\n",
              "  <thead>\n",
              "    <tr style=\"text-align: right;\">\n",
              "      <th></th>\n",
              "      <th>Date</th>\n",
              "      <th>Open</th>\n",
              "      <th>High</th>\n",
              "      <th>Low</th>\n",
              "      <th>Close</th>\n",
              "      <th>Adj Close</th>\n",
              "      <th>Volume</th>\n",
              "    </tr>\n",
              "  </thead>\n",
              "  <tbody>\n",
              "    <tr>\n",
              "      <th>0</th>\n",
              "      <td>2010-12-13</td>\n",
              "      <td>27.250000</td>\n",
              "      <td>27.450001</td>\n",
              "      <td>27.172501</td>\n",
              "      <td>27.245001</td>\n",
              "      <td>21.481600</td>\n",
              "      <td>47943855</td>\n",
              "    </tr>\n",
              "    <tr>\n",
              "      <th>1</th>\n",
              "      <td>2010-12-14</td>\n",
              "      <td>27.320000</td>\n",
              "      <td>27.750000</td>\n",
              "      <td>27.260000</td>\n",
              "      <td>27.620001</td>\n",
              "      <td>21.777269</td>\n",
              "      <td>64095005</td>\n",
              "    </tr>\n",
              "    <tr>\n",
              "      <th>2</th>\n",
              "      <td>2010-12-15</td>\n",
              "      <td>27.540001</td>\n",
              "      <td>27.990000</td>\n",
              "      <td>27.530001</td>\n",
              "      <td>27.850000</td>\n",
              "      <td>21.958616</td>\n",
              "      <td>69634200</td>\n",
              "    </tr>\n",
              "    <tr>\n",
              "      <th>3</th>\n",
              "      <td>2010-12-16</td>\n",
              "      <td>27.760000</td>\n",
              "      <td>27.990000</td>\n",
              "      <td>27.660000</td>\n",
              "      <td>27.987499</td>\n",
              "      <td>22.067030</td>\n",
              "      <td>57680104</td>\n",
              "    </tr>\n",
              "    <tr>\n",
              "      <th>4</th>\n",
              "      <td>2010-12-17</td>\n",
              "      <td>27.889999</td>\n",
              "      <td>28.090000</td>\n",
              "      <td>27.750000</td>\n",
              "      <td>27.902500</td>\n",
              "      <td>22.000013</td>\n",
              "      <td>87456444</td>\n",
              "    </tr>\n",
              "    <tr>\n",
              "      <th>...</th>\n",
              "      <td>...</td>\n",
              "      <td>...</td>\n",
              "      <td>...</td>\n",
              "      <td>...</td>\n",
              "      <td>...</td>\n",
              "      <td>...</td>\n",
              "      <td>...</td>\n",
              "    </tr>\n",
              "    <tr>\n",
              "      <th>2764</th>\n",
              "      <td>2021-12-06</td>\n",
              "      <td>323.950012</td>\n",
              "      <td>327.450012</td>\n",
              "      <td>319.230011</td>\n",
              "      <td>326.190002</td>\n",
              "      <td>326.190002</td>\n",
              "      <td>30032556</td>\n",
              "    </tr>\n",
              "    <tr>\n",
              "      <th>2765</th>\n",
              "      <td>2021-12-07</td>\n",
              "      <td>331.640015</td>\n",
              "      <td>335.799988</td>\n",
              "      <td>330.100006</td>\n",
              "      <td>334.920013</td>\n",
              "      <td>334.920013</td>\n",
              "      <td>31021936</td>\n",
              "    </tr>\n",
              "    <tr>\n",
              "      <th>2766</th>\n",
              "      <td>2021-12-08</td>\n",
              "      <td>335.309998</td>\n",
              "      <td>335.500000</td>\n",
              "      <td>330.799988</td>\n",
              "      <td>334.970001</td>\n",
              "      <td>334.970001</td>\n",
              "      <td>24760988</td>\n",
              "    </tr>\n",
              "    <tr>\n",
              "      <th>2767</th>\n",
              "      <td>2021-12-09</td>\n",
              "      <td>334.410004</td>\n",
              "      <td>336.489014</td>\n",
              "      <td>332.119995</td>\n",
              "      <td>333.100006</td>\n",
              "      <td>333.100006</td>\n",
              "      <td>21561374</td>\n",
              "    </tr>\n",
              "    <tr>\n",
              "      <th>2768</th>\n",
              "      <td>2021-12-10</td>\n",
              "      <td>334.980011</td>\n",
              "      <td>343.000000</td>\n",
              "      <td>334.790009</td>\n",
              "      <td>342.540009</td>\n",
              "      <td>342.540009</td>\n",
              "      <td>36582109</td>\n",
              "    </tr>\n",
              "  </tbody>\n",
              "</table>\n",
              "<p>2769 rows × 7 columns</p>\n",
              "</div>"
            ],
            "text/plain": [
              "            Date        Open        High  ...       Close   Adj Close    Volume\n",
              "0     2010-12-13   27.250000   27.450001  ...   27.245001   21.481600  47943855\n",
              "1     2010-12-14   27.320000   27.750000  ...   27.620001   21.777269  64095005\n",
              "2     2010-12-15   27.540001   27.990000  ...   27.850000   21.958616  69634200\n",
              "3     2010-12-16   27.760000   27.990000  ...   27.987499   22.067030  57680104\n",
              "4     2010-12-17   27.889999   28.090000  ...   27.902500   22.000013  87456444\n",
              "...          ...         ...         ...  ...         ...         ...       ...\n",
              "2764  2021-12-06  323.950012  327.450012  ...  326.190002  326.190002  30032556\n",
              "2765  2021-12-07  331.640015  335.799988  ...  334.920013  334.920013  31021936\n",
              "2766  2021-12-08  335.309998  335.500000  ...  334.970001  334.970001  24760988\n",
              "2767  2021-12-09  334.410004  336.489014  ...  333.100006  333.100006  21561374\n",
              "2768  2021-12-10  334.980011  343.000000  ...  342.540009  342.540009  36582109\n",
              "\n",
              "[2769 rows x 7 columns]"
            ]
          },
          "metadata": {},
          "execution_count": 23
        }
      ]
    },
    {
      "cell_type": "code",
      "source": [
        "import pandas as pd\n",
        "\n",
        "df = pd.read_csv(\"MSFT.csv\")\n",
        "#converting to pandas date for indexing\n",
        "df['Date'] =  pd.to_datetime(df['Date'], format='%Y/%m/%d')\n",
        "#sorting according to date\n",
        "df = df.sort_values(by=['Date'], ascending=[True])\n",
        "\n",
        "# #indexing according to date\n",
        "df.set_index('Date', inplace=True)\n",
        "\n",
        "#populating data according to previous value\n",
        "df = df.resample('D').ffill().reset_index()\n",
        "\n",
        "#exporting to MSFT_complete\n",
        "df.to_csv(\"MSFT_complete.csv\")"
      ],
      "metadata": {
        "id": "V7ykGqLtTb8m"
      },
      "execution_count": null,
      "outputs": []
    },
    {
      "cell_type": "code",
      "source": [
        "stock_df_processed = pd.read_csv(\"MSFT_complete.csv\", parse_dates = True, index_col = 'Date')\n",
        "stock_df_processed"
      ],
      "metadata": {
        "colab": {
          "base_uri": "https://localhost:8080/",
          "height": 455
        },
        "id": "WSHvntLgUJ5C",
        "outputId": "4d96e119-19c2-4610-f317-445989d29448"
      },
      "execution_count": null,
      "outputs": [
        {
          "output_type": "execute_result",
          "data": {
            "text/html": [
              "<div>\n",
              "<style scoped>\n",
              "    .dataframe tbody tr th:only-of-type {\n",
              "        vertical-align: middle;\n",
              "    }\n",
              "\n",
              "    .dataframe tbody tr th {\n",
              "        vertical-align: top;\n",
              "    }\n",
              "\n",
              "    .dataframe thead th {\n",
              "        text-align: right;\n",
              "    }\n",
              "</style>\n",
              "<table border=\"1\" class=\"dataframe\">\n",
              "  <thead>\n",
              "    <tr style=\"text-align: right;\">\n",
              "      <th></th>\n",
              "      <th>Unnamed: 0</th>\n",
              "      <th>Open</th>\n",
              "      <th>High</th>\n",
              "      <th>Low</th>\n",
              "      <th>Close</th>\n",
              "      <th>Adj Close</th>\n",
              "      <th>Volume</th>\n",
              "    </tr>\n",
              "    <tr>\n",
              "      <th>Date</th>\n",
              "      <th></th>\n",
              "      <th></th>\n",
              "      <th></th>\n",
              "      <th></th>\n",
              "      <th></th>\n",
              "      <th></th>\n",
              "      <th></th>\n",
              "    </tr>\n",
              "  </thead>\n",
              "  <tbody>\n",
              "    <tr>\n",
              "      <th>2010-12-13</th>\n",
              "      <td>0</td>\n",
              "      <td>27.250000</td>\n",
              "      <td>27.450001</td>\n",
              "      <td>27.172501</td>\n",
              "      <td>27.245001</td>\n",
              "      <td>21.481600</td>\n",
              "      <td>47943855</td>\n",
              "    </tr>\n",
              "    <tr>\n",
              "      <th>2010-12-14</th>\n",
              "      <td>1</td>\n",
              "      <td>27.320000</td>\n",
              "      <td>27.750000</td>\n",
              "      <td>27.260000</td>\n",
              "      <td>27.620001</td>\n",
              "      <td>21.777269</td>\n",
              "      <td>64095005</td>\n",
              "    </tr>\n",
              "    <tr>\n",
              "      <th>2010-12-15</th>\n",
              "      <td>2</td>\n",
              "      <td>27.540001</td>\n",
              "      <td>27.990000</td>\n",
              "      <td>27.530001</td>\n",
              "      <td>27.850000</td>\n",
              "      <td>21.958616</td>\n",
              "      <td>69634200</td>\n",
              "    </tr>\n",
              "    <tr>\n",
              "      <th>2010-12-16</th>\n",
              "      <td>3</td>\n",
              "      <td>27.760000</td>\n",
              "      <td>27.990000</td>\n",
              "      <td>27.660000</td>\n",
              "      <td>27.987499</td>\n",
              "      <td>22.067030</td>\n",
              "      <td>57680104</td>\n",
              "    </tr>\n",
              "    <tr>\n",
              "      <th>2010-12-17</th>\n",
              "      <td>4</td>\n",
              "      <td>27.889999</td>\n",
              "      <td>28.090000</td>\n",
              "      <td>27.750000</td>\n",
              "      <td>27.902500</td>\n",
              "      <td>22.000013</td>\n",
              "      <td>87456444</td>\n",
              "    </tr>\n",
              "    <tr>\n",
              "      <th>...</th>\n",
              "      <td>...</td>\n",
              "      <td>...</td>\n",
              "      <td>...</td>\n",
              "      <td>...</td>\n",
              "      <td>...</td>\n",
              "      <td>...</td>\n",
              "      <td>...</td>\n",
              "    </tr>\n",
              "    <tr>\n",
              "      <th>2021-12-06</th>\n",
              "      <td>4011</td>\n",
              "      <td>323.950012</td>\n",
              "      <td>327.450012</td>\n",
              "      <td>319.230011</td>\n",
              "      <td>326.190002</td>\n",
              "      <td>326.190002</td>\n",
              "      <td>30032556</td>\n",
              "    </tr>\n",
              "    <tr>\n",
              "      <th>2021-12-07</th>\n",
              "      <td>4012</td>\n",
              "      <td>331.640015</td>\n",
              "      <td>335.799988</td>\n",
              "      <td>330.100006</td>\n",
              "      <td>334.920013</td>\n",
              "      <td>334.920013</td>\n",
              "      <td>31021936</td>\n",
              "    </tr>\n",
              "    <tr>\n",
              "      <th>2021-12-08</th>\n",
              "      <td>4013</td>\n",
              "      <td>335.309998</td>\n",
              "      <td>335.500000</td>\n",
              "      <td>330.799988</td>\n",
              "      <td>334.970001</td>\n",
              "      <td>334.970001</td>\n",
              "      <td>24760988</td>\n",
              "    </tr>\n",
              "    <tr>\n",
              "      <th>2021-12-09</th>\n",
              "      <td>4014</td>\n",
              "      <td>334.410004</td>\n",
              "      <td>336.489014</td>\n",
              "      <td>332.119995</td>\n",
              "      <td>333.100006</td>\n",
              "      <td>333.100006</td>\n",
              "      <td>21561374</td>\n",
              "    </tr>\n",
              "    <tr>\n",
              "      <th>2021-12-10</th>\n",
              "      <td>4015</td>\n",
              "      <td>334.980011</td>\n",
              "      <td>343.000000</td>\n",
              "      <td>334.790009</td>\n",
              "      <td>342.540009</td>\n",
              "      <td>342.540009</td>\n",
              "      <td>36582109</td>\n",
              "    </tr>\n",
              "  </tbody>\n",
              "</table>\n",
              "<p>4016 rows × 7 columns</p>\n",
              "</div>"
            ],
            "text/plain": [
              "            Unnamed: 0        Open  ...   Adj Close    Volume\n",
              "Date                                ...                      \n",
              "2010-12-13           0   27.250000  ...   21.481600  47943855\n",
              "2010-12-14           1   27.320000  ...   21.777269  64095005\n",
              "2010-12-15           2   27.540001  ...   21.958616  69634200\n",
              "2010-12-16           3   27.760000  ...   22.067030  57680104\n",
              "2010-12-17           4   27.889999  ...   22.000013  87456444\n",
              "...                ...         ...  ...         ...       ...\n",
              "2021-12-06        4011  323.950012  ...  326.190002  30032556\n",
              "2021-12-07        4012  331.640015  ...  334.920013  31021936\n",
              "2021-12-08        4013  335.309998  ...  334.970001  24760988\n",
              "2021-12-09        4014  334.410004  ...  333.100006  21561374\n",
              "2021-12-10        4015  334.980011  ...  342.540009  36582109\n",
              "\n",
              "[4016 rows x 7 columns]"
            ]
          },
          "metadata": {},
          "execution_count": 25
        }
      ]
    },
    {
      "cell_type": "code",
      "source": [
        "del stock_df_processed[\"Unnamed: 0\"]"
      ],
      "metadata": {
        "id": "GEcHZ753UyWE"
      },
      "execution_count": null,
      "outputs": []
    },
    {
      "cell_type": "code",
      "source": [
        "stock_df_processed"
      ],
      "metadata": {
        "colab": {
          "base_uri": "https://localhost:8080/",
          "height": 455
        },
        "id": "lSagTKe0VnrY",
        "outputId": "8bac507f-9bdf-4cb0-f617-5f2bc9948305"
      },
      "execution_count": null,
      "outputs": [
        {
          "output_type": "execute_result",
          "data": {
            "text/html": [
              "<div>\n",
              "<style scoped>\n",
              "    .dataframe tbody tr th:only-of-type {\n",
              "        vertical-align: middle;\n",
              "    }\n",
              "\n",
              "    .dataframe tbody tr th {\n",
              "        vertical-align: top;\n",
              "    }\n",
              "\n",
              "    .dataframe thead th {\n",
              "        text-align: right;\n",
              "    }\n",
              "</style>\n",
              "<table border=\"1\" class=\"dataframe\">\n",
              "  <thead>\n",
              "    <tr style=\"text-align: right;\">\n",
              "      <th></th>\n",
              "      <th>Open</th>\n",
              "      <th>High</th>\n",
              "      <th>Low</th>\n",
              "      <th>Close</th>\n",
              "      <th>Adj Close</th>\n",
              "      <th>Volume</th>\n",
              "    </tr>\n",
              "    <tr>\n",
              "      <th>Date</th>\n",
              "      <th></th>\n",
              "      <th></th>\n",
              "      <th></th>\n",
              "      <th></th>\n",
              "      <th></th>\n",
              "      <th></th>\n",
              "    </tr>\n",
              "  </thead>\n",
              "  <tbody>\n",
              "    <tr>\n",
              "      <th>2010-12-13</th>\n",
              "      <td>27.250000</td>\n",
              "      <td>27.450001</td>\n",
              "      <td>27.172501</td>\n",
              "      <td>27.245001</td>\n",
              "      <td>21.481600</td>\n",
              "      <td>47943855</td>\n",
              "    </tr>\n",
              "    <tr>\n",
              "      <th>2010-12-14</th>\n",
              "      <td>27.320000</td>\n",
              "      <td>27.750000</td>\n",
              "      <td>27.260000</td>\n",
              "      <td>27.620001</td>\n",
              "      <td>21.777269</td>\n",
              "      <td>64095005</td>\n",
              "    </tr>\n",
              "    <tr>\n",
              "      <th>2010-12-15</th>\n",
              "      <td>27.540001</td>\n",
              "      <td>27.990000</td>\n",
              "      <td>27.530001</td>\n",
              "      <td>27.850000</td>\n",
              "      <td>21.958616</td>\n",
              "      <td>69634200</td>\n",
              "    </tr>\n",
              "    <tr>\n",
              "      <th>2010-12-16</th>\n",
              "      <td>27.760000</td>\n",
              "      <td>27.990000</td>\n",
              "      <td>27.660000</td>\n",
              "      <td>27.987499</td>\n",
              "      <td>22.067030</td>\n",
              "      <td>57680104</td>\n",
              "    </tr>\n",
              "    <tr>\n",
              "      <th>2010-12-17</th>\n",
              "      <td>27.889999</td>\n",
              "      <td>28.090000</td>\n",
              "      <td>27.750000</td>\n",
              "      <td>27.902500</td>\n",
              "      <td>22.000013</td>\n",
              "      <td>87456444</td>\n",
              "    </tr>\n",
              "    <tr>\n",
              "      <th>...</th>\n",
              "      <td>...</td>\n",
              "      <td>...</td>\n",
              "      <td>...</td>\n",
              "      <td>...</td>\n",
              "      <td>...</td>\n",
              "      <td>...</td>\n",
              "    </tr>\n",
              "    <tr>\n",
              "      <th>2021-12-06</th>\n",
              "      <td>323.950012</td>\n",
              "      <td>327.450012</td>\n",
              "      <td>319.230011</td>\n",
              "      <td>326.190002</td>\n",
              "      <td>326.190002</td>\n",
              "      <td>30032556</td>\n",
              "    </tr>\n",
              "    <tr>\n",
              "      <th>2021-12-07</th>\n",
              "      <td>331.640015</td>\n",
              "      <td>335.799988</td>\n",
              "      <td>330.100006</td>\n",
              "      <td>334.920013</td>\n",
              "      <td>334.920013</td>\n",
              "      <td>31021936</td>\n",
              "    </tr>\n",
              "    <tr>\n",
              "      <th>2021-12-08</th>\n",
              "      <td>335.309998</td>\n",
              "      <td>335.500000</td>\n",
              "      <td>330.799988</td>\n",
              "      <td>334.970001</td>\n",
              "      <td>334.970001</td>\n",
              "      <td>24760988</td>\n",
              "    </tr>\n",
              "    <tr>\n",
              "      <th>2021-12-09</th>\n",
              "      <td>334.410004</td>\n",
              "      <td>336.489014</td>\n",
              "      <td>332.119995</td>\n",
              "      <td>333.100006</td>\n",
              "      <td>333.100006</td>\n",
              "      <td>21561374</td>\n",
              "    </tr>\n",
              "    <tr>\n",
              "      <th>2021-12-10</th>\n",
              "      <td>334.980011</td>\n",
              "      <td>343.000000</td>\n",
              "      <td>334.790009</td>\n",
              "      <td>342.540009</td>\n",
              "      <td>342.540009</td>\n",
              "      <td>36582109</td>\n",
              "    </tr>\n",
              "  </tbody>\n",
              "</table>\n",
              "<p>4016 rows × 6 columns</p>\n",
              "</div>"
            ],
            "text/plain": [
              "                  Open        High  ...   Adj Close    Volume\n",
              "Date                                ...                      \n",
              "2010-12-13   27.250000   27.450001  ...   21.481600  47943855\n",
              "2010-12-14   27.320000   27.750000  ...   21.777269  64095005\n",
              "2010-12-15   27.540001   27.990000  ...   21.958616  69634200\n",
              "2010-12-16   27.760000   27.990000  ...   22.067030  57680104\n",
              "2010-12-17   27.889999   28.090000  ...   22.000013  87456444\n",
              "...                ...         ...  ...         ...       ...\n",
              "2021-12-06  323.950012  327.450012  ...  326.190002  30032556\n",
              "2021-12-07  331.640015  335.799988  ...  334.920013  31021936\n",
              "2021-12-08  335.309998  335.500000  ...  334.970001  24760988\n",
              "2021-12-09  334.410004  336.489014  ...  333.100006  21561374\n",
              "2021-12-10  334.980011  343.000000  ...  342.540009  36582109\n",
              "\n",
              "[4016 rows x 6 columns]"
            ]
          },
          "metadata": {},
          "execution_count": 27
        }
      ]
    },
    {
      "cell_type": "code",
      "source": [
        "stock_df_processed['Close'].plot()"
      ],
      "metadata": {
        "colab": {
          "base_uri": "https://localhost:8080/",
          "height": 296
        },
        "id": "jfgoWbOuqGTy",
        "outputId": "b22dbeef-78c8-4e69-ca83-cad96782f32d"
      },
      "execution_count": null,
      "outputs": [
        {
          "output_type": "execute_result",
          "data": {
            "text/plain": [
              "<matplotlib.axes._subplots.AxesSubplot at 0x7f42159d33d0>"
            ]
          },
          "metadata": {},
          "execution_count": 28
        },
        {
          "output_type": "display_data",
          "data": {
            "image/png": "[encoded data removed]",
            "text/plain": [
              "<Figure size 432x288 with 1 Axes>"
            ]
          },
          "metadata": {
            "needs_background": "light"
          }
        }
      ]
    },
    {
      "cell_type": "code",
      "source": [
        "stock_df_processed.corr()['Close']"
      ],
      "metadata": {
        "colab": {
          "base_uri": "https://localhost:8080/"
        },
        "id": "Hd9_4vquX7G1",
        "outputId": "4d2f3856-bcad-4d54-a2c8-af071a131f70"
      },
      "execution_count": null,
      "outputs": [
        {
          "output_type": "execute_result",
          "data": {
            "text/plain": [
              "Open         0.999813\n",
              "High         0.999900\n",
              "Low          0.999898\n",
              "Close        1.000000\n",
              "Adj Close    0.999986\n",
              "Volume      -0.284249\n",
              "Name: Close, dtype: float64"
            ]
          },
          "metadata": {},
          "execution_count": 29
        }
      ]
    },
    {
      "cell_type": "code",
      "source": [
        "from sklearn.preprocessing import MinMaxScaler\n",
        "sc = MinMaxScaler()"
      ],
      "metadata": {
        "id": "u19NEfpwYgta"
      },
      "execution_count": null,
      "outputs": []
    },
    {
      "cell_type": "code",
      "source": [
        "stock_df_processed.drop(columns=['Volume','Adj Close'],inplace=True)"
      ],
      "metadata": {
        "id": "ZYZ1Elvp1wXI"
      },
      "execution_count": null,
      "outputs": []
    },
    {
      "cell_type": "code",
      "source": [
        "stock_df_processed"
      ],
      "metadata": {
        "colab": {
          "base_uri": "https://localhost:8080/",
          "height": 455
        },
        "id": "8A-Ngxyt16S0",
        "outputId": "b46d229d-e7cf-4687-957c-6d3934bc5a5e"
      },
      "execution_count": null,
      "outputs": [
        {
          "output_type": "execute_result",
          "data": {
            "text/html": [
              "<div>\n",
              "<style scoped>\n",
              "    .dataframe tbody tr th:only-of-type {\n",
              "        vertical-align: middle;\n",
              "    }\n",
              "\n",
              "    .dataframe tbody tr th {\n",
              "        vertical-align: top;\n",
              "    }\n",
              "\n",
              "    .dataframe thead th {\n",
              "        text-align: right;\n",
              "    }\n",
              "</style>\n",
              "<table border=\"1\" class=\"dataframe\">\n",
              "  <thead>\n",
              "    <tr style=\"text-align: right;\">\n",
              "      <th></th>\n",
              "      <th>Open</th>\n",
              "      <th>High</th>\n",
              "      <th>Low</th>\n",
              "      <th>Close</th>\n",
              "    </tr>\n",
              "    <tr>\n",
              "      <th>Date</th>\n",
              "      <th></th>\n",
              "      <th></th>\n",
              "      <th></th>\n",
              "      <th></th>\n",
              "    </tr>\n",
              "  </thead>\n",
              "  <tbody>\n",
              "    <tr>\n",
              "      <th>2010-12-13</th>\n",
              "      <td>27.250000</td>\n",
              "      <td>27.450001</td>\n",
              "      <td>27.172501</td>\n",
              "      <td>27.245001</td>\n",
              "    </tr>\n",
              "    <tr>\n",
              "      <th>2010-12-14</th>\n",
              "      <td>27.320000</td>\n",
              "      <td>27.750000</td>\n",
              "      <td>27.260000</td>\n",
              "      <td>27.620001</td>\n",
              "    </tr>\n",
              "    <tr>\n",
              "      <th>2010-12-15</th>\n",
              "      <td>27.540001</td>\n",
              "      <td>27.990000</td>\n",
              "      <td>27.530001</td>\n",
              "      <td>27.850000</td>\n",
              "    </tr>\n",
              "    <tr>\n",
              "      <th>2010-12-16</th>\n",
              "      <td>27.760000</td>\n",
              "      <td>27.990000</td>\n",
              "      <td>27.660000</td>\n",
              "      <td>27.987499</td>\n",
              "    </tr>\n",
              "    <tr>\n",
              "      <th>2010-12-17</th>\n",
              "      <td>27.889999</td>\n",
              "      <td>28.090000</td>\n",
              "      <td>27.750000</td>\n",
              "      <td>27.902500</td>\n",
              "    </tr>\n",
              "    <tr>\n",
              "      <th>...</th>\n",
              "      <td>...</td>\n",
              "      <td>...</td>\n",
              "      <td>...</td>\n",
              "      <td>...</td>\n",
              "    </tr>\n",
              "    <tr>\n",
              "      <th>2021-12-06</th>\n",
              "      <td>323.950012</td>\n",
              "      <td>327.450012</td>\n",
              "      <td>319.230011</td>\n",
              "      <td>326.190002</td>\n",
              "    </tr>\n",
              "    <tr>\n",
              "      <th>2021-12-07</th>\n",
              "      <td>331.640015</td>\n",
              "      <td>335.799988</td>\n",
              "      <td>330.100006</td>\n",
              "      <td>334.920013</td>\n",
              "    </tr>\n",
              "    <tr>\n",
              "      <th>2021-12-08</th>\n",
              "      <td>335.309998</td>\n",
              "      <td>335.500000</td>\n",
              "      <td>330.799988</td>\n",
              "      <td>334.970001</td>\n",
              "    </tr>\n",
              "    <tr>\n",
              "      <th>2021-12-09</th>\n",
              "      <td>334.410004</td>\n",
              "      <td>336.489014</td>\n",
              "      <td>332.119995</td>\n",
              "      <td>333.100006</td>\n",
              "    </tr>\n",
              "    <tr>\n",
              "      <th>2021-12-10</th>\n",
              "      <td>334.980011</td>\n",
              "      <td>343.000000</td>\n",
              "      <td>334.790009</td>\n",
              "      <td>342.540009</td>\n",
              "    </tr>\n",
              "  </tbody>\n",
              "</table>\n",
              "<p>4016 rows × 4 columns</p>\n",
              "</div>"
            ],
            "text/plain": [
              "                  Open        High         Low       Close\n",
              "Date                                                      \n",
              "2010-12-13   27.250000   27.450001   27.172501   27.245001\n",
              "2010-12-14   27.320000   27.750000   27.260000   27.620001\n",
              "2010-12-15   27.540001   27.990000   27.530001   27.850000\n",
              "2010-12-16   27.760000   27.990000   27.660000   27.987499\n",
              "2010-12-17   27.889999   28.090000   27.750000   27.902500\n",
              "...                ...         ...         ...         ...\n",
              "2021-12-06  323.950012  327.450012  319.230011  326.190002\n",
              "2021-12-07  331.640015  335.799988  330.100006  334.920013\n",
              "2021-12-08  335.309998  335.500000  330.799988  334.970001\n",
              "2021-12-09  334.410004  336.489014  332.119995  333.100006\n",
              "2021-12-10  334.980011  343.000000  334.790009  342.540009\n",
              "\n",
              "[4016 rows x 4 columns]"
            ]
          },
          "metadata": {},
          "execution_count": 32
        }
      ]
    },
    {
      "cell_type": "code",
      "source": [
        "#Merge Stock And Twitter Sentiment\n",
        "processed_tweets = processed_tweets.loc[:, processed_tweets.columns.intersection(['created_at','polarity'])]\n",
        "processed_tweets = processed_tweets.set_index('created_at').groupby(pd.Grouper(freq='d')).mean().dropna(how='all')\n",
        "processed_tweets = processed_tweets.resample('D').ffill().reset_index()"
      ],
      "metadata": {
        "id": "At3np9y55oyK"
      },
      "execution_count": null,
      "outputs": []
    },
    {
      "cell_type": "code",
      "source": [
        "processed_tweets"
      ],
      "metadata": {
        "colab": {
          "base_uri": "https://localhost:8080/",
          "height": 300
        },
        "id": "L0OqUQ5w6jR0",
        "outputId": "77e29701-20a9-4f0c-b9ce-a35e274d67f8"
      },
      "execution_count": null,
      "outputs": [
        {
          "output_type": "execute_result",
          "data": {
            "text/html": [
              "<div>\n",
              "<style scoped>\n",
              "    .dataframe tbody tr th:only-of-type {\n",
              "        vertical-align: middle;\n",
              "    }\n",
              "\n",
              "    .dataframe tbody tr th {\n",
              "        vertical-align: top;\n",
              "    }\n",
              "\n",
              "    .dataframe thead th {\n",
              "        text-align: right;\n",
              "    }\n",
              "</style>\n",
              "<table border=\"1\" class=\"dataframe\">\n",
              "  <thead>\n",
              "    <tr style=\"text-align: right;\">\n",
              "      <th></th>\n",
              "      <th>created_at</th>\n",
              "      <th>polarity</th>\n",
              "    </tr>\n",
              "  </thead>\n",
              "  <tbody>\n",
              "    <tr>\n",
              "      <th>0</th>\n",
              "      <td>2021-12-05 00:00:00+00:00</td>\n",
              "      <td>0.082534</td>\n",
              "    </tr>\n",
              "    <tr>\n",
              "      <th>1</th>\n",
              "      <td>2021-12-06 00:00:00+00:00</td>\n",
              "      <td>0.124675</td>\n",
              "    </tr>\n",
              "    <tr>\n",
              "      <th>2</th>\n",
              "      <td>2021-12-07 00:00:00+00:00</td>\n",
              "      <td>0.091648</td>\n",
              "    </tr>\n",
              "    <tr>\n",
              "      <th>3</th>\n",
              "      <td>2021-12-08 00:00:00+00:00</td>\n",
              "      <td>0.117252</td>\n",
              "    </tr>\n",
              "    <tr>\n",
              "      <th>4</th>\n",
              "      <td>2021-12-09 00:00:00+00:00</td>\n",
              "      <td>0.115124</td>\n",
              "    </tr>\n",
              "    <tr>\n",
              "      <th>5</th>\n",
              "      <td>2021-12-10 00:00:00+00:00</td>\n",
              "      <td>0.141031</td>\n",
              "    </tr>\n",
              "    <tr>\n",
              "      <th>6</th>\n",
              "      <td>2021-12-11 00:00:00+00:00</td>\n",
              "      <td>0.132675</td>\n",
              "    </tr>\n",
              "    <tr>\n",
              "      <th>7</th>\n",
              "      <td>2021-12-12 00:00:00+00:00</td>\n",
              "      <td>0.117387</td>\n",
              "    </tr>\n",
              "  </tbody>\n",
              "</table>\n",
              "</div>"
            ],
            "text/plain": [
              "                 created_at  polarity\n",
              "0 2021-12-05 00:00:00+00:00  0.082534\n",
              "1 2021-12-06 00:00:00+00:00  0.124675\n",
              "2 2021-12-07 00:00:00+00:00  0.091648\n",
              "3 2021-12-08 00:00:00+00:00  0.117252\n",
              "4 2021-12-09 00:00:00+00:00  0.115124\n",
              "5 2021-12-10 00:00:00+00:00  0.141031\n",
              "6 2021-12-11 00:00:00+00:00  0.132675\n",
              "7 2021-12-12 00:00:00+00:00  0.117387"
            ]
          },
          "metadata": {},
          "execution_count": 34
        }
      ]
    },
    {
      "cell_type": "code",
      "source": [
        "import pandas as pd\n",
        "MSFT_Final_df = pd.read_csv(\"MSFT_with_textblob_sentiment.csv\", parse_dates = True, index_col = 'Date')\n",
        "MSFT_Final_df"
      ],
      "metadata": {
        "colab": {
          "base_uri": "https://localhost:8080/",
          "height": 492
        },
        "id": "7bOxQNdPIGqS",
        "outputId": "4e690b7f-768c-48c2-c40c-75c732eecc29"
      },
      "execution_count": null,
      "outputs": [
        {
          "output_type": "execute_result",
          "data": {
            "text/html": [
              "<div>\n",
              "<style scoped>\n",
              "    .dataframe tbody tr th:only-of-type {\n",
              "        vertical-align: middle;\n",
              "    }\n",
              "\n",
              "    .dataframe tbody tr th {\n",
              "        vertical-align: top;\n",
              "    }\n",
              "\n",
              "    .dataframe thead th {\n",
              "        text-align: right;\n",
              "    }\n",
              "</style>\n",
              "<table border=\"1\" class=\"dataframe\">\n",
              "  <thead>\n",
              "    <tr style=\"text-align: right;\">\n",
              "      <th></th>\n",
              "      <th>Unnamed: 0</th>\n",
              "      <th>Unnamed: 0.1</th>\n",
              "      <th>Open</th>\n",
              "      <th>High</th>\n",
              "      <th>Low</th>\n",
              "      <th>Close</th>\n",
              "      <th>Adj Close</th>\n",
              "      <th>Volume</th>\n",
              "      <th>textblob_sentiment</th>\n",
              "    </tr>\n",
              "    <tr>\n",
              "      <th>Date</th>\n",
              "      <th></th>\n",
              "      <th></th>\n",
              "      <th></th>\n",
              "      <th></th>\n",
              "      <th></th>\n",
              "      <th></th>\n",
              "      <th></th>\n",
              "      <th></th>\n",
              "      <th></th>\n",
              "    </tr>\n",
              "  </thead>\n",
              "  <tbody>\n",
              "    <tr>\n",
              "      <th>2009-09-21</th>\n",
              "      <td>0</td>\n",
              "      <td>0</td>\n",
              "      <td>25.110001</td>\n",
              "      <td>25.370001</td>\n",
              "      <td>25.100000</td>\n",
              "      <td>25.299999</td>\n",
              "      <td>19.717058</td>\n",
              "      <td>28878700</td>\n",
              "      <td>0.062500</td>\n",
              "    </tr>\n",
              "    <tr>\n",
              "      <th>2009-09-22</th>\n",
              "      <td>1</td>\n",
              "      <td>1</td>\n",
              "      <td>25.400000</td>\n",
              "      <td>25.820000</td>\n",
              "      <td>25.290001</td>\n",
              "      <td>25.770000</td>\n",
              "      <td>20.083347</td>\n",
              "      <td>61376700</td>\n",
              "      <td>-0.092857</td>\n",
              "    </tr>\n",
              "    <tr>\n",
              "      <th>2009-09-23</th>\n",
              "      <td>2</td>\n",
              "      <td>2</td>\n",
              "      <td>25.920000</td>\n",
              "      <td>26.250000</td>\n",
              "      <td>25.639999</td>\n",
              "      <td>25.709999</td>\n",
              "      <td>20.036585</td>\n",
              "      <td>60599900</td>\n",
              "      <td>-0.092857</td>\n",
              "    </tr>\n",
              "    <tr>\n",
              "      <th>2009-09-24</th>\n",
              "      <td>3</td>\n",
              "      <td>3</td>\n",
              "      <td>25.920000</td>\n",
              "      <td>26.110001</td>\n",
              "      <td>25.660000</td>\n",
              "      <td>25.940001</td>\n",
              "      <td>20.215834</td>\n",
              "      <td>56302900</td>\n",
              "      <td>0.039545</td>\n",
              "    </tr>\n",
              "    <tr>\n",
              "      <th>2009-09-25</th>\n",
              "      <td>4</td>\n",
              "      <td>4</td>\n",
              "      <td>25.690001</td>\n",
              "      <td>25.820000</td>\n",
              "      <td>25.520000</td>\n",
              "      <td>25.549999</td>\n",
              "      <td>19.911896</td>\n",
              "      <td>50158900</td>\n",
              "      <td>0.078788</td>\n",
              "    </tr>\n",
              "    <tr>\n",
              "      <th>...</th>\n",
              "      <td>...</td>\n",
              "      <td>...</td>\n",
              "      <td>...</td>\n",
              "      <td>...</td>\n",
              "      <td>...</td>\n",
              "      <td>...</td>\n",
              "      <td>...</td>\n",
              "      <td>...</td>\n",
              "      <td>...</td>\n",
              "    </tr>\n",
              "    <tr>\n",
              "      <th>2020-05-24</th>\n",
              "      <td>3898</td>\n",
              "      <td>3898</td>\n",
              "      <td>183.190002</td>\n",
              "      <td>184.460007</td>\n",
              "      <td>182.539993</td>\n",
              "      <td>183.509995</td>\n",
              "      <td>183.509995</td>\n",
              "      <td>20826900</td>\n",
              "      <td>-0.024881</td>\n",
              "    </tr>\n",
              "    <tr>\n",
              "      <th>2020-05-25</th>\n",
              "      <td>3899</td>\n",
              "      <td>3899</td>\n",
              "      <td>183.190002</td>\n",
              "      <td>184.460007</td>\n",
              "      <td>182.539993</td>\n",
              "      <td>183.509995</td>\n",
              "      <td>183.509995</td>\n",
              "      <td>20826900</td>\n",
              "      <td>-0.024881</td>\n",
              "    </tr>\n",
              "    <tr>\n",
              "      <th>2020-05-26</th>\n",
              "      <td>3900</td>\n",
              "      <td>3900</td>\n",
              "      <td>186.339996</td>\n",
              "      <td>186.500000</td>\n",
              "      <td>181.100006</td>\n",
              "      <td>181.570007</td>\n",
              "      <td>181.570007</td>\n",
              "      <td>36073600</td>\n",
              "      <td>0.150000</td>\n",
              "    </tr>\n",
              "    <tr>\n",
              "      <th>2020-05-27</th>\n",
              "      <td>3901</td>\n",
              "      <td>3901</td>\n",
              "      <td>180.199997</td>\n",
              "      <td>181.990005</td>\n",
              "      <td>176.600006</td>\n",
              "      <td>181.809998</td>\n",
              "      <td>181.809998</td>\n",
              "      <td>39517100</td>\n",
              "      <td>0.334091</td>\n",
              "    </tr>\n",
              "    <tr>\n",
              "      <th>2020-05-28</th>\n",
              "      <td>3902</td>\n",
              "      <td>3902</td>\n",
              "      <td>180.740005</td>\n",
              "      <td>184.149994</td>\n",
              "      <td>180.380005</td>\n",
              "      <td>181.399994</td>\n",
              "      <td>181.399994</td>\n",
              "      <td>33810200</td>\n",
              "      <td>0.125000</td>\n",
              "    </tr>\n",
              "  </tbody>\n",
              "</table>\n",
              "<p>3903 rows × 9 columns</p>\n",
              "</div>"
            ],
            "text/plain": [
              "            Unnamed: 0  Unnamed: 0.1  ...    Volume  textblob_sentiment\n",
              "Date                                  ...                              \n",
              "2009-09-21           0             0  ...  28878700            0.062500\n",
              "2009-09-22           1             1  ...  61376700           -0.092857\n",
              "2009-09-23           2             2  ...  60599900           -0.092857\n",
              "2009-09-24           3             3  ...  56302900            0.039545\n",
              "2009-09-25           4             4  ...  50158900            0.078788\n",
              "...                ...           ...  ...       ...                 ...\n",
              "2020-05-24        3898          3898  ...  20826900           -0.024881\n",
              "2020-05-25        3899          3899  ...  20826900           -0.024881\n",
              "2020-05-26        3900          3900  ...  36073600            0.150000\n",
              "2020-05-27        3901          3901  ...  39517100            0.334091\n",
              "2020-05-28        3902          3902  ...  33810200            0.125000\n",
              "\n",
              "[3903 rows x 9 columns]"
            ]
          },
          "metadata": {},
          "execution_count": 3
        }
      ]
    },
    {
      "cell_type": "code",
      "source": [
        "del MSFT_Final_df['Unnamed: 0']\n",
        "del MSFT_Final_df['Unnamed: 0.1']"
      ],
      "metadata": {
        "id": "zVLOAQWwIYV0"
      },
      "execution_count": null,
      "outputs": []
    },
    {
      "cell_type": "code",
      "source": [
        "MSFT_Final_df.drop(columns=['Volume','Adj Close'],inplace=True)"
      ],
      "metadata": {
        "id": "xP0MgI78JPHr"
      },
      "execution_count": null,
      "outputs": []
    },
    {
      "cell_type": "code",
      "source": [
        "MSFT_Final_df"
      ],
      "metadata": {
        "colab": {
          "base_uri": "https://localhost:8080/",
          "height": 455
        },
        "id": "JCltw4eNJXgX",
        "outputId": "4e66c9b8-6990-41f4-9def-4787673aa4ff"
      },
      "execution_count": null,
      "outputs": [
        {
          "output_type": "execute_result",
          "data": {
            "text/html": [
              "<div>\n",
              "<style scoped>\n",
              "    .dataframe tbody tr th:only-of-type {\n",
              "        vertical-align: middle;\n",
              "    }\n",
              "\n",
              "    .dataframe tbody tr th {\n",
              "        vertical-align: top;\n",
              "    }\n",
              "\n",
              "    .dataframe thead th {\n",
              "        text-align: right;\n",
              "    }\n",
              "</style>\n",
              "<table border=\"1\" class=\"dataframe\">\n",
              "  <thead>\n",
              "    <tr style=\"text-align: right;\">\n",
              "      <th></th>\n",
              "      <th>Open</th>\n",
              "      <th>High</th>\n",
              "      <th>Low</th>\n",
              "      <th>Close</th>\n",
              "      <th>textblob_sentiment</th>\n",
              "    </tr>\n",
              "    <tr>\n",
              "      <th>Date</th>\n",
              "      <th></th>\n",
              "      <th></th>\n",
              "      <th></th>\n",
              "      <th></th>\n",
              "      <th></th>\n",
              "    </tr>\n",
              "  </thead>\n",
              "  <tbody>\n",
              "    <tr>\n",
              "      <th>2009-09-21</th>\n",
              "      <td>25.110001</td>\n",
              "      <td>25.370001</td>\n",
              "      <td>25.100000</td>\n",
              "      <td>25.299999</td>\n",
              "      <td>0.062500</td>\n",
              "    </tr>\n",
              "    <tr>\n",
              "      <th>2009-09-22</th>\n",
              "      <td>25.400000</td>\n",
              "      <td>25.820000</td>\n",
              "      <td>25.290001</td>\n",
              "      <td>25.770000</td>\n",
              "      <td>-0.092857</td>\n",
              "    </tr>\n",
              "    <tr>\n",
              "      <th>2009-09-23</th>\n",
              "      <td>25.920000</td>\n",
              "      <td>26.250000</td>\n",
              "      <td>25.639999</td>\n",
              "      <td>25.709999</td>\n",
              "      <td>-0.092857</td>\n",
              "    </tr>\n",
              "    <tr>\n",
              "      <th>2009-09-24</th>\n",
              "      <td>25.920000</td>\n",
              "      <td>26.110001</td>\n",
              "      <td>25.660000</td>\n",
              "      <td>25.940001</td>\n",
              "      <td>0.039545</td>\n",
              "    </tr>\n",
              "    <tr>\n",
              "      <th>2009-09-25</th>\n",
              "      <td>25.690001</td>\n",
              "      <td>25.820000</td>\n",
              "      <td>25.520000</td>\n",
              "      <td>25.549999</td>\n",
              "      <td>0.078788</td>\n",
              "    </tr>\n",
              "    <tr>\n",
              "      <th>...</th>\n",
              "      <td>...</td>\n",
              "      <td>...</td>\n",
              "      <td>...</td>\n",
              "      <td>...</td>\n",
              "      <td>...</td>\n",
              "    </tr>\n",
              "    <tr>\n",
              "      <th>2020-05-24</th>\n",
              "      <td>183.190002</td>\n",
              "      <td>184.460007</td>\n",
              "      <td>182.539993</td>\n",
              "      <td>183.509995</td>\n",
              "      <td>-0.024881</td>\n",
              "    </tr>\n",
              "    <tr>\n",
              "      <th>2020-05-25</th>\n",
              "      <td>183.190002</td>\n",
              "      <td>184.460007</td>\n",
              "      <td>182.539993</td>\n",
              "      <td>183.509995</td>\n",
              "      <td>-0.024881</td>\n",
              "    </tr>\n",
              "    <tr>\n",
              "      <th>2020-05-26</th>\n",
              "      <td>186.339996</td>\n",
              "      <td>186.500000</td>\n",
              "      <td>181.100006</td>\n",
              "      <td>181.570007</td>\n",
              "      <td>0.150000</td>\n",
              "    </tr>\n",
              "    <tr>\n",
              "      <th>2020-05-27</th>\n",
              "      <td>180.199997</td>\n",
              "      <td>181.990005</td>\n",
              "      <td>176.600006</td>\n",
              "      <td>181.809998</td>\n",
              "      <td>0.334091</td>\n",
              "    </tr>\n",
              "    <tr>\n",
              "      <th>2020-05-28</th>\n",
              "      <td>180.740005</td>\n",
              "      <td>184.149994</td>\n",
              "      <td>180.380005</td>\n",
              "      <td>181.399994</td>\n",
              "      <td>0.125000</td>\n",
              "    </tr>\n",
              "  </tbody>\n",
              "</table>\n",
              "<p>3903 rows × 5 columns</p>\n",
              "</div>"
            ],
            "text/plain": [
              "                  Open        High         Low       Close  textblob_sentiment\n",
              "Date                                                                          \n",
              "2009-09-21   25.110001   25.370001   25.100000   25.299999            0.062500\n",
              "2009-09-22   25.400000   25.820000   25.290001   25.770000           -0.092857\n",
              "2009-09-23   25.920000   26.250000   25.639999   25.709999           -0.092857\n",
              "2009-09-24   25.920000   26.110001   25.660000   25.940001            0.039545\n",
              "2009-09-25   25.690001   25.820000   25.520000   25.549999            0.078788\n",
              "...                ...         ...         ...         ...                 ...\n",
              "2020-05-24  183.190002  184.460007  182.539993  183.509995           -0.024881\n",
              "2020-05-25  183.190002  184.460007  182.539993  183.509995           -0.024881\n",
              "2020-05-26  186.339996  186.500000  181.100006  181.570007            0.150000\n",
              "2020-05-27  180.199997  181.990005  176.600006  181.809998            0.334091\n",
              "2020-05-28  180.740005  184.149994  180.380005  181.399994            0.125000\n",
              "\n",
              "[3903 rows x 5 columns]"
            ]
          },
          "metadata": {},
          "execution_count": 6
        }
      ]
    },
    {
      "cell_type": "code",
      "source": [
        "MSFT_Final_df.columns = [['open', 'high', 'low','close','sentiment']]"
      ],
      "metadata": {
        "id": "5shjlO27Jfiz"
      },
      "execution_count": null,
      "outputs": []
    },
    {
      "cell_type": "code",
      "source": [
        "from sklearn.preprocessing import MinMaxScaler\n",
        "sc = MinMaxScaler()"
      ],
      "metadata": {
        "id": "Vrvh9ba8KjIn"
      },
      "execution_count": null,
      "outputs": []
    },
    {
      "cell_type": "code",
      "source": [
        "data = sc.fit_transform(MSFT_Final_df)"
      ],
      "metadata": {
        "colab": {
          "base_uri": "https://localhost:8080/"
        },
        "id": "toVbdHtdKq7I",
        "outputId": "22aa8aa3-19b8-4c74-8ee6-42113fc11228"
      },
      "execution_count": null,
      "outputs": [
        {
          "output_type": "stream",
          "name": "stderr",
          "text": [
            "/usr/local/lib/python3.7/dist-packages/sklearn/utils/validation.py:1679: FutureWarning: Feature names only support names that are all strings. Got feature names with dtypes: ['tuple']. An error will be raised in 1.2.\n",
            "  FutureWarning,\n",
            "/usr/local/lib/python3.7/dist-packages/sklearn/utils/validation.py:1679: FutureWarning: Feature names only support names that are all strings. Got feature names with dtypes: ['tuple']. An error will be raised in 1.2.\n",
            "  FutureWarning,\n"
          ]
        }
      ]
    },
    {
      "cell_type": "code",
      "source": [
        "data"
      ],
      "metadata": {
        "colab": {
          "base_uri": "https://localhost:8080/"
        },
        "id": "-1JiE1ltKy7Y",
        "outputId": "1e5c3802-f268-4fb7-abb1-119bc0a0d326"
      },
      "execution_count": null,
      "outputs": [
        {
          "output_type": "execute_result",
          "data": {
            "text/plain": [
              "array([[0.01205539, 0.01224759, 0.01447417, 0.01382099, 0.53125   ],\n",
              "       [0.01378611, 0.01493607, 0.01563455, 0.01665761, 0.45357143],\n",
              "       [0.01688947, 0.01750508, 0.01777207, 0.01629549, 0.45357143],\n",
              "       ...,\n",
              "       [0.97427788, 0.97490741, 0.96720413, 0.95696789, 0.575     ],\n",
              "       [0.9376343 , 0.94796277, 0.93972154, 0.95841632, 0.66704545],\n",
              "       [0.94085707, 0.96086747, 0.96280691, 0.9559418 , 0.5625    ]])"
            ]
          },
          "metadata": {},
          "execution_count": 10
        }
      ]
    },
    {
      "cell_type": "code",
      "source": [
        "train_ind = int(0.6*len(MSFT_Final_df))\n",
        "val_ind = train_ind + int(0.2*len(MSFT_Final_df))\n",
        "train = data[:train_ind]\n",
        "val = data[train_ind:val_ind]\n",
        "test = data[val_ind:]"
      ],
      "metadata": {
        "id": "07ItZ5RI4JEA"
      },
      "execution_count": null,
      "outputs": []
    },
    {
      "cell_type": "code",
      "source": [
        "xtrain,ytrain,xval,yval,xtest,ytest = train[:,:],train[:,3],val[:,:],val[:,3],test[:,:],test[:,3]\n",
        "xtrain.shape, ytrain.shape"
      ],
      "metadata": {
        "colab": {
          "base_uri": "https://localhost:8080/"
        },
        "id": "BoBeXs1u4Mne",
        "outputId": "7c5f26de-73bd-4fa0-e519-d18eaab66495"
      },
      "execution_count": null,
      "outputs": [
        {
          "output_type": "execute_result",
          "data": {
            "text/plain": [
              "((2341, 5), (2341,))"
            ]
          },
          "metadata": {},
          "execution_count": 12
        }
      ]
    },
    {
      "cell_type": "code",
      "source": [
        "lookback = 60 #Past 60 days data\n",
        "n_features = 5\n",
        "train_len = len(xtrain) - lookback\n",
        "test_len = len(xtest) - lookback\n",
        "val_len = len(xval) - lookback"
      ],
      "metadata": {
        "id": "GpCwGShlLD0u"
      },
      "execution_count": null,
      "outputs": []
    },
    {
      "cell_type": "code",
      "source": [
        "import numpy as np\n",
        "x_train = np.zeros((train_len, lookback, n_features))\n",
        "y_train = np.zeros((train_len))\n",
        "for i in range(train_len):\n",
        "    ytemp = i+lookback\n",
        "    x_train[i] = xtrain[i:ytemp]\n",
        "    y_train[i] = ytrain[ytemp]\n",
        "print(\"x_train\", x_train.shape)\n",
        "print(\"y_train\", y_train.shape)"
      ],
      "metadata": {
        "colab": {
          "base_uri": "https://localhost:8080/"
        },
        "id": "KfyR2-fCLE3x",
        "outputId": "32e76b95-21b7-4a0d-c09f-6cfd4df02a33"
      },
      "execution_count": null,
      "outputs": [
        {
          "output_type": "stream",
          "name": "stdout",
          "text": [
            "x_train (2281, 60, 5)\n",
            "y_train (2281,)\n"
          ]
        }
      ]
    },
    {
      "cell_type": "code",
      "source": [
        "x_val = np.zeros((val_len, lookback, n_features))\n",
        "y_val = np.zeros((val_len))\n",
        "for i in range(val_len):\n",
        "    ytemp = i+lookback\n",
        "    x_val[i] = xval[i:ytemp]\n",
        "    y_val[i] = yval[ytemp]\n",
        "print(\"x_val\", x_val.shape)\n",
        "print(\"y_val\", y_val.shape)"
      ],
      "metadata": {
        "colab": {
          "base_uri": "https://localhost:8080/"
        },
        "id": "PWrYKCBOLVvF",
        "outputId": "29c90ffa-0ddf-4c93-c019-be20fd3bca61"
      },
      "execution_count": null,
      "outputs": [
        {
          "output_type": "stream",
          "name": "stdout",
          "text": [
            "x_val (720, 60, 5)\n",
            "y_val (720,)\n"
          ]
        }
      ]
    },
    {
      "cell_type": "code",
      "source": [
        "x_test = np.zeros((test_len, lookback, n_features))\n",
        "y_test = np.zeros((test_len))\n",
        "for i in range(test_len):\n",
        "    ytemp = i+lookback\n",
        "    x_test[i] = xtest[i:ytemp]\n",
        "    y_test[i] = ytest[ytemp]\n",
        "print(\"x_test\", x_test.shape)\n",
        "print(\"y_test\", y_test.shape)"
      ],
      "metadata": {
        "colab": {
          "base_uri": "https://localhost:8080/"
        },
        "id": "TgpkzgJLLXyN",
        "outputId": "dbe4bd62-d61d-43a2-e7fa-a7590ea9f5eb"
      },
      "execution_count": null,
      "outputs": [
        {
          "output_type": "stream",
          "name": "stdout",
          "text": [
            "x_test (722, 60, 5)\n",
            "y_test (722,)\n"
          ]
        }
      ]
    },
    {
      "cell_type": "code",
      "source": [
        "import tensorflow\n",
        "from keras.models import Sequential, load_model\n",
        "from keras.layers.core import Dense, Activation, Dropout, Flatten\n",
        "from keras.layers import LSTM\n",
        "from tensorflow.keras.optimizers import Adam\n",
        "from time import time\n",
        "from keras.callbacks import EarlyStopping"
      ],
      "metadata": {
        "id": "_qVWS68iLy3L"
      },
      "execution_count": null,
      "outputs": []
    },
    {
      "cell_type": "code",
      "source": [
        "model = Sequential() \n",
        "model.add(LSTM(110,input_shape = (lookback, n_features), return_sequences=True)) # Stacking the LSTM so return_sequences = True for next LSTM\n",
        "model.add(LSTM(110))\n",
        "model.add(Dense(1))"
      ],
      "metadata": {
        "id": "A-PQyTboL_yU"
      },
      "execution_count": null,
      "outputs": []
    },
    {
      "cell_type": "code",
      "source": [
        "model.compile(loss = 'mse', optimizer = 'adam', metrics= ['mape'])\n",
        "earlystop = EarlyStopping(monitor='val_loss', min_delta=0.0001, patience=80,  verbose=1, mode='min')"
      ],
      "metadata": {
        "id": "QUlb1coVMTC7"
      },
      "execution_count": null,
      "outputs": []
    },
    {
      "cell_type": "code",
      "source": [
        "start = time()\n",
        "print(\"start:\",0)\n",
        "model.fit(x_train,y_train, epochs = 60, batch_size=40, \n",
        "          validation_data=(x_val,y_val),verbose = 1, \n",
        "          shuffle = False)\n",
        "print(\"end:\",time()-start)"
      ],
      "metadata": {
        "colab": {
          "base_uri": "https://localhost:8080/"
        },
        "id": "pfOLrLE3MXQz",
        "outputId": "b47828f3-7119-4fd2-ef7d-4d8fdefacc6e"
      },
      "execution_count": null,
      "outputs": [
        {
          "output_type": "stream",
          "name": "stdout",
          "text": [
            "start: 0\n",
            "Epoch 1/60\n",
            "58/58 [==============================] - 10s 54ms/step - loss: 0.0012 - mape: 12568.5693 - val_loss: 0.0034 - val_mape: 14.0109\n",
            "Epoch 2/60\n",
            "58/58 [==============================] - 2s 37ms/step - loss: 0.0015 - mape: 23853.2422 - val_loss: 0.0101 - val_mape: 25.3127\n",
            "Epoch 3/60\n",
            "58/58 [==============================] - 2s 39ms/step - loss: 0.0017 - mape: 41787.7656 - val_loss: 0.0114 - val_mape: 29.5659\n",
            "Epoch 4/60\n",
            "58/58 [==============================] - 2s 37ms/step - loss: 0.0011 - mape: 35273.8516 - val_loss: 0.0061 - val_mape: 21.3169\n",
            "Epoch 5/60\n",
            "58/58 [==============================] - 2s 39ms/step - loss: 7.5562e-04 - mape: 32546.5996 - val_loss: 0.0030 - val_mape: 14.1253\n",
            "Epoch 6/60\n",
            "58/58 [==============================] - 2s 40ms/step - loss: 6.1330e-04 - mape: 28667.0547 - val_loss: 7.2534e-04 - val_mape: 6.7363\n",
            "Epoch 7/60\n",
            "58/58 [==============================] - 2s 37ms/step - loss: 4.8006e-04 - mape: 23851.5059 - val_loss: 3.3432e-04 - val_mape: 4.7836\n",
            "Epoch 8/60\n",
            "58/58 [==============================] - 2s 37ms/step - loss: 3.5088e-04 - mape: 22065.4238 - val_loss: 1.3245e-04 - val_mape: 2.5303\n",
            "Epoch 9/60\n",
            "58/58 [==============================] - 2s 37ms/step - loss: 2.0766e-04 - mape: 19360.3242 - val_loss: 0.0016 - val_mape: 8.9619\n",
            "Epoch 10/60\n",
            "58/58 [==============================] - 2s 37ms/step - loss: 1.0162e-04 - mape: 14695.7158 - val_loss: 0.0027 - val_mape: 11.3483\n",
            "Epoch 11/60\n",
            "58/58 [==============================] - 2s 37ms/step - loss: 5.7114e-05 - mape: 11188.3574 - val_loss: 0.0024 - val_mape: 10.7615\n",
            "Epoch 12/60\n",
            "58/58 [==============================] - 2s 39ms/step - loss: 4.9867e-05 - mape: 10495.0703 - val_loss: 0.0020 - val_mape: 9.8014\n",
            "Epoch 13/60\n",
            "58/58 [==============================] - 2s 39ms/step - loss: 4.3926e-05 - mape: 9854.8086 - val_loss: 0.0017 - val_mape: 9.0384\n",
            "Epoch 14/60\n",
            "58/58 [==============================] - 2s 37ms/step - loss: 4.0263e-05 - mape: 9438.7324 - val_loss: 0.0014 - val_mape: 8.3727\n",
            "Epoch 15/60\n",
            "58/58 [==============================] - 2s 37ms/step - loss: 3.6927e-05 - mape: 9006.0898 - val_loss: 0.0012 - val_mape: 7.7875\n",
            "Epoch 16/60\n",
            "58/58 [==============================] - 2s 37ms/step - loss: 3.4310e-05 - mape: 8633.5234 - val_loss: 0.0010 - val_mape: 7.2392\n",
            "Epoch 17/60\n",
            "58/58 [==============================] - 2s 40ms/step - loss: 3.2240e-05 - mape: 8313.4951 - val_loss: 8.8213e-04 - val_mape: 6.7145\n",
            "Epoch 18/60\n",
            "58/58 [==============================] - 2s 37ms/step - loss: 3.0607e-05 - mape: 8043.7622 - val_loss: 7.4195e-04 - val_mape: 6.2108\n",
            "Epoch 19/60\n",
            "58/58 [==============================] - 2s 37ms/step - loss: 2.9311e-05 - mape: 7818.7241 - val_loss: 6.2005e-04 - val_mape: 5.7305\n",
            "Epoch 20/60\n",
            "58/58 [==============================] - 2s 39ms/step - loss: 2.8266e-05 - mape: 7630.3018 - val_loss: 5.1539e-04 - val_mape: 5.2770\n",
            "Epoch 21/60\n",
            "58/58 [==============================] - 2s 39ms/step - loss: 2.7413e-05 - mape: 7471.5977 - val_loss: 4.2663e-04 - val_mape: 4.8524\n",
            "Epoch 22/60\n",
            "58/58 [==============================] - 2s 37ms/step - loss: 2.6708e-05 - mape: 7337.3726 - val_loss: 3.5217e-04 - val_mape: 4.4559\n",
            "Epoch 23/60\n",
            "58/58 [==============================] - 2s 39ms/step - loss: 2.6123e-05 - mape: 7223.5649 - val_loss: 2.9037e-04 - val_mape: 4.0885\n",
            "Epoch 24/60\n",
            "58/58 [==============================] - 2s 38ms/step - loss: 2.5640e-05 - mape: 7126.9180 - val_loss: 2.3961e-04 - val_mape: 3.7522\n",
            "Epoch 25/60\n",
            "58/58 [==============================] - 2s 37ms/step - loss: 2.5244e-05 - mape: 7044.7754 - val_loss: 1.9838e-04 - val_mape: 3.4479\n",
            "Epoch 26/60\n",
            "58/58 [==============================] - 2s 40ms/step - loss: 2.4927e-05 - mape: 6974.7378 - val_loss: 1.6530e-04 - val_mape: 3.1774\n",
            "Epoch 27/60\n",
            "58/58 [==============================] - 2s 40ms/step - loss: 2.4679e-05 - mape: 6914.4883 - val_loss: 1.3916e-04 - val_mape: 2.9413\n",
            "Epoch 28/60\n",
            "58/58 [==============================] - 2s 39ms/step - loss: 2.4490e-05 - mape: 6861.6465 - val_loss: 1.1892e-04 - val_mape: 2.7373\n",
            "Epoch 29/60\n",
            "58/58 [==============================] - 2s 39ms/step - loss: 2.4346e-05 - mape: 6813.6328 - val_loss: 1.0369e-04 - val_mape: 2.5691\n",
            "Epoch 30/60\n",
            "58/58 [==============================] - 2s 37ms/step - loss: 2.4226e-05 - mape: 6767.6074 - val_loss: 9.2793e-05 - val_mape: 2.4412\n",
            "Epoch 31/60\n",
            "58/58 [==============================] - 2s 40ms/step - loss: 2.4104e-05 - mape: 6720.4639 - val_loss: 8.5755e-05 - val_mape: 2.3540\n",
            "Epoch 32/60\n",
            "58/58 [==============================] - 2s 37ms/step - loss: 2.3946e-05 - mape: 6668.9033 - val_loss: 8.2419e-05 - val_mape: 2.3116\n",
            "Epoch 33/60\n",
            "58/58 [==============================] - 2s 39ms/step - loss: 2.3717e-05 - mape: 6609.7285 - val_loss: 8.3035e-05 - val_mape: 2.3198\n",
            "Epoch 34/60\n",
            "58/58 [==============================] - 2s 39ms/step - loss: 2.3399e-05 - mape: 6540.5942 - val_loss: 8.8333e-05 - val_mape: 2.3901\n",
            "Epoch 35/60\n",
            "58/58 [==============================] - 2s 40ms/step - loss: 2.3006e-05 - mape: 6461.5815 - val_loss: 9.9283e-05 - val_mape: 2.5301\n",
            "Epoch 36/60\n",
            "58/58 [==============================] - 2s 40ms/step - loss: 2.2604e-05 - mape: 6377.6396 - val_loss: 1.1608e-04 - val_mape: 2.7272\n",
            "Epoch 37/60\n",
            "58/58 [==============================] - 2s 40ms/step - loss: 2.2283e-05 - mape: 6300.3027 - val_loss: 1.3651e-04 - val_mape: 2.9380\n",
            "Epoch 38/60\n",
            "58/58 [==============================] - 2s 40ms/step - loss: 2.2090e-05 - mape: 6244.5142 - val_loss: 1.5599e-04 - val_mape: 3.1117\n",
            "Epoch 39/60\n",
            "58/58 [==============================] - 2s 39ms/step - loss: 2.1986e-05 - mape: 6218.2104 - val_loss: 1.7102e-04 - val_mape: 3.2244\n",
            "Epoch 40/60\n",
            "58/58 [==============================] - 2s 37ms/step - loss: 2.1906e-05 - mape: 6214.5767 - val_loss: 1.8161e-04 - val_mape: 3.2921\n",
            "Epoch 41/60\n",
            "58/58 [==============================] - 2s 37ms/step - loss: 2.1819e-05 - mape: 6219.1909 - val_loss: 1.8953e-04 - val_mape: 3.3399\n",
            "Epoch 42/60\n",
            "58/58 [==============================] - 2s 40ms/step - loss: 2.1721e-05 - mape: 6222.1201 - val_loss: 1.9613e-04 - val_mape: 3.3797\n",
            "Epoch 43/60\n",
            "58/58 [==============================] - 2s 39ms/step - loss: 2.1617e-05 - mape: 6220.2866 - val_loss: 2.0196e-04 - val_mape: 3.4142\n",
            "Epoch 44/60\n",
            "58/58 [==============================] - 2s 39ms/step - loss: 2.1512e-05 - mape: 6213.7539 - val_loss: 2.0713e-04 - val_mape: 3.4432\n",
            "Epoch 45/60\n",
            "58/58 [==============================] - 2s 37ms/step - loss: 2.1408e-05 - mape: 6203.2080 - val_loss: 2.1155e-04 - val_mape: 3.4644\n",
            "Epoch 46/60\n",
            "58/58 [==============================] - 2s 38ms/step - loss: 2.1303e-05 - mape: 6189.2661 - val_loss: 2.1505e-04 - val_mape: 3.4761\n",
            "Epoch 47/60\n",
            "58/58 [==============================] - 2s 38ms/step - loss: 2.1198e-05 - mape: 6172.4019 - val_loss: 2.1750e-04 - val_mape: 3.4769\n",
            "Epoch 48/60\n",
            "58/58 [==============================] - 2s 40ms/step - loss: 2.1093e-05 - mape: 6153.0063 - val_loss: 2.1878e-04 - val_mape: 3.4664\n",
            "Epoch 49/60\n",
            "58/58 [==============================] - 2s 37ms/step - loss: 2.0987e-05 - mape: 6131.4165 - val_loss: 2.1885e-04 - val_mape: 3.4445\n",
            "Epoch 50/60\n",
            "58/58 [==============================] - 2s 38ms/step - loss: 2.0882e-05 - mape: 6107.9272 - val_loss: 2.1768e-04 - val_mape: 3.4115\n",
            "Epoch 51/60\n",
            "58/58 [==============================] - 2s 38ms/step - loss: 2.0777e-05 - mape: 6082.7861 - val_loss: 2.1535e-04 - val_mape: 3.3683\n",
            "Epoch 52/60\n",
            "58/58 [==============================] - 2s 38ms/step - loss: 2.0675e-05 - mape: 6056.2188 - val_loss: 2.1194e-04 - val_mape: 3.3171\n",
            "Epoch 53/60\n",
            "58/58 [==============================] - 2s 40ms/step - loss: 2.0576e-05 - mape: 6028.3911 - val_loss: 2.0761e-04 - val_mape: 3.2586\n",
            "Epoch 54/60\n",
            "58/58 [==============================] - 2s 38ms/step - loss: 2.0481e-05 - mape: 5999.4321 - val_loss: 2.0252e-04 - val_mape: 3.1945\n",
            "Epoch 55/60\n",
            "58/58 [==============================] - 2s 38ms/step - loss: 2.0392e-05 - mape: 5969.3711 - val_loss: 1.9688e-04 - val_mape: 3.1269\n",
            "Epoch 56/60\n",
            "58/58 [==============================] - 2s 39ms/step - loss: 2.0309e-05 - mape: 5938.1919 - val_loss: 1.9087e-04 - val_mape: 3.0572\n",
            "Epoch 57/60\n",
            "58/58 [==============================] - 2s 41ms/step - loss: 2.0232e-05 - mape: 5905.7446 - val_loss: 1.8467e-04 - val_mape: 2.9884\n",
            "Epoch 58/60\n",
            "58/58 [==============================] - 2s 38ms/step - loss: 2.0160e-05 - mape: 5871.8296 - val_loss: 1.7843e-04 - val_mape: 2.9213\n",
            "Epoch 59/60\n",
            "58/58 [==============================] - 2s 38ms/step - loss: 2.0090e-05 - mape: 5836.1401 - val_loss: 1.7226e-04 - val_mape: 2.8564\n",
            "Epoch 60/60\n",
            "58/58 [==============================] - 2s 39ms/step - loss: 2.0019e-05 - mape: 5798.2949 - val_loss: 1.6625e-04 - val_mape: 2.7933\n",
            "end: 141.67993569374084\n"
          ]
        }
      ]
    },
    {
      "cell_type": "code",
      "source": [
        "import matplotlib.pyplot as plt\n",
        "loss = model.history.history\n",
        "loss = pd.DataFrame(loss)\n",
        "plt.plot(loss['loss'])\n",
        "plt.plot(loss['val_loss'])"
      ],
      "metadata": {
        "colab": {
          "base_uri": "https://localhost:8080/",
          "height": 282
        },
        "id": "b2lJdUHzONTj",
        "outputId": "dc3a86d3-08d7-4179-d79a-a5d8f0334fde"
      },
      "execution_count": null,
      "outputs": [
        {
          "output_type": "execute_result",
          "data": {
            "text/plain": [
              "[<matplotlib.lines.Line2D at 0x7fd935fe7750>]"
            ]
          },
          "metadata": {},
          "execution_count": 21
        },
        {
          "output_type": "display_data",
          "data": {
            "image/png": "[encoded data removed]",
            "text/plain": [
              "<Figure size 432x288 with 1 Axes>"
            ]
          },
          "metadata": {
            "needs_background": "light"
          }
        }
      ]
    },
    {
      "cell_type": "code",
      "source": [
        "y_pred = model.predict(x_test)\n",
        "\n",
        "plt.figure(figsize=(20,10))\n",
        "plt.plot( y_test, '.-', color='red', label='Real values', alpha=0.5)\n",
        "plt.plot( y_pred, '.-', color='blue', label='Predicted values', alpha=1)"
      ],
      "metadata": {
        "colab": {
          "base_uri": "https://localhost:8080/",
          "height": 516
        },
        "id": "wWWKzqHlMzbQ",
        "outputId": "da87f980-942c-450c-b775-f384bc4b44c1"
      },
      "execution_count": null,
      "outputs": [
        {
          "output_type": "execute_result",
          "data": {
            "text/plain": [
              "[<matplotlib.lines.Line2D at 0x7fd935f93f90>]"
            ]
          },
          "metadata": {},
          "execution_count": 22
        },
        {
          "output_type": "display_data",
          "data": {
            "image/png": "[encoded data removed]",
            "text/plain": [
              "<Figure size 1440x720 with 1 Axes>"
            ]
          },
          "metadata": {
            "needs_background": "light"
          }
        }
      ]
    },
    {
      "cell_type": "code",
      "source": [
        "model.evaluate(x_test, y_test)"
      ],
      "metadata": {
        "colab": {
          "base_uri": "https://localhost:8080/"
        },
        "id": "5b5NqzjzkZCz",
        "outputId": "3f7c9fef-81b0-449c-cd5c-6af891033dd1"
      },
      "execution_count": null,
      "outputs": [
        {
          "output_type": "stream",
          "name": "stdout",
          "text": [
            "23/23 [==============================] - 1s 13ms/step - loss: 0.0069 - mape: 11.1401\n"
          ]
        },
        {
          "output_type": "execute_result",
          "data": {
            "text/plain": [
              "[0.006857177242636681, 11.140066146850586]"
            ]
          },
          "metadata": {},
          "execution_count": 23
        }
      ]
    }
  ]
}