{
  "nbformat": 4,
  "nbformat_minor": 0,
  "metadata": {
    "colab": {
      "provenance": [],
      "authorship_tag": "ABX9TyM7xT9WMSaK7kDCBnsruYI1",
      "include_colab_link": true
    },
    "kernelspec": {
      "name": "python3",
      "display_name": "Python 3"
    },
    "language_info": {
      "name": "python"
    }
  },
  "cells": [
    {
      "cell_type": "markdown",
      "metadata": {
        "id": "view-in-github",
        "colab_type": "text"
      },
      "source": [
        "<a href=\"https://colab.research.google.com/github/Aayush-Jain01/AI_For_Economics_Term_Project/blob/main/Extracting_Twitter_Data.ipynb\" target=\"_parent\"><img src=\"https://colab.research.google.com/assets/colab-badge.svg\" alt=\"Open In Colab\"/></a>"
      ]
    },
    {
      "cell_type": "code",
      "execution_count": null,
      "metadata": {
        "id": "U4iQxBwOCV0P"
      },
      "outputs": [],
      "source": [
        "import requests\n",
        "import json\n",
        "import csv\n",
        "import pandas as pd\n",
        "import datetime\n",
        "import dateutil.parser\n",
        "import unicodedata\n",
        "import time"
      ]
    },
    {
      "cell_type": "code",
      "source": [
        "import os\n",
        "os.environ['BEARER_TOKEN'] = 'AAAAAAAAAAAAAAAAAAAAAF3EWgEAAAAALyiGBw2dczuo%2FFfQKmnzjbIn5co%3D4JG5uoNFwSGaj2o4o2KVuFv4MaGXWrO63H8Uwjok8vLbOh7uTY'"
      ],
      "metadata": {
        "id": "X7XSwiHahjOB"
      },
      "execution_count": null,
      "outputs": []
    },
    {
      "cell_type": "code",
      "source": [
        "def get_headers(bearer_token):\n",
        "    headers = {\"Authorization\": \"Bearer {}\".format(bearer_token)}\n",
        "    return headers"
      ],
      "metadata": {
        "id": "DMLn2ITMC377"
      },
      "execution_count": null,
      "outputs": []
    },
    {
      "cell_type": "code",
      "source": [
        "def create_url(keyword, start_date, end_date, max_results = 10):\n",
        "    \n",
        "    search_url = \"https://api.twitter.com/2/tweets/search/recent\"\n",
        "    query_params = {'query': keyword,\n",
        "                    'start_time': start_date,\n",
        "                    'end_time': end_date,\n",
        "                    'max_results': max_results,\n",
        "                    'expansions': 'author_id', #Additional information about a secondary associated object you want to return in the same response without making another request\n",
        "                    'tweet.fields': 'id,text,author_id,in_reply_to_user_id,geo,conversation_id,created_at,lang,public_metrics,referenced_tweets,reply_settings,source', #Additional fields of the primary object you need to extract have to be specified else the default fields only will be returned\n",
        "                    'user.fields': 'id,name,username,created_at,description,public_metrics,verified',\n",
        "                    'place.fields': 'full_name,id,country,country_code,geo,name,place_type',\n",
        "                    'next_token': {}}\n",
        "    return (search_url, query_params)\n",
        "#https://developer.twitter.com/en/docs/twitter-api/tweets/search/api-reference/get-tweets-search-recent (Refer here for more information about the query parameters)"
      ],
      "metadata": {
        "id": "mAY_Gg__cSpx"
      },
      "execution_count": null,
      "outputs": []
    },
    {
      "cell_type": "code",
      "source": [
        "def connect_to_endpoint(url, headers, params, next_token = None):\n",
        "    params['next_token'] = next_token \n",
        "    response = requests.request(\"GET\", url, headers = headers, params = params)\n",
        "    print(\"Endpoint Response Code: \" + str(response.status_code))\n",
        "    if response.status_code != 200:\n",
        "        raise Exception(response.status_code, response.text)\n",
        "    return response.json()"
      ],
      "metadata": {
        "id": "VelaIkAtchRD"
      },
      "execution_count": null,
      "outputs": []
    },
    {
      "cell_type": "code",
      "source": [
        "bearer_token = os.environ[\"BEARER_TOKEN\"]\n",
        "headers = get_headers(bearer_token)\n",
        "keyword = \"xbox lang:en\"\n",
        "start_time = \"2022-1-30T15:00:00.000Z\"\n",
        "end_time = \"2022-1-31T15:00:00.000Z\"\n",
        "max_results = 15"
      ],
      "metadata": {
        "id": "erA3e2MscwWQ"
      },
      "execution_count": null,
      "outputs": []
    },
    {
      "cell_type": "code",
      "source": [
        "url = create_url(keyword, start_time, end_time, max_results)\n",
        "#response = requests.request(\"GET\", url[0], headers = headers, params = url[1]).json()\n",
        "json_response = connect_to_endpoint(url[0], headers, url[1])"
      ],
      "metadata": {
        "colab": {
          "base_uri": "https://localhost:8080/"
        },
        "id": "6A3Ih6E7c01y",
        "outputId": "79da42ca-7424-4b4c-d335-94092d444dd1"
      },
      "execution_count": null,
      "outputs": [
        {
          "output_type": "stream",
          "name": "stdout",
          "text": [
            "Endpoint Response Code: 200\n"
          ]
        }
      ]
    },
    {
      "cell_type": "code",
      "source": [
        "df = pd.DataFrame(json_response['data'])\n",
        "df.to_csv('data.csv')"
      ],
      "metadata": {
        "id": "79ds2_MpdbuU"
      },
      "execution_count": null,
      "outputs": []
    }
  ]
}